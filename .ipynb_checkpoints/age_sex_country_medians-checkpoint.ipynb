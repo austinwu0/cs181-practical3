{
 "cells": [
  {
   "cell_type": "code",
   "execution_count": 1,
   "metadata": {
    "collapsed": true
   },
   "outputs": [],
   "source": [
    "import pandas as pd\n",
    "import numpy as np\n",
    "from collections import defaultdict\n",
    "from matplotlib import pyplot as plt\n",
    "%matplotlib inline\n",
    "\n",
    "profiles = pd.read_csv('helper/profiles.csv')\n",
    "train = pd.read_csv('helper/train.csv')\n",
    "artistdf = pd.read_pickle('helper/artist_df.pkl')"
   ]
  },
  {
   "cell_type": "code",
   "execution_count": 2,
   "metadata": {
    "collapsed": true
   },
   "outputs": [],
   "source": [
    "import json\n",
    "with open('artist_dict.txt') as infile:    \n",
    "    artist_dict = json.load(infile)"
   ]
  },
  {
   "cell_type": "code",
   "execution_count": 3,
   "metadata": {
    "collapsed": false
   },
   "outputs": [
    {
     "name": "stdout",
     "output_type": "stream",
     "text": [
      "(1988, 107)\n"
     ]
    }
   ],
   "source": [
    "artist_df = pd.DataFrame.from_dict(artist_dict, orient='index')\n",
    "artist_df.reset_index(level=0, inplace=True)\n",
    "artist_df.columns = artist_df.columns.str.replace('index','artist_id')\n",
    "print artist_df.shape"
   ]
  },
  {
   "cell_type": "code",
   "execution_count": 4,
   "metadata": {
    "collapsed": false
   },
   "outputs": [
    {
     "name": "stdout",
     "output_type": "stream",
     "text": [
      "Unique genres: 967\n"
     ]
    }
   ],
   "source": [
    "possible_genres = defaultdict(int)\n",
    "for artist_genres in artist_df.genres :\n",
    "    if artist_genres == ['(none)'] :\n",
    "        possible_genres[u\"Unknown\"] += 1\n",
    "    elif type(artist_genres) == list :\n",
    "        for genre in artist_genres :\n",
    "            possible_genres[genre] += 1\n",
    "possible_genres.pop('more', None)\n",
    "possible_genres.pop('Unknown', None)\n",
    "print \"Unique genres: \" + str(len(possible_genres.keys()))"
   ]
  },
  {
   "cell_type": "code",
   "execution_count": 5,
   "metadata": {
    "collapsed": true
   },
   "outputs": [],
   "source": [
    "import operator\n",
    "sorted_genres = sorted(possible_genres.items(), key=operator.itemgetter(1), reverse=True)"
   ]
  },
  {
   "cell_type": "code",
   "execution_count": 6,
   "metadata": {
    "collapsed": true
   },
   "outputs": [],
   "source": [
    "select_genres = [genre[0].replace(\"-\",\"\").replace(\" \",\"\") for genre in sorted_genres[0:26]]"
   ]
  },
  {
   "cell_type": "code",
   "execution_count": 7,
   "metadata": {
    "collapsed": false
   },
   "outputs": [
    {
     "name": "stdout",
     "output_type": "stream",
     "text": [
      "(1988, 132)\n"
     ]
    }
   ],
   "source": [
    "for genre in select_genres :\n",
    "    artist_df[\"genre_\" + genre] = [0 if type(artist_genres) != type([]) else 1 if genre in artist_genres else 0 for artist_genres in artist_df.genres]\n",
    "artist_df.drop('genres', axis=1, inplace=True)\n",
    "print artist_df.shape"
   ]
  },
  {
   "cell_type": "code",
   "execution_count": 8,
   "metadata": {
    "collapsed": false
   },
   "outputs": [
    {
     "name": "stdout",
     "output_type": "stream",
     "text": [
      "(1988, 27)\n"
     ]
    }
   ],
   "source": [
    "keep_cols = [col for col in artist_df.columns if (\"artist_id\" in col) or (\"genre_\" in col)]\n",
    "artist_df = artist_df[keep_cols]\n",
    "print artist_df.shape\n",
    "\n",
    "artist_df.rename(columns={'artist_id': 'artist'}, inplace=True)"
   ]
  },
  {
   "cell_type": "code",
   "execution_count": 9,
   "metadata": {
    "collapsed": true
   },
   "outputs": [],
   "source": [
    "merged_train = pd.merge(train, artist_df, on = \"artist\")\n",
    "for col in merged_train.columns :\n",
    "    if col not in ['user','artist','plays'] :\n",
    "        merged_train[col] *= merged_train['plays']"
   ]
  },
  {
   "cell_type": "code",
   "execution_count": 10,
   "metadata": {
    "collapsed": true
   },
   "outputs": [],
   "source": [
    "summed_train = merged_train.drop(['plays','artist'], axis=1).groupby('user').sum()"
   ]
  },
  {
   "cell_type": "code",
   "execution_count": 11,
   "metadata": {
    "collapsed": true
   },
   "outputs": [],
   "source": [
    "summed_train.reset_index(inplace=True)"
   ]
  },
  {
   "cell_type": "code",
   "execution_count": 37,
   "metadata": {
    "collapsed": true
   },
   "outputs": [],
   "source": [
    "def Randomizing(df):\n",
    "    touse = df.copy()\n",
    "    df2 = touse.reindex(np.random.permutation(df.index))\n",
    "    return(df2)"
   ]
  },
  {
   "cell_type": "code",
   "execution_count": 175,
   "metadata": {
    "collapsed": false
   },
   "outputs": [],
   "source": [
    "df_randomized = Randomizing(summed_train)\n",
    "X_train = df_randomized[0:100000].drop('user',axis=1)\n",
    "X_train_users = df_randomized[0:100000]['user']\n",
    "X_test = df_randomized[100000:150000].drop('user',axis=1)\n",
    "X_test_users = df_randomized[100000:150000]['user']"
   ]
  },
  {
   "cell_type": "code",
   "execution_count": 140,
   "metadata": {
    "collapsed": false
   },
   "outputs": [],
   "source": [
    "from sklearn.cluster import KMeans\n",
    "import time"
   ]
  },
  {
   "cell_type": "code",
   "execution_count": 171,
   "metadata": {
    "collapsed": false
   },
   "outputs": [
    {
     "name": "stdout",
     "output_type": "stream",
     "text": [
      "197.612869\n"
     ]
    }
   ],
   "source": [
    "start = time.clock()\n",
    "k_means = KMeans(n_clusters=100)\n",
    "k_means.fit(X_train)\n",
    "print (time.clock() - start)"
   ]
  },
  {
   "cell_type": "code",
   "execution_count": 176,
   "metadata": {
    "collapsed": false,
    "scrolled": true
   },
   "outputs": [],
   "source": [
    "pred = k_means.predict(X_test)"
   ]
  },
  {
   "cell_type": "code",
   "execution_count": 177,
   "metadata": {
    "collapsed": false
   },
   "outputs": [],
   "source": [
    "from functools import partial\n",
    "GLOBAL_ARTIST_MEDIAN = 113\n",
    "cluster_artist = defaultdict(partial(defaultdict,partial(int,GLOBAL_ARTIST_MEDIAN)))"
   ]
  },
  {
   "cell_type": "code",
   "execution_count": 178,
   "metadata": {
    "collapsed": false
   },
   "outputs": [],
   "source": [
    "for i in range(len(np.unique(k_means.labels_))) :\n",
    "    cluster_specific = train[train.user.isin(X_train_users[k_means.labels_ == 0].tolist())]\n",
    "    for artist in cluster_specific.groupby('artist') :\n",
    "        cluster_artist[i][artist[0]] = artist[1]['plays'].median()"
   ]
  },
  {
   "cell_type": "code",
   "execution_count": 179,
   "metadata": {
    "collapsed": false
   },
   "outputs": [],
   "source": [
    "with open('cluster_artist.txt', 'w') as outfile:\n",
    "    json.dump(cluster_artist, outfile)"
   ]
  },
  {
   "cell_type": "code",
   "execution_count": 180,
   "metadata": {
    "collapsed": false
   },
   "outputs": [],
   "source": [
    "test_dump = train[train.user.isin(X_test_users.tolist())]"
   ]
  },
  {
   "cell_type": "code",
   "execution_count": 181,
   "metadata": {
    "collapsed": false
   },
   "outputs": [],
   "source": [
    "pred_df = pd.DataFrame()\n",
    "pred_df['user'] = X_test_users.tolist()\n",
    "pred_df['pred'] = pred"
   ]
  },
  {
   "cell_type": "code",
   "execution_count": 182,
   "metadata": {
    "collapsed": false
   },
   "outputs": [],
   "source": [
    "test_dump = test_dump.merge(pred_df, on=\"user\")"
   ]
  },
  {
   "cell_type": "code",
   "execution_count": 183,
   "metadata": {
    "collapsed": false
   },
   "outputs": [],
   "source": [
    "X_test = test_dump[['pred','artist']]\n",
    "y_test = test_dump['plays']"
   ]
  },
  {
   "cell_type": "code",
   "execution_count": 184,
   "metadata": {
    "collapsed": false,
    "scrolled": true
   },
   "outputs": [
    {
     "name": "stdout",
     "output_type": "stream",
     "text": [
      "100000\n",
      "200000\n",
      "300000\n",
      "400000\n",
      "500000\n",
      "600000\n",
      "700000\n",
      "800000\n"
     ]
    }
   ],
   "source": [
    "i = 0\n",
    "plays_pred = []\n",
    "\n",
    "for el in X_test.iterrows() :\n",
    "    i += 1\n",
    "    if i % 100000 == 0 :\n",
    "        print i\n",
    "    pred = el[1]['pred']\n",
    "    artist = el[1]['artist']\n",
    "    plays_pred.append(cluster_artist[pred][artist])"
   ]
  },
  {
   "cell_type": "code",
   "execution_count": 185,
   "metadata": {
    "collapsed": false
   },
   "outputs": [],
   "source": [
    "def MAE(arr1, arr2) :\n",
    "    if len(arr1) == len(arr2) :\n",
    "        plt.hist((arr1-arr2),bins=range(-1000,1000,100))\n",
    "        print 1.0/len(arr1) * np.sum(np.abs(arr1 - arr2))\n",
    "    else :\n",
    "        print \"Array not the same length\""
   ]
  },
  {
   "cell_type": "code",
   "execution_count": 186,
   "metadata": {
    "collapsed": false
   },
   "outputs": [
    {
     "name": "stdout",
     "output_type": "stream",
     "text": [
      "204.052713161\n"
     ]
    },
    {
     "data": {
      "image/png": "[encoded data removed]",
      "text/plain": [
       "<matplotlib.figure.Figure at 0x1163b9210>"
      ]
     },
     "metadata": {},
     "output_type": "display_data"
    }
   ],
   "source": [
    "MAE(plays_pred, y_test)"
   ]
  },
  {
   "cell_type": "code",
   "execution_count": 187,
   "metadata": {
    "collapsed": false
   },
   "outputs": [
    {
     "name": "stdout",
     "output_type": "stream",
     "text": [
      "206.960455\n"
     ]
    },
    {
     "data": {
      "image/png": "[encoded data removed]",
      "text/plain": [
       "<matplotlib.figure.Figure at 0x112f69350>"
      ]
     },
     "metadata": {},
     "output_type": "display_data"
    }
   ],
   "source": [
    "remove = np.argmax(y_test)\n",
    "MAE(plays_pred[0:100000],y_test[0:100000])"
   ]
  },
  {
   "cell_type": "code",
   "execution_count": null,
   "metadata": {
    "collapsed": true
   },
   "outputs": [],
   "source": []
  },
  {
   "cell_type": "code",
   "execution_count": null,
   "metadata": {
    "collapsed": true
   },
   "outputs": [],
   "source": []
  },
  {
   "cell_type": "code",
   "execution_count": null,
   "metadata": {
    "collapsed": true
   },
   "outputs": [],
   "source": []
  },
  {
   "cell_type": "code",
   "execution_count": null,
   "metadata": {
    "collapsed": true
   },
   "outputs": [],
   "source": []
  },
  {
   "cell_type": "code",
   "execution_count": null,
   "metadata": {
    "collapsed": true
   },
   "outputs": [],
   "source": []
  }
 ],
 "metadata": {
  "kernelspec": {
   "display_name": "Python 2",
   "language": "python",
   "name": "python2"
  },
  "language_info": {
   "codemirror_mode": {
    "name": "ipython",
    "version": 2
   },
   "file_extension": ".py",
   "mimetype": "text/x-python",
   "name": "python",
   "nbconvert_exporter": "python",
   "pygments_lexer": "ipython2",
   "version": "2.7.10"
  }
 },
 "nbformat": 4,
 "nbformat_minor": 0
}
