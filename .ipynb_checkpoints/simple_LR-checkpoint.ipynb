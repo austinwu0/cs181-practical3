{
 "cells": [
  {
   "cell_type": "code",
   "execution_count": 92,
   "metadata": {
    "collapsed": true
   },
   "outputs": [],
   "source": [
    "import pandas as pd\n",
    "import numpy as np\n",
    "from matplotlib import pyplot as plt\n",
    "import random\n",
    "from collections import defaultdict\n",
    "%matplotlib inline"
   ]
  },
  {
   "cell_type": "code",
   "execution_count": 106,
   "metadata": {
    "collapsed": true
   },
   "outputs": [],
   "source": [
    "test2 = pd.read_csv(\"helper/test.csv\")\n",
    "train = pd.read_csv(\"helper/train.csv\")\n",
    "artists = pd.read_csv(\"helper/artists.csv\")\n",
    "profiles = pd.read_csv(\"helper/profiles.csv\")\n",
    "\n",
    "median_age = profiles.age.median()\n",
    "profiles.age = [median_age if (age > 110) or (age < 0) else age for age in profiles.age]"
   ]
  },
  {
   "cell_type": "code",
   "execution_count": 70,
   "metadata": {
    "collapsed": false
   },
   "outputs": [
    {
     "data": {
      "text/plain": [
       "(2000, 201)"
      ]
     },
     "execution_count": 70,
     "metadata": {},
     "output_type": "execute_result"
    }
   ],
   "source": [
    "artistdf = pd.read_pickle('helper/artist_df.pkl')\n",
    "artistdf = artistdf.rename(columns={'artist_id' : 'artist'})\n",
    "artistdf.shape"
   ]
  },
  {
   "cell_type": "code",
   "execution_count": 56,
   "metadata": {
    "collapsed": true
   },
   "outputs": [],
   "source": [
    "n_user_plays = {}\n",
    "for user in train.groupby('user') :\n",
    "    n_user_plays[user[0]] = len(user[1])"
   ]
  },
  {
   "cell_type": "code",
   "execution_count": 57,
   "metadata": {
    "collapsed": false
   },
   "outputs": [
    {
     "name": "stdout",
     "output_type": "stream",
     "text": [
      "CPU times: user 2 µs, sys: 1e+03 ns, total: 3 µs\n",
      "Wall time: 5.01 µs\n"
     ]
    }
   ],
   "source": [
    "%time\n",
    "user_medians = {}\n",
    "for user in train.groupby('user') :\n",
    "    user_medians[user[0]] = user[1]['plays'].median()"
   ]
  },
  {
   "cell_type": "code",
   "execution_count": 58,
   "metadata": {
    "collapsed": false
   },
   "outputs": [
    {
     "name": "stdout",
     "output_type": "stream",
     "text": [
      "106.0\n"
     ]
    }
   ],
   "source": [
    "GLOBAL_USER_MEDIAN = np.median(user_medians.values())\n",
    "print GLOBAL_USER_MEDIAN"
   ]
  },
  {
   "cell_type": "code",
   "execution_count": 59,
   "metadata": {
    "collapsed": false
   },
   "outputs": [
    {
     "name": "stdout",
     "output_type": "stream",
     "text": [
      "CPU times: user 3 µs, sys: 2 µs, total: 5 µs\n",
      "Wall time: 8.11 µs\n"
     ]
    }
   ],
   "source": [
    "%time\n",
    "artist_medians = {}\n",
    "for artist in train.groupby('artist') :\n",
    "    artist_medians[artist[0]] = artist[1]['plays'].median()"
   ]
  },
  {
   "cell_type": "code",
   "execution_count": 60,
   "metadata": {
    "collapsed": false
   },
   "outputs": [
    {
     "name": "stdout",
     "output_type": "stream",
     "text": [
      "113.0\n"
     ]
    }
   ],
   "source": [
    "GLOBAL_ARTIST_MEDIAN = np.median(artist_medians.values())\n",
    "print GLOBAL_ARTIST_MEDIAN "
   ]
  },
  {
   "cell_type": "code",
   "execution_count": 61,
   "metadata": {
    "collapsed": true
   },
   "outputs": [],
   "source": [
    "def add_medians(traindf, testdf, GLOBAL_USER_MEDIAN, GLOBAL_ARTIST_MEDIAN) :\n",
    "    user_medians = defaultdict(lambda: GLOBAL_USER_MEDIAN)\n",
    "    artist_medians = defaultdict(lambda: GLOBAL_ARTIST_MEDIAN)\n",
    "\n",
    "    ldfu=traindf.groupby('user')\n",
    "    ldfa=traindf.groupby('artist')\n",
    "\n",
    "    for u in ldfu :\n",
    "        user_medians[u[0]] = u[1]['plays'].median()\n",
    "    for a in ldfa : \n",
    "        artist_medians[a[0]] = a[1]['plays'].median()\n",
    "\n",
    "    testdf['user_median'] = [user_medians[user] for user in testdf['user']]\n",
    "    testdf['artist_median'] = [artist_medians[artist] for artist in testdf['artist']]\n",
    "    \n",
    "    return testdf"
   ]
  },
  {
   "cell_type": "code",
   "execution_count": 4,
   "metadata": {
    "collapsed": false
   },
   "outputs": [],
   "source": [
    "def recompute_frame(ldf):\n",
    "    \"\"\"\n",
    "    takes a dataframe ldf, makes a copy of it, and returns the copy\n",
    "    with all averages and review counts recomputed\n",
    "    this is used when a frame is subsetted.\n",
    "    \"\"\"\n",
    "    ldfu=ldf.groupby('user')\n",
    "    ldfa=ldf.groupby('artist')\n",
    "    user_median=ldfu.plays.median()\n",
    "    user_artist_count=ldfu.artist.count()\n",
    "    artist_median=ldfa.plays.median()\n",
    "    artist_user_count=ldfa.user.count()\n",
    "    \n",
    "    nldf=ldf.copy()\n",
    "    nldf.set_index(['artist'], inplace=True)\n",
    "    nldf['artist_median']=artist_median\n",
    "    nldf['artist_user_count']=artist_user_count\n",
    "    nldf.reset_index(inplace=True)\n",
    "    nldf.set_index(['user'], inplace=True)\n",
    "    nldf['user_median']=user_median\n",
    "    nldf['user_artist_count']=user_artist_count\n",
    "    nldf.reset_index(inplace=True)\n",
    "    return nldf"
   ]
  },
  {
   "cell_type": "code",
   "execution_count": 62,
   "metadata": {
    "collapsed": true
   },
   "outputs": [],
   "source": [
    "def Randomizing(df):\n",
    "    touse = df.copy()\n",
    "    df2 = touse.reindex(np.random.permutation(df.index))\n",
    "    return(df2)\n",
    "df_randomized = Randomizing(train)"
   ]
  },
  {
   "cell_type": "code",
   "execution_count": 112,
   "metadata": {
    "collapsed": true
   },
   "outputs": [],
   "source": [
    "train = df_randomized\n",
    "test = test2.copy()"
   ]
  },
  {
   "cell_type": "code",
   "execution_count": 113,
   "metadata": {
    "collapsed": false
   },
   "outputs": [],
   "source": [
    "artistdf = pd.read_pickle('helper/artist_df.pkl')\n",
    "artistdf = artistdf.rename(columns={'artist_id' : 'artist'})\n",
    "artistdf.shape\n",
    "\n",
    "big_train=recompute_frame(train)\n",
    "big_train.drop(['artist_user_count','user_artist_count'],axis=1,inplace=True)\n",
    "merged = pd.merge(big_train, profiles, on=\"user\")\n",
    "merged['is_male'] = pd.get_dummies(merged['sex'])['m']\n",
    "merged.drop(['sex'],axis=1,inplace=True)\n",
    "\n",
    "country_list = defaultdict(int)\n",
    "for country in profiles['country'] :\n",
    "    country_list[country] += 1\n",
    "    \n",
    "for country in country_list.keys() :\n",
    "    if country_list[country] > 2000 :\n",
    "        merged[str(country)] = [1 if country == someCountry else 0 for someCountry in merged['country']]\n",
    "        \n",
    "artistdf.drop(['std','name','median','mean','is_male','is_indiv'],axis=1,inplace=True)\n",
    "artistdf.drop([col for col in artistdf.columns if 'begin_' in col],axis=1,inplace=True)\n",
    "artistdf.drop([col for col in artistdf.columns if 'label_' in col],axis=1,inplace=True)\n",
    "#artistdf.drop([col for col in artistdf.columns if 'area_' in col],axis=1,inplace=True)\n",
    "\n",
    "sample = pd.merge(merged, artistdf, on=\"artist\")"
   ]
  },
  {
   "cell_type": "code",
   "execution_count": 114,
   "metadata": {
    "collapsed": false
   },
   "outputs": [],
   "source": [
    "y_train = sample['plays']\n",
    "x_train = sample.drop(['user','artist','plays','country'],axis=1).fillna(0)"
   ]
  },
  {
   "cell_type": "code",
   "execution_count": 115,
   "metadata": {
    "collapsed": false
   },
   "outputs": [
    {
     "data": {
      "text/plain": [
       "LinearRegression(copy_X=True, fit_intercept=True, n_jobs=1, normalize=False)"
      ]
     },
     "execution_count": 115,
     "metadata": {},
     "output_type": "execute_result"
    }
   ],
   "source": [
    "from sklearn.linear_model import LinearRegression\n",
    "LR = LinearRegression()\n",
    "LR.fit(x_train,y_train)"
   ]
  },
  {
   "cell_type": "code",
   "execution_count": 116,
   "metadata": {
    "collapsed": false
   },
   "outputs": [],
   "source": [
    "artistdf = pd.read_pickle('helper/artist_df.pkl')\n",
    "artistdf = artistdf.rename(columns={'artist_id' : 'artist'})\n",
    "artistdf.shape\n",
    "\n",
    "big_test=add_medians(train, test, GLOBAL_USER_MEDIAN, GLOBAL_ARTIST_MEDIAN)\n",
    "#big_test.drop(['artist_user_count','user_artist_count'],axis=1,inplace=True)\n",
    "merged = pd.merge(big_test, profiles, on=\"user\")\n",
    "merged['is_male'] = pd.get_dummies(merged['sex'])['m']\n",
    "merged.drop(['sex'],axis=1,inplace=True)\n",
    "\n",
    "country_list = defaultdict(int)\n",
    "for country in profiles['country'] :\n",
    "    country_list[country] += 1\n",
    "    \n",
    "for country in country_list.keys() :\n",
    "    if country_list[country] > 2000 :\n",
    "        merged[str(country)] = [1 if country == someCountry else 0 for someCountry in merged['country']]\n",
    "\n",
    "artistdf.drop(['std','name','median','mean','is_male','is_indiv'],axis=1,inplace=True)\n",
    "artistdf.drop([col for col in artistdf.columns if 'begin_' in col],axis=1,inplace=True)\n",
    "artistdf.drop([col for col in artistdf.columns if 'label_' in col],axis=1,inplace=True)\n",
    "#artistdf.drop([col for col in artistdf.columns if 'area_' in col],axis=1,inplace=True)\n",
    "\n",
    "sample = pd.merge(merged, artistdf, on=\"artist\")"
   ]
  },
  {
   "cell_type": "code",
   "execution_count": 117,
   "metadata": {
    "collapsed": false
   },
   "outputs": [],
   "source": [
    "#y_test = sample['plays']\n",
    "x_test = sample.drop(['user','artist','country'],axis=1).fillna(0)"
   ]
  },
  {
   "cell_type": "code",
   "execution_count": 118,
   "metadata": {
    "collapsed": false
   },
   "outputs": [],
   "source": [
    "y_pred = LR.predict(x_test)"
   ]
  },
  {
   "cell_type": "code",
   "execution_count": 103,
   "metadata": {
    "collapsed": true
   },
   "outputs": [],
   "source": [
    "def MAE(arr1, arr2) :\n",
    "    if len(arr1) == len(arr2) :\n",
    "        plt.hist(np.abs(arr1-arr2));\n",
    "        print 1.0/len(arr1) * np.sum(np.abs(arr1 - arr2))\n",
    "    else :\n",
    "        print \"Array not the same length\""
   ]
  },
  {
   "cell_type": "code",
   "execution_count": 104,
   "metadata": {
    "collapsed": false
   },
   "outputs": [
    {
     "name": "stdout",
     "output_type": "stream",
     "text": [
      "193.229654917\n"
     ]
    },
    {
     "data": {
      "image/png": "[encoded data removed]",
      "text/plain": [
       "<matplotlib.figure.Figure at 0x11dcb8510>"
      ]
     },
     "metadata": {},
     "output_type": "display_data"
    }
   ],
   "source": [
    "MAE(y_pred,y_test)"
   ]
  },
  {
   "cell_type": "code",
   "execution_count": 123,
   "metadata": {
    "collapsed": false
   },
   "outputs": [],
   "source": [
    "toExport = pd.DataFrame()\n",
    "toExport['Id'] = ids\n",
    "toExport['plays'] = y_pred\n",
    "toExport.to_csv('upload.csv',index=False)"
   ]
  },
  {
   "cell_type": "code",
   "execution_count": 110,
   "metadata": {
    "collapsed": false
   },
   "outputs": [],
   "source": [
    "ids = test2['Id']\n",
    "test2.drop('Id',axis=1,inplace=True)"
   ]
  },
  {
   "cell_type": "code",
   "execution_count": 121,
   "metadata": {
    "collapsed": false
   },
   "outputs": [
    {
     "data": {
      "text/html": [
       "<div>\n",
       "<table border=\"1\" class=\"dataframe\">\n",
       "  <thead>\n",
       "    <tr style=\"text-align: right;\">\n",
       "      <th></th>\n",
       "      <th>Id</th>\n",
       "      <th>pred</th>\n",
       "    </tr>\n",
       "  </thead>\n",
       "  <tbody>\n",
       "    <tr>\n",
       "      <th>0</th>\n",
       "      <td>1</td>\n",
       "      <td>179.198856</td>\n",
       "    </tr>\n",
       "    <tr>\n",
       "      <th>1</th>\n",
       "      <td>2</td>\n",
       "      <td>657.537480</td>\n",
       "    </tr>\n",
       "    <tr>\n",
       "      <th>2</th>\n",
       "      <td>3</td>\n",
       "      <td>198.310617</td>\n",
       "    </tr>\n",
       "    <tr>\n",
       "      <th>3</th>\n",
       "      <td>4</td>\n",
       "      <td>153.721453</td>\n",
       "    </tr>\n",
       "    <tr>\n",
       "      <th>4</th>\n",
       "      <td>5</td>\n",
       "      <td>221.199193</td>\n",
       "    </tr>\n",
       "  </tbody>\n",
       "</table>\n",
       "</div>"
      ],
      "text/plain": [
       "   Id        pred\n",
       "0   1  179.198856\n",
       "1   2  657.537480\n",
       "2   3  198.310617\n",
       "3   4  153.721453\n",
       "4   5  221.199193"
      ]
     },
     "execution_count": 121,
     "metadata": {},
     "output_type": "execute_result"
    }
   ],
   "source": [
    "toExport.head()"
   ]
  },
  {
   "cell_type": "code",
   "execution_count": 125,
   "metadata": {
    "collapsed": false
   },
   "outputs": [],
   "source": [
    "user_median = pd.read_csv(\"user_median.csv\")"
   ]
  },
  {
   "cell_type": "code",
   "execution_count": 126,
   "metadata": {
    "collapsed": false
   },
   "outputs": [
    {
     "data": {
      "text/html": [
       "<div>\n",
       "<table border=\"1\" class=\"dataframe\">\n",
       "  <thead>\n",
       "    <tr style=\"text-align: right;\">\n",
       "      <th></th>\n",
       "      <th>Id</th>\n",
       "      <th>plays</th>\n",
       "    </tr>\n",
       "  </thead>\n",
       "  <tbody>\n",
       "    <tr>\n",
       "      <th>0</th>\n",
       "      <td>1</td>\n",
       "      <td>72.5</td>\n",
       "    </tr>\n",
       "    <tr>\n",
       "      <th>1</th>\n",
       "      <td>2</td>\n",
       "      <td>143.5</td>\n",
       "    </tr>\n",
       "    <tr>\n",
       "      <th>2</th>\n",
       "      <td>3</td>\n",
       "      <td>207.0</td>\n",
       "    </tr>\n",
       "    <tr>\n",
       "      <th>3</th>\n",
       "      <td>4</td>\n",
       "      <td>307.0</td>\n",
       "    </tr>\n",
       "    <tr>\n",
       "      <th>4</th>\n",
       "      <td>5</td>\n",
       "      <td>109.0</td>\n",
       "    </tr>\n",
       "    <tr>\n",
       "      <th>5</th>\n",
       "      <td>6</td>\n",
       "      <td>124.0</td>\n",
       "    </tr>\n",
       "    <tr>\n",
       "      <th>6</th>\n",
       "      <td>7</td>\n",
       "      <td>336.0</td>\n",
       "    </tr>\n",
       "    <tr>\n",
       "      <th>7</th>\n",
       "      <td>8</td>\n",
       "      <td>118.0</td>\n",
       "    </tr>\n",
       "    <tr>\n",
       "      <th>8</th>\n",
       "      <td>9</td>\n",
       "      <td>443.5</td>\n",
       "    </tr>\n",
       "    <tr>\n",
       "      <th>9</th>\n",
       "      <td>10</td>\n",
       "      <td>148.0</td>\n",
       "    </tr>\n",
       "  </tbody>\n",
       "</table>\n",
       "</div>"
      ],
      "text/plain": [
       "   Id  plays\n",
       "0   1   72.5\n",
       "1   2  143.5\n",
       "2   3  207.0\n",
       "3   4  307.0\n",
       "4   5  109.0\n",
       "5   6  124.0\n",
       "6   7  336.0\n",
       "7   8  118.0\n",
       "8   9  443.5\n",
       "9  10  148.0"
      ]
     },
     "execution_count": 126,
     "metadata": {},
     "output_type": "execute_result"
    }
   ],
   "source": [
    "user_median[0:10]"
   ]
  },
  {
   "cell_type": "code",
   "execution_count": 129,
   "metadata": {
    "collapsed": false
   },
   "outputs": [
    {
     "data": {
      "text/html": [
       "<div>\n",
       "<table border=\"1\" class=\"dataframe\">\n",
       "  <thead>\n",
       "    <tr style=\"text-align: right;\">\n",
       "      <th></th>\n",
       "      <th>user</th>\n",
       "      <th>artist</th>\n",
       "      <th>user_median</th>\n",
       "      <th>artist_median</th>\n",
       "    </tr>\n",
       "  </thead>\n",
       "  <tbody>\n",
       "    <tr>\n",
       "      <th>0</th>\n",
       "      <td>306e19cce2522fa2d39ff5dfc870992100ec22d2</td>\n",
       "      <td>4ac4e32b-bd18-402e-adad-ae00e72f8d85</td>\n",
       "      <td>72.5</td>\n",
       "      <td>176.0</td>\n",
       "    </tr>\n",
       "    <tr>\n",
       "      <th>1</th>\n",
       "      <td>9450d351278df4938bdea4ed86aec940a4e927ac</td>\n",
       "      <td>1f574ab1-a46d-4586-9331-f0ded23e0411</td>\n",
       "      <td>143.5</td>\n",
       "      <td>111.0</td>\n",
       "    </tr>\n",
       "    <tr>\n",
       "      <th>2</th>\n",
       "      <td>801909d6955f59033c88595d3d7f8a6a5dcd53cc</td>\n",
       "      <td>3eb72791-6322-466b-87d3-24d74901eb2d</td>\n",
       "      <td>207.0</td>\n",
       "      <td>138.5</td>\n",
       "    </tr>\n",
       "    <tr>\n",
       "      <th>3</th>\n",
       "      <td>e3ed47445c127fbeff47fb58f6bbf2f3b4535d82</td>\n",
       "      <td>61604b45-8a91-4e33-a1b6-45d7b1fec4e5</td>\n",
       "      <td>307.0</td>\n",
       "      <td>169.5</td>\n",
       "    </tr>\n",
       "    <tr>\n",
       "      <th>4</th>\n",
       "      <td>a73f46652103f3a5f7429159310f6928f79644aa</td>\n",
       "      <td>5dfdca28-9ddc-4853-933c-8bc97d87beec</td>\n",
       "      <td>109.0</td>\n",
       "      <td>135.0</td>\n",
       "    </tr>\n",
       "  </tbody>\n",
       "</table>\n",
       "</div>"
      ],
      "text/plain": [
       "                                       user  \\\n",
       "0  306e19cce2522fa2d39ff5dfc870992100ec22d2   \n",
       "1  9450d351278df4938bdea4ed86aec940a4e927ac   \n",
       "2  801909d6955f59033c88595d3d7f8a6a5dcd53cc   \n",
       "3  e3ed47445c127fbeff47fb58f6bbf2f3b4535d82   \n",
       "4  a73f46652103f3a5f7429159310f6928f79644aa   \n",
       "\n",
       "                                 artist  user_median  artist_median  \n",
       "0  4ac4e32b-bd18-402e-adad-ae00e72f8d85         72.5          176.0  \n",
       "1  1f574ab1-a46d-4586-9331-f0ded23e0411        143.5          111.0  \n",
       "2  3eb72791-6322-466b-87d3-24d74901eb2d        207.0          138.5  \n",
       "3  61604b45-8a91-4e33-a1b6-45d7b1fec4e5        307.0          169.5  \n",
       "4  5dfdca28-9ddc-4853-933c-8bc97d87beec        109.0          135.0  "
      ]
     },
     "execution_count": 129,
     "metadata": {},
     "output_type": "execute_result"
    }
   ],
   "source": [
    "test.head()"
   ]
  },
  {
   "cell_type": "code",
   "execution_count": 135,
   "metadata": {
    "collapsed": false
   },
   "outputs": [
    {
     "name": "stdout",
     "output_type": "stream",
     "text": [
      "user\n",
      "artist\n",
      "user_median\n",
      "artist_median\n",
      "age\n",
      "country\n",
      "is_male\n",
      "Canada\n",
      "Russian Federation\n",
      "Spain\n",
      "Netherlands\n",
      "Finland\n",
      "Turkey\n",
      "Czech Republic\n",
      "France\n",
      "Norway\n",
      "United States\n",
      "Sweden\n",
      "Austria\n",
      "Brazil\n",
      "Australia\n",
      "Belgium\n",
      "Switzerland\n",
      "Portugal\n",
      "Italy\n",
      "Germany\n",
      "Poland\n",
      "Mexico\n",
      "United Kingdom\n",
      "started\n",
      "tw_followers\n",
      "youtube_subs\n",
      "n_single\n",
      "ntweets\n",
      "popularity\n",
      "n_live\n",
      "n_album\n",
      "n_ep\n",
      "sp_followers\n",
      "n_unspecified_type\n",
      "n_other\n",
      "genre_newwave\n",
      "genre_rockandindie\n",
      "genre_folk\n",
      "genre_canadian\n",
      "genre_usa\n",
      "genre_indiepop\n",
      "genre_folkrock\n",
      "genre_indie\n",
      "genre_dance-pop\n",
      "genre_hip-hop\n",
      "genre_progressiverock\n",
      "genre_danceandelectronica\n",
      "genre_rock\n",
      "genre_european\n",
      "genre_electronica\n",
      "genre_poprock\n",
      "genre_punk\n",
      "genre_british\n",
      "genre_american\n",
      "genre_punkrock\n",
      "genre_electronic\n",
      "genre_powermetal\n",
      "genre_popandchart\n",
      "genre_hiphop\n",
      "genre_electropop\n",
      "genre_german\n",
      "genre_jazz\n",
      "genre_bluesrock\n",
      "genre_heavymetal\n",
      "genre_pop\n",
      "genre_alternativerock\n",
      "genre_deathmetal\n",
      "genre_hardrock\n",
      "genre_ambient\n",
      "genre_classicpopandrock\n",
      "genre_english\n",
      "genre_alternative\n",
      "genre_américain\n",
      "genre_classical\n",
      "genre_downtempo\n",
      "genre_hiphoprnbanddancehall\n",
      "genre_alternativemetal\n",
      "genre_indierock\n",
      "genre_uk\n",
      "genre_metal\n",
      "genre_britannique\n",
      "genre_post-hardcore\n",
      "area_argentina\n",
      "area_australia\n",
      "area_austria\n",
      "area_belgium\n",
      "area_bermuda\n",
      "area_brazil\n",
      "area_canada\n",
      "area_cape-verde\n",
      "area_colombia\n",
      "area_cuba\n",
      "area_denmark\n",
      "area_finland\n",
      "area_france\n",
      "area_germany\n",
      "area_greece\n",
      "area_iceland\n",
      "area_india\n",
      "area_ireland\n",
      "area_israel\n",
      "area_italy\n",
      "area_jamaica\n",
      "area_japan\n",
      "area_jersey\n",
      "area_mali\n",
      "area_mexico\n",
      "area_netherlands\n",
      "area_new-zealand\n",
      "area_norway\n",
      "area_poland\n",
      "area_portugal\n",
      "area_russia\n",
      "area_senegal\n",
      "area_slovenia\n",
      "area_south-africa\n",
      "area_spain\n",
      "area_sweden\n",
      "area_switzerland\n",
      "area_ukraine\n",
      "area_united-kingdom\n",
      "area_united-states\n",
      "area_unknown\n",
      "area_uruguay\n",
      "is_female\n",
      "is_group\n"
     ]
    }
   ],
   "source": [
    "for col in sample.columns :\n",
    "    print col"
   ]
  },
  {
   "cell_type": "code",
   "execution_count": null,
   "metadata": {
    "collapsed": true
   },
   "outputs": [],
   "source": []
  }
 ],
 "metadata": {
  "kernelspec": {
   "display_name": "Python 2",
   "language": "python",
   "name": "python2"
  },
  "language_info": {
   "codemirror_mode": {
    "name": "ipython",
    "version": 2
   },
   "file_extension": ".py",
   "mimetype": "text/x-python",
   "name": "python",
   "nbconvert_exporter": "python",
   "pygments_lexer": "ipython2",
   "version": "2.7.10"
  }
 },
 "nbformat": 4,
 "nbformat_minor": 0
}
