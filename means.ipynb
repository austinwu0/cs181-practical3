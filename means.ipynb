{
 "cells": [
  {
   "cell_type": "code",
   "execution_count": 1,
   "metadata": {
    "collapsed": true
   },
   "outputs": [],
   "source": [
    "import pandas as pd\n",
    "import numpy as np\n",
    "import requests\n",
    "import time\n",
    "import re\n",
    "from bs4 import BeautifulSoup\n",
    "from matplotlib import pyplot as plt"
   ]
  },
  {
   "cell_type": "code",
   "execution_count": 2,
   "metadata": {
    "collapsed": false
   },
   "outputs": [
    {
     "data": {
      "text/html": [
       "<div>\n",
       "<table border=\"1\" class=\"dataframe\">\n",
       "  <thead>\n",
       "    <tr style=\"text-align: right;\">\n",
       "      <th></th>\n",
       "      <th>user</th>\n",
       "      <th>artist</th>\n",
       "      <th>plays</th>\n",
       "    </tr>\n",
       "  </thead>\n",
       "  <tbody>\n",
       "    <tr>\n",
       "      <th>0</th>\n",
       "      <td>eb1c57ddc9e0e2d005169d3a1a96e8dd95e3af03</td>\n",
       "      <td>5a8e07d5-d932-4484-a7f7-e700793a9c94</td>\n",
       "      <td>554</td>\n",
       "    </tr>\n",
       "    <tr>\n",
       "      <th>1</th>\n",
       "      <td>44ce793a6cd9d20f13f4a576a818ef983314bb5d</td>\n",
       "      <td>a3a92047-be1c-4f3e-8960-c4f8570984df</td>\n",
       "      <td>81</td>\n",
       "    </tr>\n",
       "    <tr>\n",
       "      <th>2</th>\n",
       "      <td>da9cf3f557161d54b76f24db64be9cc76db008e3</td>\n",
       "      <td>eeb1195b-f213-4ce1-b28c-8565211f8e43</td>\n",
       "      <td>708</td>\n",
       "    </tr>\n",
       "    <tr>\n",
       "      <th>3</th>\n",
       "      <td>8fa49ab25d425edcf05d44bfc1d5aea895287d81</td>\n",
       "      <td>a1419808-65d3-4d40-998c-1a0bac65eabc</td>\n",
       "      <td>265</td>\n",
       "    </tr>\n",
       "    <tr>\n",
       "      <th>4</th>\n",
       "      <td>b85fcaef67d2669cd99b334b5e8c8705263db2cf</td>\n",
       "      <td>a3cb23fc-acd3-4ce0-8f36-1e5aa6a18432</td>\n",
       "      <td>220</td>\n",
       "    </tr>\n",
       "  </tbody>\n",
       "</table>\n",
       "</div>"
      ],
      "text/plain": [
       "                                       user  \\\n",
       "0  eb1c57ddc9e0e2d005169d3a1a96e8dd95e3af03   \n",
       "1  44ce793a6cd9d20f13f4a576a818ef983314bb5d   \n",
       "2  da9cf3f557161d54b76f24db64be9cc76db008e3   \n",
       "3  8fa49ab25d425edcf05d44bfc1d5aea895287d81   \n",
       "4  b85fcaef67d2669cd99b334b5e8c8705263db2cf   \n",
       "\n",
       "                                 artist  plays  \n",
       "0  5a8e07d5-d932-4484-a7f7-e700793a9c94    554  \n",
       "1  a3a92047-be1c-4f3e-8960-c4f8570984df     81  \n",
       "2  eeb1195b-f213-4ce1-b28c-8565211f8e43    708  \n",
       "3  a1419808-65d3-4d40-998c-1a0bac65eabc    265  \n",
       "4  a3cb23fc-acd3-4ce0-8f36-1e5aa6a18432    220  "
      ]
     },
     "execution_count": 2,
     "metadata": {},
     "output_type": "execute_result"
    }
   ],
   "source": [
    "test = pd.read_csv(\"test.csv\")\n",
    "train = pd.read_csv(\"train.csv\")\n",
    "artists = pd.read_csv(\"artists.csv\")\n",
    "train.head()"
   ]
  },
  {
   "cell_type": "code",
   "execution_count": 34,
   "metadata": {
    "collapsed": false
   },
   "outputs": [],
   "source": [
    "grouped_by_user = train.groupby('user')\n",
    "user_means = grouped_by_user['plays'].mean()\n",
    "user_medians = grouped_by_user['plays'].median()\n",
    "user_stds = grouped_by_user['plays'].std()\n",
    "user_ids = user_means.index\n",
    "\n",
    "user_stats = {}\n",
    "for i in range(len(grouped_by_user)) :\n",
    "    user_stats[user_ids[i]] = {\n",
    "        'mean' : user_means[i],\n",
    "        'std' : user_stds[i],\n",
    "        'median' : user_medians[i]\n",
    "    }"
   ]
  },
  {
   "cell_type": "code",
   "execution_count": 258,
   "metadata": {
    "collapsed": false
   },
   "outputs": [],
   "source": [
    "grouped_by_artist = train.groupby('artist')\n",
    "artist_means = grouped_by_artist['plays'].mean()\n",
    "artist_medians = grouped_by_artist['plays'].median()\n",
    "artist_stds = grouped_by_artist['plays'].std()\n",
    "artist_ids = artist_means.index\n",
    "\n",
    "artist_stats = {}\n",
    "for i in range(len(grouped_by_artist)) :\n",
    "    artist_stats[artist_ids[i]] = {\n",
    "        'mean' : artist_means[i],\n",
    "        'std' : artist_stds[i],\n",
    "        'median' : artist_medians[i]\n",
    "    }"
   ]
  },
  {
   "cell_type": "code",
   "execution_count": 38,
   "metadata": {
    "collapsed": true
   },
   "outputs": [],
   "source": [
    "GLOBAL_MEAN = np.mean(train.plays)\n",
    "GLOBAL_MEDIAN = np.median(train.plays)"
   ]
  },
  {
   "cell_type": "code",
   "execution_count": 415,
   "metadata": {
    "collapsed": false,
    "scrolled": true
   },
   "outputs": [],
   "source": [
    "def is_ascii(s):\n",
    "    return all(ord(c) < 128 for c in s)\n",
    "\n",
    "def get_wiki_url(artist, search_engine) :\n",
    "    if pd.isnull(artist) == False and is_ascii(artist) :\n",
    "        fixArtist = artist.replace(\" \",\"+\").replace(\"&\",\"%26\")\n",
    "        \n",
    "        if search_engine == \"Yahoo\" :\n",
    "            var = requests.get('https://search.yahoo.com/search;_ylt=A0oG7l7PeB5P3G0AKASl87UF?p=site:wikipedia.org+'+fixArtist+'+music+band+artist')\n",
    "        elif search_engine == \"Bing\" :\n",
    "            var = requests.get('http://www.bing.com/search?q=site%3Awikipedia.org+'+fixArtist+'+music+band+artist')\n",
    "        elif search_engine == \"AOL\" :\n",
    "            var = requests.get('http://search.aol.com/aol/search?enabled_terms=&s_it=comsearch&q=site%3Awikipedia.org+'+fixArtist+\"+music+band+artist\")\n",
    "        else :\n",
    "            sys.exit(\"Out of search engines!\")\n",
    "                               \n",
    "        soup = BeautifulSoup(var.text, \"html.parser\")\n",
    "        relevant = [link for link in [el.get(\"href\") for el in soup.find_all('a')] if type(link) == unicode and re.search('^https://en.wikipedia.org/', link)]\n",
    "        if len(relevant) > 0 :\n",
    "            return relevant[0]\n",
    "        else :\n",
    "            return \"Unknown\"\n",
    "\n",
    "    else :\n",
    "        return \"Unknown\""
   ]
  },
  {
   "cell_type": "code",
   "execution_count": 264,
   "metadata": {
    "collapsed": false
   },
   "outputs": [],
   "source": [
    "artist_list = list(set(artists.name))\n",
    "#artist_count = 0"
   ]
  },
  {
   "cell_type": "code",
   "execution_count": 420,
   "metadata": {
    "collapsed": false,
    "scrolled": true
   },
   "outputs": [
    {
     "name": "stdout",
     "output_type": "stream",
     "text": [
      "Already finished\n"
     ]
    }
   ],
   "source": [
    "if artist_count < len(artist_list) :\n",
    "    for j in range(artist_count,len(artist_list)) :\n",
    "        print j\n",
    "\n",
    "        artist_name = str(artist_list[j])\n",
    "\n",
    "        if artist_name != \"nan\" :\n",
    "            artist_id = artists[artists.name == artist_name]['artist'].values[0]\n",
    "\n",
    "            #try :\n",
    "            #    artist_stats[artist_id]['url'] = get_wiki_url(artist_name, \"Yahoo\")\n",
    "            try : \n",
    "                artist_stats[artist_id]['url'] = get_wiki_url(artist_name, \"Bing\")\n",
    "            #try : \n",
    "            #    artist_stats[artist_id]['url'] = get_wiki_url(artist_name, \"AOL\")\n",
    "            except :\n",
    "                break\n",
    "\n",
    "        artist_count += 1\n",
    "else :\n",
    "    print \"Already finished\""
   ]
  },
  {
   "cell_type": "code",
   "execution_count": 427,
   "metadata": {
    "collapsed": false
   },
   "outputs": [],
   "source": [
    "missing_artists = []\n",
    "for key in artist_stats.keys() :\n",
    "    if len(artist_stats[key]) != 4 :\n",
    "        missing_artists.append(key)"
   ]
  },
  {
   "cell_type": "code",
   "execution_count": 429,
   "metadata": {
    "collapsed": false
   },
   "outputs": [],
   "source": [
    "for missing_id in missing_artists :\n",
    "    artist_name = artists[artists.artist == missing_id]['name'].values[0]\n",
    "    try : \n",
    "        artist_stats[missing_id]['url'] = get_wiki_url(artist_name, \"Bing\")\n",
    "    except :\n",
    "        break"
   ]
  },
  {
   "cell_type": "code",
   "execution_count": 433,
   "metadata": {
    "collapsed": false
   },
   "outputs": [],
   "source": [
    "for key in artist_stats.keys() :\n",
    "    artist_name = artists[artists.artist == key]['name'].values[0]\n",
    "    artist_stats[key]['name'] = artist_name"
   ]
  },
  {
   "cell_type": "code",
   "execution_count": 448,
   "metadata": {
    "collapsed": false
   },
   "outputs": [],
   "source": [
    "import json\n",
    "with open('artist_stats.txt', 'w') as outfile:\n",
    "    json.dump(artist_stats, outfile)"
   ]
  },
  {
   "cell_type": "code",
   "execution_count": 444,
   "metadata": {
    "collapsed": false
   },
   "outputs": [],
   "source": [
    "keys = artist_stats.keys()\n",
    "unique_te = np.unique(test.artist)\n",
    "unique_tr = np.unique(train.artist)\n",
    "\n",
    "for artist in unique_te :\n",
    "    if artist not in keys:\n",
    "        print artist\n",
    "for artist in unique_tr :\n",
    "    if artist not in keys:\n",
    "        print artist"
   ]
  },
  {
   "cell_type": "code",
   "execution_count": 454,
   "metadata": {
    "collapsed": false
   },
   "outputs": [
    {
     "data": {
      "text/plain": [
       "2000"
      ]
     },
     "execution_count": 454,
     "metadata": {},
     "output_type": "execute_result"
    }
   ],
   "source": [
    "counter = 0"
   ]
  },
  {
   "cell_type": "code",
   "execution_count": 456,
   "metadata": {
    "collapsed": false
   },
   "outputs": [
    {
     "name": "stdout",
     "output_type": "stream",
     "text": [
      "Already done!\n"
     ]
    }
   ],
   "source": [
    "if counter < len(artist_stats.keys()) :\n",
    "    for key in artist_stats.keys()[counter:len(artist_stats.keys())] :\n",
    "        url = artist_stats[key]['url']\n",
    "        if url != \"Unknown\" :\n",
    "            var = requests.get(url)\n",
    "            soup = BeautifulSoup(var.text, \"html.parser\")\n",
    "\n",
    "            genre_exists = soup.find(title='Music genre')\n",
    "            if genre_exists :\n",
    "                artist_stats[key]['genre'] = [entry.get(\"href\") for entry in soup.find(title=\"Music genre\").parent.parent.find_all('a')[1:] if entry.get(\"href\")[1:5] == 'wiki']\n",
    "            else :\n",
    "                artist_stats[key]['genre'] = \"Unknown\"\n",
    "\n",
    "            ya_exists = soup.find(text=re.compile(\"Years\"))\n",
    "            try :\n",
    "                artist_stats[key]['ya'] = ya_exists.parent.parent.find('td').get_text()\n",
    "            except AttributeError :\n",
    "                artist_stats[key]['ya'] = \"Unknown\"\n",
    "        else :\n",
    "            artist_stats[key]['genre'] = 'Unknown'\n",
    "            artist_stats[key]['ya'] = 'Unknown'\n",
    "        print counter\n",
    "        counter += 1\n",
    "else :\n",
    "    print \"Already done!\""
   ]
  },
  {
   "cell_type": "code",
   "execution_count": 462,
   "metadata": {
    "collapsed": false
   },
   "outputs": [],
   "source": [
    "import json\n",
    "with open('artist_stats.txt', 'w') as outfile:\n",
    "    json.dump(artist_stats, outfile)"
   ]
  },
  {
   "cell_type": "code",
   "execution_count": 8,
   "metadata": {
    "collapsed": false
   },
   "outputs": [
    {
     "name": "stdout",
     "output_type": "stream",
     "text": [
      "Justice\n",
      "Ben Harper\n",
      "Camera Obscura\n",
      "Nouvelle Vague\n",
      "Enigma\n",
      "Nirvana\n",
      "Rhapsody of Fire\n",
      "Moby\n",
      "Feist\n",
      "[Disney]\n",
      "[unknown]\n",
      "M.I.A.\n",
      "Air\n"
     ]
    }
   ],
   "source": [
    "import collections\n",
    "blahblah = collections.defaultdict(int)\n",
    "for artist in artists.name :\n",
    "    blahblah[artist] += 1\n",
    "    if blahblah[artist] > 1 and pd.isnull(artist) == False:\n",
    "        print artist"
   ]
  },
  {
   "cell_type": "code",
   "execution_count": 10,
   "metadata": {
    "collapsed": false
   },
   "outputs": [
    {
     "data": {
      "text/html": [
       "<div>\n",
       "<table border=\"1\" class=\"dataframe\">\n",
       "  <thead>\n",
       "    <tr style=\"text-align: right;\">\n",
       "      <th></th>\n",
       "      <th>artist</th>\n",
       "      <th>name</th>\n",
       "    </tr>\n",
       "  </thead>\n",
       "  <tbody>\n",
       "    <tr>\n",
       "      <th>112</th>\n",
       "      <td>1582a5b8-538e-45e7-9ae4-4099439a0e79</td>\n",
       "      <td>Ben Harper</td>\n",
       "    </tr>\n",
       "    <tr>\n",
       "      <th>464</th>\n",
       "      <td>b07016ee-5de9-4419-8205-0490d95dc638</td>\n",
       "      <td>Ben Harper</td>\n",
       "    </tr>\n",
       "  </tbody>\n",
       "</table>\n",
       "</div>"
      ],
      "text/plain": [
       "                                   artist        name\n",
       "112  1582a5b8-538e-45e7-9ae4-4099439a0e79  Ben Harper\n",
       "464  b07016ee-5de9-4419-8205-0490d95dc638  Ben Harper"
      ]
     },
     "execution_count": 10,
     "metadata": {},
     "output_type": "execute_result"
    }
   ],
   "source": [
    "artists[artists.name == 'Ben Harper']"
   ]
  },
  {
   "cell_type": "code",
   "execution_count": 13,
   "metadata": {
    "collapsed": false
   },
   "outputs": [],
   "source": [
    "import json\n",
    "with open('artist_stats.txt') as data_file:    \n",
    "    artist_stats = json.load(data_file)"
   ]
  },
  {
   "cell_type": "code",
   "execution_count": 17,
   "metadata": {
    "collapsed": false
   },
   "outputs": [
    {
     "data": {
      "text/plain": [
       "{u'genre': [u'/wiki/Folk_rock',\n",
       "  u'/wiki/Blues_rock',\n",
       "  u'/wiki/Alternative_rock',\n",
       "  u'/wiki/Soul_music',\n",
       "  u'/wiki/Funk_rock',\n",
       "  u'/wiki/Gospel_music',\n",
       "  u'/wiki/Reggae',\n",
       "  u'/wiki/Jam_rock',\n",
       "  u'/wiki/Neofolk'],\n",
       " u'mean': 172.29055258467022,\n",
       " u'median': 91.0,\n",
       " u'name': u'Ben Harper',\n",
       " u'std': 255.0897238505667,\n",
       " u'url': u'https://en.wikipedia.org/wiki/Ben_Harper',\n",
       " u'ya': u'1992\\u2013present'}"
      ]
     },
     "execution_count": 17,
     "metadata": {},
     "output_type": "execute_result"
    }
   ],
   "source": [
    "artist_stats['1582a5b8-538e-45e7-9ae4-4099439a0e79']"
   ]
  },
  {
   "cell_type": "code",
   "execution_count": null,
   "metadata": {
    "collapsed": true
   },
   "outputs": [],
   "source": []
  }
 ],
 "metadata": {
  "kernelspec": {
   "display_name": "Python 2",
   "language": "python",
   "name": "python2"
  },
  "language_info": {
   "codemirror_mode": {
    "name": "ipython",
    "version": 2
   },
   "file_extension": ".py",
   "mimetype": "text/x-python",
   "name": "python",
   "nbconvert_exporter": "python",
   "pygments_lexer": "ipython2",
   "version": "2.7.10"
  }
 },
 "nbformat": 4,
 "nbformat_minor": 0
}
