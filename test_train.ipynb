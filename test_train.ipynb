{
 "cells": [
  {
   "cell_type": "code",
   "execution_count": 1,
   "metadata": {
    "collapsed": true
   },
   "outputs": [],
   "source": [
    "import pandas as pd\n",
    "import numpy as np\n",
    "import requests\n",
    "import time\n",
    "import re\n",
    "import json\n",
    "import time\n",
    "import random\n",
    "\n",
    "import spotipy\n",
    "import tweepy\n",
    "\n",
    "from bs4 import BeautifulSoup\n",
    "from matplotlib import pyplot as plt\n",
    "from collections import defaultdict\n",
    "from collections import deque\n",
    "from fake_useragent import UserAgent\n",
    "\n",
    "%matplotlib inline"
   ]
  },
  {
   "cell_type": "code",
   "execution_count": 2,
   "metadata": {
    "collapsed": true
   },
   "outputs": [],
   "source": [
    "test = pd.read_csv(\"helper/test.csv\")\n",
    "train = pd.read_csv(\"helper/train.csv\")\n",
    "artists = pd.read_csv(\"helper/artists.csv\")\n",
    "profiles = pd.read_csv(\"helper/profiles.csv\")\n",
    "\n",
    "median_age = profiles.age.median()\n",
    "profiles.age = [median_age if (age > 110) or (age < 0) else age for age in profiles.age]"
   ]
  },
  {
   "cell_type": "code",
   "execution_count": 3,
   "metadata": {
    "collapsed": false
   },
   "outputs": [],
   "source": [
    "n_user_plays = {}\n",
    "for user in train.groupby('user') :\n",
    "    n_user_plays[user[0]] = len(user[1])"
   ]
  },
  {
   "cell_type": "code",
   "execution_count": 4,
   "metadata": {
    "collapsed": false
   },
   "outputs": [
    {
     "name": "stdout",
     "output_type": "stream",
     "text": [
      "CPU times: user 2 µs, sys: 0 ns, total: 2 µs\n",
      "Wall time: 5.01 µs\n"
     ]
    }
   ],
   "source": [
    "%time\n",
    "user_medians = {}\n",
    "for user in train.groupby('user') :\n",
    "    user_medians[user[0]] = user[1]['plays'].median()"
   ]
  },
  {
   "cell_type": "code",
   "execution_count": 5,
   "metadata": {
    "collapsed": false
   },
   "outputs": [
    {
     "name": "stdout",
     "output_type": "stream",
     "text": [
      "106.0\n"
     ]
    }
   ],
   "source": [
    "GLOBAL_USER_MEDIAN = np.median(user_medians.values())\n",
    "print GLOBAL_USER_MEDIAN"
   ]
  },
  {
   "cell_type": "code",
   "execution_count": 6,
   "metadata": {
    "collapsed": false
   },
   "outputs": [
    {
     "name": "stdout",
     "output_type": "stream",
     "text": [
      "CPU times: user 2 µs, sys: 0 ns, total: 2 µs\n",
      "Wall time: 5.01 µs\n"
     ]
    }
   ],
   "source": [
    "%time\n",
    "artist_medians = {}\n",
    "for artist in train.groupby('artist') :\n",
    "    artist_medians[artist[0]] = artist[1]['plays'].median()"
   ]
  },
  {
   "cell_type": "code",
   "execution_count": 7,
   "metadata": {
    "collapsed": false
   },
   "outputs": [
    {
     "name": "stdout",
     "output_type": "stream",
     "text": [
      "113.0\n"
     ]
    }
   ],
   "source": [
    "GLOBAL_ARTIST_MEDIAN = np.median(artist_medians.values())\n",
    "print GLOBAL_ARTIST_MEDIAN "
   ]
  },
  {
   "cell_type": "code",
   "execution_count": 8,
   "metadata": {
    "collapsed": false
   },
   "outputs": [
    {
     "data": {
      "image/png": "[encoded data removed]",
      "text/plain": [
       "<matplotlib.figure.Figure at 0x105f314d0>"
      ]
     },
     "metadata": {},
     "output_type": "display_data"
    }
   ],
   "source": [
    "plt.hist(n_user_plays.values(), bins=range(0,50,5));"
   ]
  },
  {
   "cell_type": "code",
   "execution_count": 9,
   "metadata": {
    "collapsed": false
   },
   "outputs": [],
   "source": [
    "n_artist_plays = {}\n",
    "for artist in train.groupby('artist') :\n",
    "    n_artist_plays[artist[0]] = len(artist[1])"
   ]
  },
  {
   "cell_type": "code",
   "execution_count": 10,
   "metadata": {
    "collapsed": false
   },
   "outputs": [
    {
     "data": {
      "image/png": "[encoded data removed]",
      "text/plain": [
       "<matplotlib.figure.Figure at 0x105f22bd0>"
      ]
     },
     "metadata": {},
     "output_type": "display_data"
    }
   ],
   "source": [
    "plt.hist(n_artist_plays.values(), bins=range(0,10000,750));"
   ]
  },
  {
   "cell_type": "code",
   "execution_count": 11,
   "metadata": {
    "collapsed": true
   },
   "outputs": [],
   "source": [
    "def recompute_frame(ldf):\n",
    "    \"\"\"\n",
    "    takes a dataframe ldf, makes a copy of it, and returns the copy\n",
    "    with all averages and review counts recomputed\n",
    "    this is used when a frame is subsetted.\n",
    "    \"\"\"\n",
    "    ldfu=ldf.groupby('user')\n",
    "    ldfa=ldf.groupby('artist')\n",
    "    user_median=ldfu.plays.median()\n",
    "    user_artist_count=ldfu.artist.count()\n",
    "    artist_median=ldfa.plays.median()\n",
    "    artist_user_count=ldfa.user.count()\n",
    "    \n",
    "    nldf=ldf.copy()\n",
    "    nldf.set_index(['artist'], inplace=True)\n",
    "    nldf['artist_median']=artist_median\n",
    "    nldf['artist_user_count']=artist_user_count\n",
    "    nldf.reset_index(inplace=True)\n",
    "    nldf.set_index(['user'], inplace=True)\n",
    "    nldf['user_median']=user_median\n",
    "    nldf['user_artist_count']=user_artist_count\n",
    "    nldf.reset_index(inplace=True)\n",
    "    return nldf"
   ]
  },
  {
   "cell_type": "code",
   "execution_count": 12,
   "metadata": {
    "collapsed": false
   },
   "outputs": [
    {
     "name": "stdout",
     "output_type": "stream",
     "text": [
      "Number of Play Counts 4154804\n",
      "Number of Users 233286\n",
      "Number of Artists 2000\n"
     ]
    }
   ],
   "source": [
    "big_train=recompute_frame(train)\n",
    "print \"Number of Play Counts\", big_train.shape[0]\n",
    "print \"Number of Users\", big_train.user.unique().shape[0]\n",
    "print \"Number of Artists\", big_train.artist.unique().shape[0]"
   ]
  },
  {
   "cell_type": "code",
   "execution_count": 13,
   "metadata": {
    "collapsed": false
   },
   "outputs": [],
   "source": [
    "unique_users_count = []\n",
    "unique_artists_count = []\n",
    "for frac in np.arange(0,0.1,0.01) :\n",
    "    small_train = big_train.sample(frac=frac, replace=False)\n",
    "    unique_users_count.append(small_train.user.unique().shape[0])\n",
    "    unique_artists_count.append(small_train.artist.unique().shape[0])"
   ]
  },
  {
   "cell_type": "code",
   "execution_count": 14,
   "metadata": {
    "collapsed": false
   },
   "outputs": [
    {
     "data": {
      "image/png": "[encoded data removed]",
      "text/plain": [
       "<matplotlib.figure.Figure at 0x10a1b6550>"
      ]
     },
     "metadata": {},
     "output_type": "display_data"
    }
   ],
   "source": [
    "plt.plot(unique_users_count, unique_artists_count, 'ro');"
   ]
  },
  {
   "cell_type": "code",
   "execution_count": 15,
   "metadata": {
    "collapsed": true
   },
   "outputs": [],
   "source": [
    "# We lose a lot of unique users if we go to 1% \n",
    "# but we still maintain 100% of artists, so we\n",
    "# will sample 1% multiple times and reevaluate\n",
    "# if we get bad results later on. I believe that\n",
    "# is possible to drop a lot of unique users \n",
    "# because they have less identifying characteristics\n",
    "# and with several tens of thousands of users\n",
    "# we can still get a good model."
   ]
  },
  {
   "cell_type": "code",
   "execution_count": 16,
   "metadata": {
    "collapsed": false
   },
   "outputs": [
    {
     "name": "stdout",
     "output_type": "stream",
     "text": [
      "Number of Play Counts 207740\n",
      "Number of Users 137232\n",
      "Number of Artists 2000\n"
     ]
    }
   ],
   "source": [
    "small_train = big_train.sample(frac=0.05, replace=False)\n",
    "small_train = recompute_frame(small_train)\n",
    "small_train.to_csv(\"small_train.csv\", index=False)\n",
    "print \"Number of Play Counts\", small_train.shape[0]\n",
    "print \"Number of Users\", small_train.user.unique().shape[0]\n",
    "print \"Number of Artists\", small_train.artist.unique().shape[0]"
   ]
  },
  {
   "cell_type": "code",
   "execution_count": 17,
   "metadata": {
    "collapsed": false
   },
   "outputs": [
    {
     "data": {
      "image/png": "[encoded data removed]",
      "text/plain": [
       "<matplotlib.figure.Figure at 0x10a3b8410>"
      ]
     },
     "metadata": {},
     "output_type": "display_data"
    }
   ],
   "source": [
    "plt.hist(small_train.artist_user_count, bins=range(0,400,15));"
   ]
  },
  {
   "cell_type": "code",
   "execution_count": 18,
   "metadata": {
    "collapsed": false
   },
   "outputs": [
    {
     "name": "stdout",
     "output_type": "stream",
     "text": [
      "(197740, 7) (6000, 7) (4000, 7)\n"
     ]
    }
   ],
   "source": [
    "trainlist=[]\n",
    "testlist=[]\n",
    "validatelist=[]\n",
    "take=5\n",
    "for k, v in small_train.groupby('artist'):\n",
    "    if np.mean(v.artist_user_count) > 10:\n",
    "        takenos=np.random.choice(range(take), size=take/2, replace=False)\n",
    "        takelist=np.array([e in takenos for e in range(take)])\n",
    "        validatelist.append(v[-take:][~takelist])#use those \n",
    "        testlist.append(v[-take:][takelist])#use the other \n",
    "        trainlist.append(v[:-take])\n",
    "    else:\n",
    "        trainlist.append(v)\n",
    "traindf=pd.concat(trainlist)\n",
    "validatedf=pd.concat(validatelist)\n",
    "testdf=pd.concat(testlist)\n",
    "print traindf.shape, validatedf.shape, testdf.shape"
   ]
  },
  {
   "cell_type": "code",
   "execution_count": 19,
   "metadata": {
    "collapsed": false,
    "scrolled": true
   },
   "outputs": [],
   "source": [
    "traindf=recompute_frame(traindf)\n",
    "validatedf=recompute_frame(validatedf)\n",
    "testdf=recompute_frame(testdf)\n",
    "validatedf=validatedf[['user', 'artist','plays']]\n",
    "testdf=testdf[['user', 'artist','plays']]"
   ]
  },
  {
   "cell_type": "code",
   "execution_count": 20,
   "metadata": {
    "collapsed": false
   },
   "outputs": [
    {
     "data": {
      "text/plain": [
       "(2000, 201)"
      ]
     },
     "execution_count": 20,
     "metadata": {},
     "output_type": "execute_result"
    }
   ],
   "source": [
    "artistdf = pd.read_pickle('helper/artist_df.pkl')\n",
    "artistdf = artistdf.rename(columns={'artist_id' : 'artist'})\n",
    "artistdf.shape"
   ]
  },
  {
   "cell_type": "code",
   "execution_count": 21,
   "metadata": {
    "collapsed": false
   },
   "outputs": [
    {
     "name": "stdout",
     "output_type": "stream",
     "text": [
      "Libyan Arab Jamahiriya\n",
      "Cocos (Keeling) Islands\n",
      "Russian Federation\n",
      "Virgin Islands, British\n",
      "Cote D'Ivoire\n",
      "Viet Nam\n",
      "Syrian Arab Republic\n",
      "Congo, the Democratic Republic of the\n",
      "Iran, Islamic Republic of\n",
      "Falkland Islands (Malvinas)\n",
      "Micronesia, Federated States of\n",
      "Timor-Leste\n",
      "Virgin Islands, U.s.\n",
      "Korea, Republic of\n",
      "Lao People's Democratic Republic\n",
      "Tanzania, United Republic of\n",
      "Holy See (Vatican City State)\n",
      "Brunei Darussalam\n",
      "Korea, Democratic People's Republic of\n",
      "Congo\n",
      "Heard Island and Mcdonald Islands\n",
      "Palestinian Territory, Occupied\n"
     ]
    }
   ],
   "source": [
    "import geonamescache\n",
    "\n",
    "gc = geonamescache.GeonamesCache()\n",
    "countries = gc.get_countries_by_names()\n",
    "continents = gc.get_continents()\n",
    "\n",
    "country_list = defaultdict(int)\n",
    "for country in profiles['country'] :\n",
    "    country_list[country] += 1\n",
    "    \n",
    "for country in country_list.keys() :\n",
    "    if country not in countries.keys() :\n",
    "        print country"
   ]
  },
  {
   "cell_type": "code",
   "execution_count": 22,
   "metadata": {
    "collapsed": false
   },
   "outputs": [],
   "source": [
    "def replace_country_name(df, oldname, newname) :\n",
    "    df['country'] = [newname if country_name == oldname else country_name for country_name in df['country']]\n",
    "    return df"
   ]
  },
  {
   "cell_type": "code",
   "execution_count": 23,
   "metadata": {
    "collapsed": false
   },
   "outputs": [],
   "source": [
    "profiles = replace_country_name(profiles, 'Libyan Arab Jamahiriya', 'Libya')\n",
    "profiles = replace_country_name(profiles, \"Cocos (Keeling) Islands\", \"Cocos Islands\")\n",
    "profiles = replace_country_name(profiles, 'Russian Federation', 'Russia')\n",
    "profiles = replace_country_name(profiles, 'Virgin Islands, British', 'British Virgin Islands')\n",
    "profiles = replace_country_name(profiles, \"Cote D'Ivoire\", \"Ivory Coast\")\n",
    "profiles = replace_country_name(profiles, \"Viet Nam\", \"Vietnam\")\n",
    "profiles = replace_country_name(profiles, \"Syrian Arab Republic\", \"Syria\")\n",
    "profiles = replace_country_name(profiles, \"Congo, the Democratic Republic of the\", \"Congo\")\n",
    "profiles = replace_country_name(profiles, \"Iran, Islamic Republic of\", \"Iran\")\n",
    "profiles = replace_country_name(profiles, \"Falkland Islands (Malvinas)\", \"Falkland Islands\")\n",
    "profiles = replace_country_name(profiles, \"Micronesia, Federated States of\", \"Micronesia\")\n",
    "profiles = replace_country_name(profiles, \"Timor-Leste\", \"East Timor\")\n",
    "profiles = replace_country_name(profiles, \"Virgin Islands, U.s.\", \"U.S. Virgin Islands\")\n",
    "profiles = replace_country_name(profiles, \"Korea, Republic of\", \"South Korea\")\n",
    "profiles = replace_country_name(profiles, \"Lao People's Democratic Republic\", \"Laos\") \n",
    "profiles = replace_country_name(profiles, \"Tanzania, United Republic of\", \"Tanzania\")\n",
    "profiles = replace_country_name(profiles, \"Holy See (Vatican City State)\", \"Vatican\")\n",
    "profiles = replace_country_name(profiles, \"Heard Island and Mcdonald Islands\", \"Heard Island and McDonald Islands\")\n",
    "profiles = replace_country_name(profiles, \"Brunei Darussalam\", \"Brunei\")\n",
    "profiles = replace_country_name(profiles, \"Korea, Democratic People's Republic of\", \"North Korea\")\n",
    "profiles = replace_country_name(profiles, \"Congo\", \"Democratic Republic of the Congo\")\n",
    "profiles = replace_country_name(profiles, \"Palestinian Territory, Occupied\", \"Israel\")"
   ]
  },
  {
   "cell_type": "code",
   "execution_count": 24,
   "metadata": {
    "collapsed": false
   },
   "outputs": [],
   "source": [
    "for continent in continents.keys() :\n",
    "    profiles[\"cont_\"+continent] = [1 if countries[user_country]['continentcode'] == continent else 0 for user_country in profiles['country']]"
   ]
  },
  {
   "cell_type": "code",
   "execution_count": 25,
   "metadata": {
    "collapsed": false
   },
   "outputs": [],
   "source": [
    "for country in country_list.keys() :\n",
    "    if country_list[country] > 2000 :\n",
    "        profiles[\"country_\"+country.lower().replace(\" \",\"_\")] = [1 if user_country == country else 0 for user_country in profiles['country']]"
   ]
  },
  {
   "cell_type": "code",
   "execution_count": 26,
   "metadata": {
    "collapsed": false
   },
   "outputs": [
    {
     "data": {
      "text/html": [
       "<div>\n",
       "<table border=\"1\" class=\"dataframe\">\n",
       "  <thead>\n",
       "    <tr style=\"text-align: right;\">\n",
       "      <th></th>\n",
       "      <th>user</th>\n",
       "      <th>age</th>\n",
       "      <th>cont_AF</th>\n",
       "      <th>cont_NA</th>\n",
       "      <th>cont_OC</th>\n",
       "      <th>cont_AN</th>\n",
       "      <th>cont_AS</th>\n",
       "      <th>cont_EU</th>\n",
       "      <th>cont_SA</th>\n",
       "      <th>country_canada</th>\n",
       "      <th>...</th>\n",
       "      <th>country_australia</th>\n",
       "      <th>country_belgium</th>\n",
       "      <th>country_switzerland</th>\n",
       "      <th>country_portugal</th>\n",
       "      <th>country_italy</th>\n",
       "      <th>country_germany</th>\n",
       "      <th>country_poland</th>\n",
       "      <th>country_mexico</th>\n",
       "      <th>country_united_kingdom</th>\n",
       "      <th>gender</th>\n",
       "    </tr>\n",
       "  </thead>\n",
       "  <tbody>\n",
       "    <tr>\n",
       "      <th>0</th>\n",
       "      <td>fa40b43298ba3f8aa52e8e8863faf2e2171e0b5d</td>\n",
       "      <td>25</td>\n",
       "      <td>0</td>\n",
       "      <td>0</td>\n",
       "      <td>0</td>\n",
       "      <td>0</td>\n",
       "      <td>0</td>\n",
       "      <td>1</td>\n",
       "      <td>0</td>\n",
       "      <td>0</td>\n",
       "      <td>...</td>\n",
       "      <td>0</td>\n",
       "      <td>0</td>\n",
       "      <td>0</td>\n",
       "      <td>0</td>\n",
       "      <td>0</td>\n",
       "      <td>0</td>\n",
       "      <td>0</td>\n",
       "      <td>0</td>\n",
       "      <td>0</td>\n",
       "      <td>0</td>\n",
       "    </tr>\n",
       "    <tr>\n",
       "      <th>1</th>\n",
       "      <td>5909125332c108365a26ccf0ee62636eee08215c</td>\n",
       "      <td>29</td>\n",
       "      <td>0</td>\n",
       "      <td>0</td>\n",
       "      <td>0</td>\n",
       "      <td>0</td>\n",
       "      <td>0</td>\n",
       "      <td>1</td>\n",
       "      <td>0</td>\n",
       "      <td>0</td>\n",
       "      <td>...</td>\n",
       "      <td>0</td>\n",
       "      <td>0</td>\n",
       "      <td>0</td>\n",
       "      <td>0</td>\n",
       "      <td>0</td>\n",
       "      <td>0</td>\n",
       "      <td>0</td>\n",
       "      <td>0</td>\n",
       "      <td>0</td>\n",
       "      <td>1</td>\n",
       "    </tr>\n",
       "    <tr>\n",
       "      <th>2</th>\n",
       "      <td>d1867cbda35e0d48e9a8390d9f5e079c9d99ea96</td>\n",
       "      <td>30</td>\n",
       "      <td>0</td>\n",
       "      <td>1</td>\n",
       "      <td>0</td>\n",
       "      <td>0</td>\n",
       "      <td>0</td>\n",
       "      <td>0</td>\n",
       "      <td>0</td>\n",
       "      <td>0</td>\n",
       "      <td>...</td>\n",
       "      <td>0</td>\n",
       "      <td>0</td>\n",
       "      <td>0</td>\n",
       "      <td>0</td>\n",
       "      <td>0</td>\n",
       "      <td>0</td>\n",
       "      <td>0</td>\n",
       "      <td>0</td>\n",
       "      <td>0</td>\n",
       "      <td>1</td>\n",
       "    </tr>\n",
       "    <tr>\n",
       "      <th>3</th>\n",
       "      <td>63268cce0d68127729890c1691f62d5be5abd87c</td>\n",
       "      <td>21</td>\n",
       "      <td>0</td>\n",
       "      <td>0</td>\n",
       "      <td>0</td>\n",
       "      <td>0</td>\n",
       "      <td>0</td>\n",
       "      <td>1</td>\n",
       "      <td>0</td>\n",
       "      <td>0</td>\n",
       "      <td>...</td>\n",
       "      <td>0</td>\n",
       "      <td>0</td>\n",
       "      <td>0</td>\n",
       "      <td>0</td>\n",
       "      <td>0</td>\n",
       "      <td>1</td>\n",
       "      <td>0</td>\n",
       "      <td>0</td>\n",
       "      <td>0</td>\n",
       "      <td>1</td>\n",
       "    </tr>\n",
       "    <tr>\n",
       "      <th>4</th>\n",
       "      <td>02871cd952d607ba69b64e2e107773012c708113</td>\n",
       "      <td>24</td>\n",
       "      <td>0</td>\n",
       "      <td>0</td>\n",
       "      <td>0</td>\n",
       "      <td>0</td>\n",
       "      <td>0</td>\n",
       "      <td>1</td>\n",
       "      <td>0</td>\n",
       "      <td>0</td>\n",
       "      <td>...</td>\n",
       "      <td>0</td>\n",
       "      <td>0</td>\n",
       "      <td>0</td>\n",
       "      <td>0</td>\n",
       "      <td>0</td>\n",
       "      <td>0</td>\n",
       "      <td>0</td>\n",
       "      <td>0</td>\n",
       "      <td>0</td>\n",
       "      <td>1</td>\n",
       "    </tr>\n",
       "  </tbody>\n",
       "</table>\n",
       "<p>5 rows × 32 columns</p>\n",
       "</div>"
      ],
      "text/plain": [
       "                                       user  age  cont_AF  cont_NA  cont_OC  \\\n",
       "0  fa40b43298ba3f8aa52e8e8863faf2e2171e0b5d   25        0        0        0   \n",
       "1  5909125332c108365a26ccf0ee62636eee08215c   29        0        0        0   \n",
       "2  d1867cbda35e0d48e9a8390d9f5e079c9d99ea96   30        0        1        0   \n",
       "3  63268cce0d68127729890c1691f62d5be5abd87c   21        0        0        0   \n",
       "4  02871cd952d607ba69b64e2e107773012c708113   24        0        0        0   \n",
       "\n",
       "   cont_AN  cont_AS  cont_EU  cont_SA  country_canada   ...    \\\n",
       "0        0        0        1        0               0   ...     \n",
       "1        0        0        1        0               0   ...     \n",
       "2        0        0        0        0               0   ...     \n",
       "3        0        0        1        0               0   ...     \n",
       "4        0        0        1        0               0   ...     \n",
       "\n",
       "   country_australia  country_belgium  country_switzerland  country_portugal  \\\n",
       "0                  0                0                    0                 0   \n",
       "1                  0                0                    0                 0   \n",
       "2                  0                0                    0                 0   \n",
       "3                  0                0                    0                 0   \n",
       "4                  0                0                    0                 0   \n",
       "\n",
       "   country_italy  country_germany  country_poland  country_mexico  \\\n",
       "0              0                0               0               0   \n",
       "1              0                0               0               0   \n",
       "2              0                0               0               0   \n",
       "3              0                1               0               0   \n",
       "4              0                0               0               0   \n",
       "\n",
       "   country_united_kingdom  gender  \n",
       "0                       0       0  \n",
       "1                       0       1  \n",
       "2                       0       1  \n",
       "3                       0       1  \n",
       "4                       0       1  \n",
       "\n",
       "[5 rows x 32 columns]"
      ]
     },
     "execution_count": 26,
     "metadata": {},
     "output_type": "execute_result"
    }
   ],
   "source": [
    "profiles['gender'] = [1 if sex == 'm' else 0 for sex in profiles['sex']]\n",
    "profiles = profiles.drop(['country', 'sex'], axis=1)\n",
    "profiles.head()"
   ]
  },
  {
   "cell_type": "code",
   "execution_count": 27,
   "metadata": {
    "collapsed": false
   },
   "outputs": [],
   "source": [
    "def merge_dfs(df, artistdf, userdf) :\n",
    "    merged = pd.merge(df, artistdf, on='artist')\n",
    "    merged = pd.merge(merged, userdf, on='user')\n",
    "    for col in ['mean','median','user','artist','std','artist_user_count','user_artist_count','name'] :\n",
    "        try :\n",
    "            merged = merged.drop(col, axis=1)\n",
    "        except :\n",
    "            pass\n",
    "    X = merged.drop(['plays'], axis=1)\n",
    "    y = merged['plays']\n",
    "    X = X.fillna(0)\n",
    "    print X.shape, y.shape\n",
    "    return X, y"
   ]
  },
  {
   "cell_type": "code",
   "execution_count": 28,
   "metadata": {
    "collapsed": false
   },
   "outputs": [],
   "source": [
    "def add_medians(traindf, testdf, GLOBAL_USER_MEDIAN, GLOBAL_ARTIST_MEDIAN) :\n",
    "    user_medians = defaultdict(lambda: GLOBAL_USER_MEDIAN)\n",
    "    artist_medians = defaultdict(lambda: GLOBAL_ARTIST_MEDIAN)\n",
    "\n",
    "    ldfu=traindf.groupby('user')\n",
    "    ldfa=traindf.groupby('artist')\n",
    "\n",
    "    for u in ldfu :\n",
    "        user_medians[u[0]] = u[1]['plays'].median()\n",
    "    for a in ldfa : \n",
    "        artist_medians[a[0]] = a[1]['plays'].median()\n",
    "\n",
    "    testdf['user_median'] = [user_medians[user] for user in testdf['user']]\n",
    "    testdf['artist_median'] = [artist_medians[artist] for artist in testdf['artist']]\n",
    "    \n",
    "    return testdf"
   ]
  },
  {
   "cell_type": "code",
   "execution_count": 29,
   "metadata": {
    "collapsed": false
   },
   "outputs": [
    {
     "name": "stdout",
     "output_type": "stream",
     "text": [
      "(197740, 229) (197740,)\n"
     ]
    }
   ],
   "source": [
    "X_train, y_train = merge_dfs(traindf, artistdf, profiles)"
   ]
  },
  {
   "cell_type": "code",
   "execution_count": 30,
   "metadata": {
    "collapsed": false
   },
   "outputs": [
    {
     "name": "stdout",
     "output_type": "stream",
     "text": [
      "(6000, 229) (6000,)\n"
     ]
    }
   ],
   "source": [
    "validatedf = add_medians(traindf, validatedf, GLOBAL_USER_MEDIAN, GLOBAL_ARTIST_MEDIAN)\n",
    "X_valid, y_valid = merge_dfs(validatedf, artistdf, profiles)"
   ]
  },
  {
   "cell_type": "code",
   "execution_count": 31,
   "metadata": {
    "collapsed": false
   },
   "outputs": [
    {
     "name": "stdout",
     "output_type": "stream",
     "text": [
      "(4000, 229) (4000,)\n"
     ]
    }
   ],
   "source": [
    "testdf = add_medians(traindf, testdf, GLOBAL_USER_MEDIAN, GLOBAL_ARTIST_MEDIAN)\n",
    "X_test, y_test = merge_dfs(testdf, artistdf, profiles)"
   ]
  },
  {
   "cell_type": "code",
   "execution_count": null,
   "metadata": {
    "collapsed": false
   },
   "outputs": [],
   "source": [
    "%time\n",
    "from sklearn.linear_model import LinearRegression\n",
    "lm = LinearRegression()\n",
    "lm.fit(X_train, y_train)\n",
    "y_lm_pred = lm.predict(X_test)"
   ]
  },
  {
   "cell_type": "code",
   "execution_count": 33,
   "metadata": {
    "collapsed": false
   },
   "outputs": [],
   "source": [
    "def MAE(arr1, arr2) :\n",
    "    if len(arr1) == len(arr2) :\n",
    "        plt.hist(np.abs(arr1-arr2))\n",
    "        print 1.0/len(arr1) * np.sum(np.abs(arr1 - arr2))\n",
    "    else :\n",
    "        print \"Array not the same length\""
   ]
  },
  {
   "cell_type": "code",
   "execution_count": 38,
   "metadata": {
    "collapsed": false
   },
   "outputs": [
    {
     "name": "stdout",
     "output_type": "stream",
     "text": [
      "172.660002464\n"
     ]
    },
    {
     "data": {
      "image/png": "[encoded data removed]",
      "text/plain": [
       "<matplotlib.figure.Figure at 0x11fe9f190>"
      ]
     },
     "metadata": {},
     "output_type": "display_data"
    }
   ],
   "source": [
    "MAE(np.abs(y_lm_pred), y_test)"
   ]
  },
  {
   "cell_type": "code",
   "execution_count": 2,
   "metadata": {
    "collapsed": false
   },
   "outputs": [
    {
     "ename": "IOError",
     "evalue": "File helper/user_median.csv does not exist",
     "output_type": "error",
     "traceback": [
      "\u001b[0;31m---------------------------------------------------------------------------\u001b[0m",
      "\u001b[0;31mIOError\u001b[0m                                   Traceback (most recent call last)",
      "\u001b[0;32m<ipython-input-2-a5827b466568>\u001b[0m in \u001b[0;36m<module>\u001b[0;34m()\u001b[0m\n\u001b[1;32m      1\u001b[0m \u001b[0;32mimport\u001b[0m \u001b[0mpandas\u001b[0m \u001b[0;32mas\u001b[0m \u001b[0mpd\u001b[0m\u001b[0;34m\u001b[0m\u001b[0m\n\u001b[0;32m----> 2\u001b[0;31m \u001b[0muser_median\u001b[0m \u001b[0;34m=\u001b[0m \u001b[0mpd\u001b[0m\u001b[0;34m.\u001b[0m\u001b[0mread_csv\u001b[0m\u001b[0;34m(\u001b[0m\u001b[0;34m\"helper/user_median.csv\"\u001b[0m\u001b[0;34m)\u001b[0m\u001b[0;34m\u001b[0m\u001b[0m\n\u001b[0m",
      "\u001b[0;32m//anaconda/lib/python2.7/site-packages/pandas/io/parsers.pyc\u001b[0m in \u001b[0;36mparser_f\u001b[0;34m(filepath_or_buffer, sep, dialect, compression, doublequote, escapechar, quotechar, quoting, skipinitialspace, lineterminator, header, index_col, names, prefix, skiprows, skipfooter, skip_footer, na_values, na_fvalues, true_values, false_values, delimiter, converters, dtype, usecols, engine, delim_whitespace, as_recarray, na_filter, compact_ints, use_unsigned, low_memory, buffer_lines, warn_bad_lines, error_bad_lines, keep_default_na, thousands, comment, decimal, parse_dates, keep_date_col, dayfirst, date_parser, memory_map, float_precision, nrows, iterator, chunksize, verbose, encoding, squeeze, mangle_dupe_cols, tupleize_cols, infer_datetime_format, skip_blank_lines)\u001b[0m\n\u001b[1;32m    472\u001b[0m                     skip_blank_lines=skip_blank_lines)\n\u001b[1;32m    473\u001b[0m \u001b[0;34m\u001b[0m\u001b[0m\n\u001b[0;32m--> 474\u001b[0;31m         \u001b[0;32mreturn\u001b[0m \u001b[0m_read\u001b[0m\u001b[0;34m(\u001b[0m\u001b[0mfilepath_or_buffer\u001b[0m\u001b[0;34m,\u001b[0m \u001b[0mkwds\u001b[0m\u001b[0;34m)\u001b[0m\u001b[0;34m\u001b[0m\u001b[0m\n\u001b[0m\u001b[1;32m    475\u001b[0m \u001b[0;34m\u001b[0m\u001b[0m\n\u001b[1;32m    476\u001b[0m     \u001b[0mparser_f\u001b[0m\u001b[0;34m.\u001b[0m\u001b[0m__name__\u001b[0m \u001b[0;34m=\u001b[0m \u001b[0mname\u001b[0m\u001b[0;34m\u001b[0m\u001b[0m\n",
      "\u001b[0;32m//anaconda/lib/python2.7/site-packages/pandas/io/parsers.pyc\u001b[0m in \u001b[0;36m_read\u001b[0;34m(filepath_or_buffer, kwds)\u001b[0m\n\u001b[1;32m    248\u001b[0m \u001b[0;34m\u001b[0m\u001b[0m\n\u001b[1;32m    249\u001b[0m     \u001b[0;31m# Create the parser.\u001b[0m\u001b[0;34m\u001b[0m\u001b[0;34m\u001b[0m\u001b[0m\n\u001b[0;32m--> 250\u001b[0;31m     \u001b[0mparser\u001b[0m \u001b[0;34m=\u001b[0m \u001b[0mTextFileReader\u001b[0m\u001b[0;34m(\u001b[0m\u001b[0mfilepath_or_buffer\u001b[0m\u001b[0;34m,\u001b[0m \u001b[0;34m**\u001b[0m\u001b[0mkwds\u001b[0m\u001b[0;34m)\u001b[0m\u001b[0;34m\u001b[0m\u001b[0m\n\u001b[0m\u001b[1;32m    251\u001b[0m \u001b[0;34m\u001b[0m\u001b[0m\n\u001b[1;32m    252\u001b[0m     \u001b[0;32mif\u001b[0m \u001b[0;34m(\u001b[0m\u001b[0mnrows\u001b[0m \u001b[0;32mis\u001b[0m \u001b[0;32mnot\u001b[0m \u001b[0mNone\u001b[0m\u001b[0;34m)\u001b[0m \u001b[0;32mand\u001b[0m \u001b[0;34m(\u001b[0m\u001b[0mchunksize\u001b[0m \u001b[0;32mis\u001b[0m \u001b[0;32mnot\u001b[0m \u001b[0mNone\u001b[0m\u001b[0;34m)\u001b[0m\u001b[0;34m:\u001b[0m\u001b[0;34m\u001b[0m\u001b[0m\n",
      "\u001b[0;32m//anaconda/lib/python2.7/site-packages/pandas/io/parsers.pyc\u001b[0m in \u001b[0;36m__init__\u001b[0;34m(self, f, engine, **kwds)\u001b[0m\n\u001b[1;32m    564\u001b[0m             \u001b[0mself\u001b[0m\u001b[0;34m.\u001b[0m\u001b[0moptions\u001b[0m\u001b[0;34m[\u001b[0m\u001b[0;34m'has_index_names'\u001b[0m\u001b[0;34m]\u001b[0m \u001b[0;34m=\u001b[0m \u001b[0mkwds\u001b[0m\u001b[0;34m[\u001b[0m\u001b[0;34m'has_index_names'\u001b[0m\u001b[0;34m]\u001b[0m\u001b[0;34m\u001b[0m\u001b[0m\n\u001b[1;32m    565\u001b[0m \u001b[0;34m\u001b[0m\u001b[0m\n\u001b[0;32m--> 566\u001b[0;31m         \u001b[0mself\u001b[0m\u001b[0;34m.\u001b[0m\u001b[0m_make_engine\u001b[0m\u001b[0;34m(\u001b[0m\u001b[0mself\u001b[0m\u001b[0;34m.\u001b[0m\u001b[0mengine\u001b[0m\u001b[0;34m)\u001b[0m\u001b[0;34m\u001b[0m\u001b[0m\n\u001b[0m\u001b[1;32m    567\u001b[0m \u001b[0;34m\u001b[0m\u001b[0m\n\u001b[1;32m    568\u001b[0m     \u001b[0;32mdef\u001b[0m \u001b[0m_get_options_with_defaults\u001b[0m\u001b[0;34m(\u001b[0m\u001b[0mself\u001b[0m\u001b[0;34m,\u001b[0m \u001b[0mengine\u001b[0m\u001b[0;34m)\u001b[0m\u001b[0;34m:\u001b[0m\u001b[0;34m\u001b[0m\u001b[0m\n",
      "\u001b[0;32m//anaconda/lib/python2.7/site-packages/pandas/io/parsers.pyc\u001b[0m in \u001b[0;36m_make_engine\u001b[0;34m(self, engine)\u001b[0m\n\u001b[1;32m    703\u001b[0m     \u001b[0;32mdef\u001b[0m \u001b[0m_make_engine\u001b[0m\u001b[0;34m(\u001b[0m\u001b[0mself\u001b[0m\u001b[0;34m,\u001b[0m \u001b[0mengine\u001b[0m\u001b[0;34m=\u001b[0m\u001b[0;34m'c'\u001b[0m\u001b[0;34m)\u001b[0m\u001b[0;34m:\u001b[0m\u001b[0;34m\u001b[0m\u001b[0m\n\u001b[1;32m    704\u001b[0m         \u001b[0;32mif\u001b[0m \u001b[0mengine\u001b[0m \u001b[0;34m==\u001b[0m \u001b[0;34m'c'\u001b[0m\u001b[0;34m:\u001b[0m\u001b[0;34m\u001b[0m\u001b[0m\n\u001b[0;32m--> 705\u001b[0;31m             \u001b[0mself\u001b[0m\u001b[0;34m.\u001b[0m\u001b[0m_engine\u001b[0m \u001b[0;34m=\u001b[0m \u001b[0mCParserWrapper\u001b[0m\u001b[0;34m(\u001b[0m\u001b[0mself\u001b[0m\u001b[0;34m.\u001b[0m\u001b[0mf\u001b[0m\u001b[0;34m,\u001b[0m \u001b[0;34m**\u001b[0m\u001b[0mself\u001b[0m\u001b[0;34m.\u001b[0m\u001b[0moptions\u001b[0m\u001b[0;34m)\u001b[0m\u001b[0;34m\u001b[0m\u001b[0m\n\u001b[0m\u001b[1;32m    706\u001b[0m         \u001b[0;32melse\u001b[0m\u001b[0;34m:\u001b[0m\u001b[0;34m\u001b[0m\u001b[0m\n\u001b[1;32m    707\u001b[0m             \u001b[0;32mif\u001b[0m \u001b[0mengine\u001b[0m \u001b[0;34m==\u001b[0m \u001b[0;34m'python'\u001b[0m\u001b[0;34m:\u001b[0m\u001b[0;34m\u001b[0m\u001b[0m\n",
      "\u001b[0;32m//anaconda/lib/python2.7/site-packages/pandas/io/parsers.pyc\u001b[0m in \u001b[0;36m__init__\u001b[0;34m(self, src, **kwds)\u001b[0m\n\u001b[1;32m   1070\u001b[0m         \u001b[0mkwds\u001b[0m\u001b[0;34m[\u001b[0m\u001b[0;34m'allow_leading_cols'\u001b[0m\u001b[0;34m]\u001b[0m \u001b[0;34m=\u001b[0m \u001b[0mself\u001b[0m\u001b[0;34m.\u001b[0m\u001b[0mindex_col\u001b[0m \u001b[0;32mis\u001b[0m \u001b[0;32mnot\u001b[0m \u001b[0mFalse\u001b[0m\u001b[0;34m\u001b[0m\u001b[0m\n\u001b[1;32m   1071\u001b[0m \u001b[0;34m\u001b[0m\u001b[0m\n\u001b[0;32m-> 1072\u001b[0;31m         \u001b[0mself\u001b[0m\u001b[0;34m.\u001b[0m\u001b[0m_reader\u001b[0m \u001b[0;34m=\u001b[0m \u001b[0m_parser\u001b[0m\u001b[0;34m.\u001b[0m\u001b[0mTextReader\u001b[0m\u001b[0;34m(\u001b[0m\u001b[0msrc\u001b[0m\u001b[0;34m,\u001b[0m \u001b[0;34m**\u001b[0m\u001b[0mkwds\u001b[0m\u001b[0;34m)\u001b[0m\u001b[0;34m\u001b[0m\u001b[0m\n\u001b[0m\u001b[1;32m   1073\u001b[0m \u001b[0;34m\u001b[0m\u001b[0m\n\u001b[1;32m   1074\u001b[0m         \u001b[0;31m# XXX\u001b[0m\u001b[0;34m\u001b[0m\u001b[0;34m\u001b[0m\u001b[0m\n",
      "\u001b[0;32mpandas/parser.pyx\u001b[0m in \u001b[0;36mpandas.parser.TextReader.__cinit__ (pandas/parser.c:3173)\u001b[0;34m()\u001b[0m\n",
      "\u001b[0;32mpandas/parser.pyx\u001b[0m in \u001b[0;36mpandas.parser.TextReader._setup_parser_source (pandas/parser.c:5912)\u001b[0;34m()\u001b[0m\n",
      "\u001b[0;31mIOError\u001b[0m: File helper/user_median.csv does not exist"
     ]
    }
   ],
   "source": [
    "import pandas as pd\n",
    "user_median = pd.read_csv(\"helper/user_median.csv\")"
   ]
  },
  {
   "cell_type": "code",
   "execution_count": null,
   "metadata": {
    "collapsed": true
   },
   "outputs": [],
   "source": []
  }
 ],
 "metadata": {
  "kernelspec": {
   "display_name": "Python 2",
   "language": "python",
   "name": "python2"
  },
  "language_info": {
   "codemirror_mode": {
    "name": "ipython",
    "version": 2
   },
   "file_extension": ".py",
   "mimetype": "text/x-python",
   "name": "python",
   "nbconvert_exporter": "python",
   "pygments_lexer": "ipython2",
   "version": "2.7.10"
  }
 },
 "nbformat": 4,
 "nbformat_minor": 0
}
