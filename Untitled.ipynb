{
 "cells": [
  {
   "cell_type": "code",
   "execution_count": 100,
   "metadata": {
    "collapsed": true
   },
   "outputs": [],
   "source": [
    "import pandas as pd\n",
    "import numpy as np\n",
    "import requests\n",
    "import time\n",
    "import re\n",
    "from bs4 import BeautifulSoup\n",
    "from matplotlib import pyplot as plt"
   ]
  },
  {
   "cell_type": "code",
   "execution_count": 3,
   "metadata": {
    "collapsed": true
   },
   "outputs": [],
   "source": [
    "artists_file  = 'artists.csv'\n",
    "profiles_file = 'profiles.csv'\n",
    "test_file = 'test.csv'\n",
    "train_file = 'train.csv'\n",
    "median_file = 'user_median.csv'\n",
    "GLOBAL_MEDIAN = 118.0"
   ]
  },
  {
   "cell_type": "code",
   "execution_count": 6,
   "metadata": {
    "collapsed": true
   },
   "outputs": [],
   "source": [
    "artists = pd.read_csv(artists_file)\n",
    "profiles = pd.read_csv(profiles_file)\n",
    "test = pd.read_csv(test_file)\n",
    "train = pd.read_csv(train_file)\n",
    "medians = pd.read_csv(median_file)"
   ]
  },
  {
   "cell_type": "code",
   "execution_count": 10,
   "metadata": {
    "collapsed": false
   },
   "outputs": [
    {
     "data": {
      "text/html": [
       "<div>\n",
       "<table border=\"1\" class=\"dataframe\">\n",
       "  <thead>\n",
       "    <tr style=\"text-align: right;\">\n",
       "      <th></th>\n",
       "      <th>artist</th>\n",
       "      <th>name</th>\n",
       "    </tr>\n",
       "  </thead>\n",
       "  <tbody>\n",
       "    <tr>\n",
       "      <th>0</th>\n",
       "      <td>03098741-08b3-4dd7-b3f6-1b0bfa2c879c</td>\n",
       "      <td>Liars</td>\n",
       "    </tr>\n",
       "    <tr>\n",
       "      <th>1</th>\n",
       "      <td>69c4cc43-8163-41c5-ac81-30946d27bb69</td>\n",
       "      <td>CunninLynguists</td>\n",
       "    </tr>\n",
       "    <tr>\n",
       "      <th>2</th>\n",
       "      <td>7a2e6b55-f149-4e74-be6a-30a1b1a387bb</td>\n",
       "      <td>The Desert Sessions</td>\n",
       "    </tr>\n",
       "    <tr>\n",
       "      <th>3</th>\n",
       "      <td>7002bf88-1269-4965-a772-4ba1e7a91eaa</td>\n",
       "      <td>Glenn Gould</td>\n",
       "    </tr>\n",
       "    <tr>\n",
       "      <th>4</th>\n",
       "      <td>dbf7c761-e332-467b-b4d9-aafe06bbcf8f</td>\n",
       "      <td>G. Love &amp; Special Sauce</td>\n",
       "    </tr>\n",
       "  </tbody>\n",
       "</table>\n",
       "</div>"
      ],
      "text/plain": [
       "                                 artist                     name\n",
       "0  03098741-08b3-4dd7-b3f6-1b0bfa2c879c                    Liars\n",
       "1  69c4cc43-8163-41c5-ac81-30946d27bb69          CunninLynguists\n",
       "2  7a2e6b55-f149-4e74-be6a-30a1b1a387bb      The Desert Sessions\n",
       "3  7002bf88-1269-4965-a772-4ba1e7a91eaa              Glenn Gould\n",
       "4  dbf7c761-e332-467b-b4d9-aafe06bbcf8f  G. Love & Special Sauce"
      ]
     },
     "execution_count": 10,
     "metadata": {},
     "output_type": "execute_result"
    }
   ],
   "source": [
    "artists.head()"
   ]
  },
  {
   "cell_type": "code",
   "execution_count": 11,
   "metadata": {
    "collapsed": false
   },
   "outputs": [
    {
     "data": {
      "text/html": [
       "<div>\n",
       "<table border=\"1\" class=\"dataframe\">\n",
       "  <thead>\n",
       "    <tr style=\"text-align: right;\">\n",
       "      <th></th>\n",
       "      <th>user</th>\n",
       "      <th>sex</th>\n",
       "      <th>age</th>\n",
       "      <th>country</th>\n",
       "    </tr>\n",
       "  </thead>\n",
       "  <tbody>\n",
       "    <tr>\n",
       "      <th>0</th>\n",
       "      <td>fa40b43298ba3f8aa52e8e8863faf2e2171e0b5d</td>\n",
       "      <td>f</td>\n",
       "      <td>25</td>\n",
       "      <td>Sweden</td>\n",
       "    </tr>\n",
       "    <tr>\n",
       "      <th>1</th>\n",
       "      <td>5909125332c108365a26ccf0ee62636eee08215c</td>\n",
       "      <td>m</td>\n",
       "      <td>29</td>\n",
       "      <td>Iceland</td>\n",
       "    </tr>\n",
       "    <tr>\n",
       "      <th>2</th>\n",
       "      <td>d1867cbda35e0d48e9a8390d9f5e079c9d99ea96</td>\n",
       "      <td>m</td>\n",
       "      <td>30</td>\n",
       "      <td>United States</td>\n",
       "    </tr>\n",
       "    <tr>\n",
       "      <th>3</th>\n",
       "      <td>63268cce0d68127729890c1691f62d5be5abd87c</td>\n",
       "      <td>m</td>\n",
       "      <td>21</td>\n",
       "      <td>Germany</td>\n",
       "    </tr>\n",
       "    <tr>\n",
       "      <th>4</th>\n",
       "      <td>02871cd952d607ba69b64e2e107773012c708113</td>\n",
       "      <td>m</td>\n",
       "      <td>24</td>\n",
       "      <td>Netherlands</td>\n",
       "    </tr>\n",
       "  </tbody>\n",
       "</table>\n",
       "</div>"
      ],
      "text/plain": [
       "                                       user sex  age        country\n",
       "0  fa40b43298ba3f8aa52e8e8863faf2e2171e0b5d   f   25         Sweden\n",
       "1  5909125332c108365a26ccf0ee62636eee08215c   m   29        Iceland\n",
       "2  d1867cbda35e0d48e9a8390d9f5e079c9d99ea96   m   30  United States\n",
       "3  63268cce0d68127729890c1691f62d5be5abd87c   m   21        Germany\n",
       "4  02871cd952d607ba69b64e2e107773012c708113   m   24    Netherlands"
      ]
     },
     "execution_count": 11,
     "metadata": {},
     "output_type": "execute_result"
    }
   ],
   "source": [
    "profiles.head()"
   ]
  },
  {
   "cell_type": "code",
   "execution_count": 15,
   "metadata": {
    "collapsed": false
   },
   "outputs": [
    {
     "data": {
      "text/html": [
       "<div>\n",
       "<table border=\"1\" class=\"dataframe\">\n",
       "  <thead>\n",
       "    <tr style=\"text-align: right;\">\n",
       "      <th></th>\n",
       "      <th>user</th>\n",
       "      <th>artist</th>\n",
       "      <th>plays</th>\n",
       "    </tr>\n",
       "  </thead>\n",
       "  <tbody>\n",
       "    <tr>\n",
       "      <th>0</th>\n",
       "      <td>eb1c57ddc9e0e2d005169d3a1a96e8dd95e3af03</td>\n",
       "      <td>5a8e07d5-d932-4484-a7f7-e700793a9c94</td>\n",
       "      <td>554</td>\n",
       "    </tr>\n",
       "    <tr>\n",
       "      <th>1</th>\n",
       "      <td>44ce793a6cd9d20f13f4a576a818ef983314bb5d</td>\n",
       "      <td>a3a92047-be1c-4f3e-8960-c4f8570984df</td>\n",
       "      <td>81</td>\n",
       "    </tr>\n",
       "    <tr>\n",
       "      <th>2</th>\n",
       "      <td>da9cf3f557161d54b76f24db64be9cc76db008e3</td>\n",
       "      <td>eeb1195b-f213-4ce1-b28c-8565211f8e43</td>\n",
       "      <td>708</td>\n",
       "    </tr>\n",
       "    <tr>\n",
       "      <th>3</th>\n",
       "      <td>8fa49ab25d425edcf05d44bfc1d5aea895287d81</td>\n",
       "      <td>a1419808-65d3-4d40-998c-1a0bac65eabc</td>\n",
       "      <td>265</td>\n",
       "    </tr>\n",
       "    <tr>\n",
       "      <th>4</th>\n",
       "      <td>b85fcaef67d2669cd99b334b5e8c8705263db2cf</td>\n",
       "      <td>a3cb23fc-acd3-4ce0-8f36-1e5aa6a18432</td>\n",
       "      <td>220</td>\n",
       "    </tr>\n",
       "  </tbody>\n",
       "</table>\n",
       "</div>"
      ],
      "text/plain": [
       "                                       user  \\\n",
       "0  eb1c57ddc9e0e2d005169d3a1a96e8dd95e3af03   \n",
       "1  44ce793a6cd9d20f13f4a576a818ef983314bb5d   \n",
       "2  da9cf3f557161d54b76f24db64be9cc76db008e3   \n",
       "3  8fa49ab25d425edcf05d44bfc1d5aea895287d81   \n",
       "4  b85fcaef67d2669cd99b334b5e8c8705263db2cf   \n",
       "\n",
       "                                 artist  plays  \n",
       "0  5a8e07d5-d932-4484-a7f7-e700793a9c94    554  \n",
       "1  a3a92047-be1c-4f3e-8960-c4f8570984df     81  \n",
       "2  eeb1195b-f213-4ce1-b28c-8565211f8e43    708  \n",
       "3  a1419808-65d3-4d40-998c-1a0bac65eabc    265  \n",
       "4  a3cb23fc-acd3-4ce0-8f36-1e5aa6a18432    220  "
      ]
     },
     "execution_count": 15,
     "metadata": {},
     "output_type": "execute_result"
    }
   ],
   "source": [
    "train.head()"
   ]
  },
  {
   "cell_type": "code",
   "execution_count": 365,
   "metadata": {
    "collapsed": false
   },
   "outputs": [],
   "source": [
    "artist_list = artists.name\n",
    "\n",
    "def is_ascii(s):\n",
    "    return all(ord(c) < 128 for c in s)"
   ]
  },
  {
   "cell_type": "code",
   "execution_count": 366,
   "metadata": {
    "collapsed": false
   },
   "outputs": [],
   "source": [
    "def genURLGoogle(artist) :\n",
    "    if pd.isnull(artist) == False and is_ascii(artist) :\n",
    "        fixArtist = artist.replace(\" \",\"+\").replace(\"&\",\"%26\")\n",
    "        var = requests.get('http://www.google.com/search?q=site%3Awikipedia.org+'+fixArtist+'+music+band+artist')\n",
    "        soup = BeautifulSoup(var.text, \"html.parser\")\n",
    "        relevant = [link for link in [el.get(\"href\") for el in soup.find_all('a')] if 'https://en.wikipedia.org' in link]\n",
    "        return relevant[0]\n",
    "    else :\n",
    "        return \"NA\""
   ]
  },
  {
   "cell_type": "code",
   "execution_count": 367,
   "metadata": {
    "collapsed": false
   },
   "outputs": [],
   "source": [
    "def genURLYahoo(artist) :\n",
    "    if pd.isnull(artist) == False and is_ascii(artist) :\n",
    "        fixArtist = artist.replace(\" \",\"+\").replace(\"&\",\"%26\")\n",
    "        var = requests.get('https://search.yahoo.com/search;_ylt=A0oG7l7PeB5P3G0AKASl87UF?p=site:wikipedia.org+'+fixArtist+'+music+band+artist')\n",
    "        soup = BeautifulSoup(var.text, \"html.parser\")\n",
    "        relevant = [link for link in [el.get(\"href\") for el in soup.find_all('a')] if 'https://en.wikipedia.org' in link]\n",
    "        return relevant[0]\n",
    "    else :\n",
    "        return \"NA\""
   ]
  },
  {
   "cell_type": "code",
   "execution_count": 368,
   "metadata": {
    "collapsed": false
   },
   "outputs": [],
   "source": [
    "def genURLBing(artist) :\n",
    "    if pd.isnull(artist) == False and is_ascii(artist) :\n",
    "        fixArtist = artist.replace(\" \",\"+\").replace(\"&\",\"%26\")\n",
    "        var = requests.get('http://www.bing.com/search?q=site%3Awikipedia.org+'+fixArtist+'+music+band+artist')\n",
    "        soup = BeautifulSoup(var.text, \"html.parser\")\n",
    "        allLinks = [str(el.get(\"href\")) for el in soup.find_all('a')]\n",
    "        relevant = [link for link in allLinks if 'https://en.wikipedia.org' in link]\n",
    "        return relevant[0]\n",
    "    else :\n",
    "        return \"NA\""
   ]
  },
  {
   "cell_type": "code",
   "execution_count": 369,
   "metadata": {
    "collapsed": true
   },
   "outputs": [],
   "source": [
    "url_list = json.loads(open('url_list.txt').read())"
   ]
  },
  {
   "cell_type": "code",
   "execution_count": 396,
   "metadata": {
    "collapsed": false,
    "scrolled": true
   },
   "outputs": [
    {
     "name": "stdout",
     "output_type": "stream",
     "text": [
      "Already finished!\n"
     ]
    }
   ],
   "source": [
    "def searchFunction(artist, searchOrder) :\n",
    "    if searchOrder[0] == True :\n",
    "        return genURLGoogle(artist)\n",
    "    elif searchOrder[1] == True :\n",
    "        return genURLYahoo(artist)\n",
    "    elif searchOrder[2] == True :\n",
    "        return genURLBing(artist)\n",
    "\n",
    "restart = len(url_list)\n",
    "\n",
    "if restart < len(artist_list) :\n",
    "    searchOrder = [True, True, True]\n",
    "    \n",
    "    for i in range(restart,len(artist_list)) :\n",
    "        if i % 10 == 0 :\n",
    "            print i\n",
    "        \n",
    "        try :\n",
    "            url_list.append(searchFunction(artist_list[i], searchOrder))\n",
    "        except IndexError :\n",
    "            print \"Google is broken\"\n",
    "            searchOrder = [False, True, True]\n",
    "            try : \n",
    "                url_list.append(searchFunction(artist_list[i], searchOrder))\n",
    "            except IndexError :\n",
    "                print \"Yahoo is broken\"\n",
    "                searchOrder = [False, False, True]\n",
    "                try :\n",
    "                    url_list.append(searchFunction(artist_list[i], searchOrder))\n",
    "                except IndexError :\n",
    "                    print \"Bing is broken\"\n",
    "                    print \"Stuck at \" + str(i)\n",
    "                    break\n",
    "else :\n",
    "    print \"Already finished!\""
   ]
  },
  {
   "cell_type": "code",
   "execution_count": 398,
   "metadata": {
    "collapsed": false
   },
   "outputs": [],
   "source": [
    "import json\n",
    "with open('url_list.txt', 'w') as outfile:\n",
    "    json.dump(url_list, outfile)"
   ]
  },
  {
   "cell_type": "code",
   "execution_count": 401,
   "metadata": {
    "collapsed": false
   },
   "outputs": [],
   "source": [
    "def artistInfo(artist, link) :\n",
    "    if link != \"NA\" :\n",
    "        artistDict = {}\n",
    "        artistDict['artist'] = artist\n",
    "        \n",
    "        var = requests.get(link)\n",
    "        soup = BeautifulSoup(var.text, \"html.parser\")\n",
    "        \n",
    "        born_exists = soup.find(\"span\", attrs={\"class\" : \"bday\"})\n",
    "        if (born_exists and len(born_exists.get_text()) > 4 and born_exists.get_text()[4] == \"-\") :\n",
    "            artistDict['born'] = born_exists.get_text()\n",
    "        else :\n",
    "            artistDict['born'] = False\n",
    "\n",
    "        genre_exists = soup.find(title='Music genre')\n",
    "        if genre_exists :\n",
    "            artistDict['genre'] = [entry.get(\"href\") for entry in soup.find(title=\"Music genre\").parent.parent.find_all('a')[1:] if entry.get(\"href\")[1:5] == 'wiki']\n",
    "        else :\n",
    "            artistDict['genre'] = False\n",
    "\n",
    "        ya_exists = soup.find(text=re.compile(\"Years\"))\n",
    "        try :\n",
    "            artistDict['ya'] = ya_exists.parent.parent.find('td').get_text()\n",
    "        except AttributeError :\n",
    "            artistDict['ya'] = False\n",
    "\n",
    "        return artistDict\n",
    "    else :\n",
    "        return {'artist':'NA', 'born':False, 'genre':False, 'ya':False}"
   ]
  },
  {
   "cell_type": "code",
   "execution_count": 409,
   "metadata": {
    "collapsed": false
   },
   "outputs": [],
   "source": [
    "info_list = json.loads(open('info_list.txt').read())"
   ]
  },
  {
   "cell_type": "code",
   "execution_count": 413,
   "metadata": {
    "collapsed": false,
    "scrolled": true
   },
   "outputs": [
    {
     "name": "stdout",
     "output_type": "stream",
     "text": [
      "Already finished!\n"
     ]
    }
   ],
   "source": [
    "restart = len(info_list)\n",
    "\n",
    "if restart < len(artist_list) :\n",
    "    for i in range(restart,len(artist_list)) :\n",
    "        if i % 10 == 0 :\n",
    "            print i\n",
    "        info_list.append(artistInfo(artist_list[i], url_list[i]))\n",
    "else :\n",
    "    print \"Already finished!\""
   ]
  },
  {
   "cell_type": "code",
   "execution_count": 411,
   "metadata": {
    "collapsed": false
   },
   "outputs": [],
   "source": [
    "import json\n",
    "with open('info_list.txt', 'w') as outfile:\n",
    "    json.dump(info_list, outfile)"
   ]
  },
  {
   "cell_type": "code",
   "execution_count": 424,
   "metadata": {
    "collapsed": false
   },
   "outputs": [],
   "source": [
    "info_list = json.loads(open('info_list.txt').read())\n",
    "info_list = pd.DataFrame(info_list)"
   ]
  },
  {
   "cell_type": "code",
   "execution_count": 449,
   "metadata": {
    "collapsed": false
   },
   "outputs": [],
   "source": [
    "import collections\n",
    "genre_dict = collections.defaultdict(int)\n",
    "\n",
    "for genre_list in info_list.genre :\n",
    "    if type(genre_list) != bool :   \n",
    "        for genre in genre_list :\n",
    "            genre_dict[genre] += 1\n",
    "    elif type(genre) == bool :\n",
    "        genre_dict['Unknown'] += 1"
   ]
  },
  {
   "cell_type": "code",
   "execution_count": 482,
   "metadata": {
    "collapsed": false
   },
   "outputs": [],
   "source": [
    "import operator\n",
    "sorted_genres = sorted(genre_dict.items(), key=operator.itemgetter(1), reverse=True)\n",
    "filtered_genres = [zip[0] for zip in sorted_genres[0:238]]\n",
    "for genre in filtered_genres :\n",
    "    info_list[genre] = [genre in song_genres if type(song_genres) != bool else False for song_genres in info_list['genre']]"
   ]
  },
  {
   "cell_type": "code",
   "execution_count": 493,
   "metadata": {
    "collapsed": false
   },
   "outputs": [],
   "source": [
    "start_year = []\n",
    "active_present = []\n",
    "\n",
    "for years in info_list.ya :\n",
    "    if type(years) != bool :\n",
    "        if len(years) > 4 and (\"19\" in years[0:4] or \"20\" in years[0:4]):\n",
    "            result = int(years[0:4])\n",
    "            if 1900 < result < 2016 :\n",
    "                start_year.append(result)\n",
    "            else :\n",
    "                start_year.append(\"Unknown\")\n",
    "        else :\n",
    "            start_year.append(\"Unknown\")\n",
    "            \n",
    "        if \"present\" in years :\n",
    "            active_present.append(\"Active\")\n",
    "        else :\n",
    "            active_present.append(\"Nonactive\")\n",
    "    else :\n",
    "        start_year.append(\"Unknown\")\n",
    "        active_present.append(\"Unknown\")\n",
    "\n",
    "info_list['start_year'] = start_year\n",
    "info_list['active_present'] = active_present"
   ]
  },
  {
   "cell_type": "code",
   "execution_count": 496,
   "metadata": {
    "collapsed": false
   },
   "outputs": [],
   "source": [
    "info_list = info_list.drop(['born','genre','ya'],axis=1)\n",
    "info_list.to_pickle('info_list.pkl')"
   ]
  },
  {
   "cell_type": "code",
   "execution_count": 526,
   "metadata": {
    "collapsed": false
   },
   "outputs": [],
   "source": [
    "info_list = pd.read_pickle('info_list.pkl')\n",
    "info_list.columns = info_list.columns.str.replace('artist','name')\n",
    "info_list['artist'] = artists.artist"
   ]
  },
  {
   "cell_type": "code",
   "execution_count": 533,
   "metadata": {
    "collapsed": false
   },
   "outputs": [
    {
     "data": {
      "text/plain": [
       "(4154804, 244)"
      ]
     },
     "execution_count": 533,
     "metadata": {},
     "output_type": "execute_result"
    }
   ],
   "source": [
    "trainMaster = pd.merge(train, info_list, on=\"artist\")\n",
    "trainMaster.shape"
   ]
  },
  {
   "cell_type": "code",
   "execution_count": 538,
   "metadata": {
    "collapsed": false
   },
   "outputs": [
    {
     "data": {
      "text/html": [
       "<div>\n",
       "<table border=\"1\" class=\"dataframe\">\n",
       "  <thead>\n",
       "    <tr style=\"text-align: right;\">\n",
       "      <th></th>\n",
       "      <th>Id</th>\n",
       "      <th>plays</th>\n",
       "    </tr>\n",
       "  </thead>\n",
       "  <tbody>\n",
       "    <tr>\n",
       "      <th>0</th>\n",
       "      <td>1</td>\n",
       "      <td>72.5</td>\n",
       "    </tr>\n",
       "    <tr>\n",
       "      <th>1</th>\n",
       "      <td>2</td>\n",
       "      <td>143.5</td>\n",
       "    </tr>\n",
       "    <tr>\n",
       "      <th>2</th>\n",
       "      <td>3</td>\n",
       "      <td>207.0</td>\n",
       "    </tr>\n",
       "    <tr>\n",
       "      <th>3</th>\n",
       "      <td>4</td>\n",
       "      <td>307.0</td>\n",
       "    </tr>\n",
       "    <tr>\n",
       "      <th>4</th>\n",
       "      <td>5</td>\n",
       "      <td>109.0</td>\n",
       "    </tr>\n",
       "  </tbody>\n",
       "</table>\n",
       "</div>"
      ],
      "text/plain": [
       "   Id  plays\n",
       "0   1   72.5\n",
       "1   2  143.5\n",
       "2   3  207.0\n",
       "3   4  307.0\n",
       "4   5  109.0"
      ]
     },
     "execution_count": 538,
     "metadata": {},
     "output_type": "execute_result"
    }
   ],
   "source": [
    "medians.head()"
   ]
  },
  {
   "cell_type": "code",
   "execution_count": null,
   "metadata": {
    "collapsed": true
   },
   "outputs": [],
   "source": []
  }
 ],
 "metadata": {
  "kernelspec": {
   "display_name": "Python 2",
   "language": "python",
   "name": "python2"
  },
  "language_info": {
   "codemirror_mode": {
    "name": "ipython",
    "version": 2
   },
   "file_extension": ".py",
   "mimetype": "text/x-python",
   "name": "python",
   "nbconvert_exporter": "python",
   "pygments_lexer": "ipython2",
   "version": "2.7.10"
  }
 },
 "nbformat": 4,
 "nbformat_minor": 0
}
