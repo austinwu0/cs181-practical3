{
 "cells": [
  {
   "cell_type": "code",
   "execution_count": 1,
   "metadata": {
    "collapsed": true
   },
   "outputs": [],
   "source": [
    "import pandas as pd\n",
    "import numpy as np\n",
    "import requests\n",
    "import time\n",
    "import re\n",
    "import json\n",
    "import time\n",
    "import random\n",
    "\n",
    "import spotipy\n",
    "import tweepy\n",
    "\n",
    "from bs4 import BeautifulSoup\n",
    "from matplotlib import pyplot as plt\n",
    "from collections import defaultdict\n",
    "from collections import deque\n",
    "from fake_useragent import UserAgent\n",
    "\n",
    "%matplotlib inline"
   ]
  },
  {
   "cell_type": "code",
   "execution_count": 84,
   "metadata": {
    "collapsed": false
   },
   "outputs": [],
   "source": [
    "test = pd.read_csv(\"helper/test.csv\")\n",
    "train = pd.read_csv(\"helper/train.csv\")\n",
    "artists = pd.read_csv(\"helper/artists.csv\")\n",
    "profiles = pd.read_csv(\"helper/profiles.csv\")"
   ]
  },
  {
   "cell_type": "code",
   "execution_count": 85,
   "metadata": {
    "collapsed": false
   },
   "outputs": [
    {
     "name": "stdout",
     "output_type": "stream",
     "text": [
      "All profiles: 233286\n",
      "New profiles: 231368\n"
     ]
    }
   ],
   "source": [
    "print \"All profiles: \" + str(len(profiles))\n",
    "median_age = profiles.age.median()\n",
    "profiles['age'] = [median_age if pd.isnull(age) else age for age in profiles.age]\n",
    "profiles = profiles[(profiles.age <= 60) & (profiles.age >= 12)]\n",
    "print \"New profiles: \" + str(len(profiles))"
   ]
  },
  {
   "cell_type": "code",
   "execution_count": 156,
   "metadata": {
    "collapsed": true
   },
   "outputs": [],
   "source": [
    "somelist = []\n",
    "\n",
    "merged = pd.merge(train, profiles, on='user')\n",
    "\n",
    "for group in merged.groupby('user') :\n",
    "    somelist.append(group[1]['plays'].median())\n",
    "GLOBAL_USER = np.median(somelist)\n",
    "\n",
    "for group in merged.groupby('artist') :\n",
    "    somelist.append(group[1]['plays'].median())\n",
    "GLOBAL_ARTIST = np.median(somelist)\n",
    "\n",
    "for group in merged.groupby('country') :\n",
    "    somelist.append(group[1]['plays'].median())\n",
    "GLOBAL_COUNTRY = np.median(somelist)\n",
    "\n",
    "for group in merged.groupby('sex') :\n",
    "    somelist.append(group[1]['plays'].median())\n",
    "GLOBAL_SEX = np.median(somelist)"
   ]
  },
  {
   "cell_type": "code",
   "execution_count": 161,
   "metadata": {
    "collapsed": false
   },
   "outputs": [],
   "source": [
    "newtrain = train.sample(frac=0.01)\n",
    "newtrain_Y = newtrain['plays']\n",
    "\n",
    "newtest = train.sample(frac=0.01)\n",
    "newtest_Y = newtest['plays']"
   ]
  },
  {
   "cell_type": "code",
   "execution_count": 190,
   "metadata": {
    "collapsed": false,
    "scrolled": true
   },
   "outputs": [],
   "source": [
    "def test_func(row, *args) :\n",
    "    group_medians = args[0]\n",
    "    \n",
    "    try :\n",
    "        row['user_median'] = group_medians[row['user']]\n",
    "    except :\n",
    "        row['user_median'] = GLOBAL_USER\n",
    "        \n",
    "    try :\n",
    "        row['artist_median'] = group_medians[row['artist']]\n",
    "    except :\n",
    "        row['artist_median'] = GLOBAL_ARTIST\n",
    "    \n",
    "    try :\n",
    "        row['sex_median'] = group_medians[row['sex']]\n",
    "    except :\n",
    "        row['sex_median'] = GLOBAL_SEX\n",
    "    \n",
    "    try : \n",
    "        row['country_median'] = group_medians[row['country']]\n",
    "    except :\n",
    "        row['country_median'] = GLOBAL_COUNTRY\n",
    "    \n",
    "    row_age = row['age']\n",
    "    finished = False\n",
    "    while finished == False : \n",
    "        try :\n",
    "            row['age_median'] = group_medians[row_age]\n",
    "            finished = True\n",
    "        except :\n",
    "            row_age -= 1\n",
    "        \n",
    "    return row[['user_median','artist_median','sex_median','country_median','age_median']]\n",
    "\n",
    "def generateX(train, test, profiles, GLOBAL_USER, GLOBAL_ARTIST, GLOBAL_GENDER, returning=\"test\") :\n",
    "    train_merged = pd.merge(train, profiles, on='user')\n",
    "    test_merged = pd.merge(test, profiles, on='user')\n",
    "\n",
    "    group_medians = {}\n",
    "\n",
    "    for sex in train_merged.groupby('sex') :\n",
    "        group_medians[sex[0]] = sex[1]['plays'].median()\n",
    "    for country in train_merged.groupby('country') :\n",
    "        group_medians[country[0]] = country[1]['plays'].median()\n",
    "    for age in train_merged.groupby('age') :\n",
    "        group_medians[age[0]] = age[1]['plays'].median()\n",
    "    for user in train_merged.groupby('user') :\n",
    "        group_medians[user[0]] = user[1]['plays'].median()\n",
    "    for artist in train_merged.groupby('artist') :\n",
    "        group_medians[artist[0]] = artist[1]['plays'].median()\n",
    "    \n",
    "    if returning==\"test\" :\n",
    "        return test_merged.apply(test_func, axis=1, args=(group_medians,))\n",
    "    elif returning==\"train\" :\n",
    "        return train_merged.apply(test_func, axis=1, args=(group_medians,))"
   ]
  },
  {
   "cell_type": "code",
   "execution_count": 192,
   "metadata": {
    "collapsed": false
   },
   "outputs": [],
   "source": [
    "newtrain_X = generateX(newtrain, newtest, profiles, GLOBAL_USER, GLOBAL_ARTIST, GLOBAL_GENDER, returning=\"train\")\n",
    "newtest_X = generateX(newtrain, newtest, profiles, GLOBAL_USER, GLOBAL_ARTIST, GLOBAL_GENDER, returning=\"test\")"
   ]
  },
  {
   "cell_type": "code",
   "execution_count": 200,
   "metadata": {
    "collapsed": false
   },
   "outputs": [
    {
     "name": "stdout",
     "output_type": "stream",
     "text": [
      "(41193, 5)\n",
      "(41548,)\n",
      "(41548, 3)\n"
     ]
    }
   ],
   "source": [
    "print newtrain_X.shape\n",
    "print newtrain_Y.shape\n",
    "print newtrain.shape"
   ]
  },
  {
   "cell_type": "code",
   "execution_count": 193,
   "metadata": {
    "collapsed": false
   },
   "outputs": [
    {
     "name": "stdout",
     "output_type": "stream",
     "text": [
      "CPU times: user 2 µs, sys: 1e+03 ns, total: 3 µs\n",
      "Wall time: 6.91 µs\n"
     ]
    },
    {
     "ename": "ValueError",
     "evalue": "Found arrays with inconsistent numbers of samples: [41193 41548]",
     "output_type": "error",
     "traceback": [
      "\u001b[0;31m---------------------------------------------------------------------------\u001b[0m",
      "\u001b[0;31mValueError\u001b[0m                                Traceback (most recent call last)",
      "\u001b[0;32m<ipython-input-193-8688d5fcf27c>\u001b[0m in \u001b[0;36m<module>\u001b[0;34m()\u001b[0m\n\u001b[1;32m      2\u001b[0m \u001b[0;32mfrom\u001b[0m \u001b[0msklearn\u001b[0m \u001b[0;32mimport\u001b[0m \u001b[0mlinear_model\u001b[0m\u001b[0;34m\u001b[0m\u001b[0m\n\u001b[1;32m      3\u001b[0m \u001b[0mclf\u001b[0m \u001b[0;34m=\u001b[0m \u001b[0mlinear_model\u001b[0m\u001b[0;34m.\u001b[0m\u001b[0mLinearRegression\u001b[0m\u001b[0;34m(\u001b[0m\u001b[0;34m)\u001b[0m\u001b[0;34m\u001b[0m\u001b[0m\n\u001b[0;32m----> 4\u001b[0;31m \u001b[0mclf\u001b[0m\u001b[0;34m.\u001b[0m\u001b[0mfit\u001b[0m\u001b[0;34m(\u001b[0m\u001b[0mnewtrain_X\u001b[0m\u001b[0;34m,\u001b[0m \u001b[0mnewtrain_Y\u001b[0m\u001b[0;34m)\u001b[0m\u001b[0;34m\u001b[0m\u001b[0m\n\u001b[0m\u001b[1;32m      5\u001b[0m \u001b[0my_pred\u001b[0m \u001b[0;34m=\u001b[0m \u001b[0mclf\u001b[0m\u001b[0;34m.\u001b[0m\u001b[0mpredict\u001b[0m\u001b[0;34m(\u001b[0m\u001b[0mnewtest_X\u001b[0m\u001b[0;34m)\u001b[0m\u001b[0;34m\u001b[0m\u001b[0m\n",
      "\u001b[0;32m//anaconda/lib/python2.7/site-packages/sklearn/linear_model/base.pyc\u001b[0m in \u001b[0;36mfit\u001b[0;34m(self, X, y, n_jobs)\u001b[0m\n\u001b[1;32m    374\u001b[0m             \u001b[0mn_jobs_\u001b[0m \u001b[0;34m=\u001b[0m \u001b[0mself\u001b[0m\u001b[0;34m.\u001b[0m\u001b[0mn_jobs\u001b[0m\u001b[0;34m\u001b[0m\u001b[0m\n\u001b[1;32m    375\u001b[0m         X, y = check_X_y(X, y, accept_sparse=['csr', 'csc', 'coo'],\n\u001b[0;32m--> 376\u001b[0;31m                          y_numeric=True, multi_output=True)\n\u001b[0m\u001b[1;32m    377\u001b[0m \u001b[0;34m\u001b[0m\u001b[0m\n\u001b[1;32m    378\u001b[0m         X, y, X_mean, y_mean, X_std = self._center_data(\n",
      "\u001b[0;32m//anaconda/lib/python2.7/site-packages/sklearn/utils/validation.pyc\u001b[0m in \u001b[0;36mcheck_X_y\u001b[0;34m(X, y, accept_sparse, dtype, order, copy, force_all_finite, ensure_2d, allow_nd, multi_output, ensure_min_samples, ensure_min_features, y_numeric)\u001b[0m\n\u001b[1;32m    452\u001b[0m         \u001b[0my\u001b[0m \u001b[0;34m=\u001b[0m \u001b[0my\u001b[0m\u001b[0;34m.\u001b[0m\u001b[0mastype\u001b[0m\u001b[0;34m(\u001b[0m\u001b[0mnp\u001b[0m\u001b[0;34m.\u001b[0m\u001b[0mfloat64\u001b[0m\u001b[0;34m)\u001b[0m\u001b[0;34m\u001b[0m\u001b[0m\n\u001b[1;32m    453\u001b[0m \u001b[0;34m\u001b[0m\u001b[0m\n\u001b[0;32m--> 454\u001b[0;31m     \u001b[0mcheck_consistent_length\u001b[0m\u001b[0;34m(\u001b[0m\u001b[0mX\u001b[0m\u001b[0;34m,\u001b[0m \u001b[0my\u001b[0m\u001b[0;34m)\u001b[0m\u001b[0;34m\u001b[0m\u001b[0m\n\u001b[0m\u001b[1;32m    455\u001b[0m \u001b[0;34m\u001b[0m\u001b[0m\n\u001b[1;32m    456\u001b[0m     \u001b[0;32mreturn\u001b[0m \u001b[0mX\u001b[0m\u001b[0;34m,\u001b[0m \u001b[0my\u001b[0m\u001b[0;34m\u001b[0m\u001b[0m\n",
      "\u001b[0;32m//anaconda/lib/python2.7/site-packages/sklearn/utils/validation.pyc\u001b[0m in \u001b[0;36mcheck_consistent_length\u001b[0;34m(*arrays)\u001b[0m\n\u001b[1;32m    172\u001b[0m     \u001b[0;32mif\u001b[0m \u001b[0mlen\u001b[0m\u001b[0;34m(\u001b[0m\u001b[0muniques\u001b[0m\u001b[0;34m)\u001b[0m \u001b[0;34m>\u001b[0m \u001b[0;36m1\u001b[0m\u001b[0;34m:\u001b[0m\u001b[0;34m\u001b[0m\u001b[0m\n\u001b[1;32m    173\u001b[0m         raise ValueError(\"Found arrays with inconsistent numbers of samples: \"\n\u001b[0;32m--> 174\u001b[0;31m                          \"%s\" % str(uniques))\n\u001b[0m\u001b[1;32m    175\u001b[0m \u001b[0;34m\u001b[0m\u001b[0m\n\u001b[1;32m    176\u001b[0m \u001b[0;34m\u001b[0m\u001b[0m\n",
      "\u001b[0;31mValueError\u001b[0m: Found arrays with inconsistent numbers of samples: [41193 41548]"
     ]
    }
   ],
   "source": [
    "%time\n",
    "from sklearn import linear_model\n",
    "clf = linear_model.LinearRegression()\n",
    "clf.fit(newtrain_X, newtrain_Y)\n",
    "y_pred = clf.predict(newtest_X)"
   ]
  },
  {
   "cell_type": "code",
   "execution_count": null,
   "metadata": {
    "collapsed": true
   },
   "outputs": [],
   "source": [
    "def MAE(arr1, arr2) :\n",
    "    if len(arr1) == len(arr2) :\n",
    "        plt.hist(np.abs(arr1-arr2))\n",
    "        print 1.0/len(arr1) * np.sum(np.abs(arr1 - arr2))\n",
    "    else :\n",
    "        print \"Array not the same length\""
   ]
  },
  {
   "cell_type": "code",
   "execution_count": 185,
   "metadata": {
    "collapsed": false
   },
   "outputs": [],
   "source": [
    "testdict = {}\n",
    "testdict['a'] = 5\n",
    "testdict['b'] = 15"
   ]
  },
  {
   "cell_type": "code",
   "execution_count": 186,
   "metadata": {
    "collapsed": false
   },
   "outputs": [
    {
     "data": {
      "text/plain": [
       "({'a': 5, 'b': 15},)"
      ]
     },
     "execution_count": 186,
     "metadata": {},
     "output_type": "execute_result"
    }
   ],
   "source": [
    "(testdict,)"
   ]
  },
  {
   "cell_type": "code",
   "execution_count": null,
   "metadata": {
    "collapsed": true
   },
   "outputs": [],
   "source": []
  }
 ],
 "metadata": {
  "kernelspec": {
   "display_name": "Python 2",
   "language": "python",
   "name": "python2"
  },
  "language_info": {
   "codemirror_mode": {
    "name": "ipython",
    "version": 2
   },
   "file_extension": ".py",
   "mimetype": "text/x-python",
   "name": "python",
   "nbconvert_exporter": "python",
   "pygments_lexer": "ipython2",
   "version": "2.7.10"
  }
 },
 "nbformat": 4,
 "nbformat_minor": 0
}
