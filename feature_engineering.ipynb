{
 "cells": [
  {
   "cell_type": "code",
   "execution_count": 25,
   "metadata": {
    "collapsed": true
   },
   "outputs": [],
   "source": [
    "import pandas as pd\n",
    "import numpy as np\n",
    "import requests\n",
    "import time\n",
    "import re\n",
    "import json\n",
    "from bs4 import BeautifulSoup\n",
    "from matplotlib import pyplot as plt\n",
    "%matplotlib inline\n",
    "from collections import defaultdict"
   ]
  },
  {
   "cell_type": "code",
   "execution_count": 2,
   "metadata": {
    "collapsed": false
   },
   "outputs": [],
   "source": [
    "test = pd.read_csv(\"helper/test.csv\")\n",
    "train = pd.read_csv(\"helper/train.csv\")\n",
    "artists = pd.read_csv(\"helper/artists.csv\")\n",
    "profiles = pd.read_csv(\"helper/profiles.csv\")"
   ]
  },
  {
   "cell_type": "code",
   "execution_count": 3,
   "metadata": {
    "collapsed": false
   },
   "outputs": [
    {
     "data": {
      "text/html": [
       "<div>\n",
       "<table border=\"1\" class=\"dataframe\">\n",
       "  <thead>\n",
       "    <tr style=\"text-align: right;\">\n",
       "      <th></th>\n",
       "      <th>user</th>\n",
       "      <th>artist</th>\n",
       "      <th>plays</th>\n",
       "    </tr>\n",
       "  </thead>\n",
       "  <tbody>\n",
       "    <tr>\n",
       "      <th>0</th>\n",
       "      <td>eb1c57ddc9e0e2d005169d3a1a96e8dd95e3af03</td>\n",
       "      <td>5a8e07d5-d932-4484-a7f7-e700793a9c94</td>\n",
       "      <td>554</td>\n",
       "    </tr>\n",
       "    <tr>\n",
       "      <th>1</th>\n",
       "      <td>44ce793a6cd9d20f13f4a576a818ef983314bb5d</td>\n",
       "      <td>a3a92047-be1c-4f3e-8960-c4f8570984df</td>\n",
       "      <td>81</td>\n",
       "    </tr>\n",
       "    <tr>\n",
       "      <th>2</th>\n",
       "      <td>da9cf3f557161d54b76f24db64be9cc76db008e3</td>\n",
       "      <td>eeb1195b-f213-4ce1-b28c-8565211f8e43</td>\n",
       "      <td>708</td>\n",
       "    </tr>\n",
       "    <tr>\n",
       "      <th>3</th>\n",
       "      <td>8fa49ab25d425edcf05d44bfc1d5aea895287d81</td>\n",
       "      <td>a1419808-65d3-4d40-998c-1a0bac65eabc</td>\n",
       "      <td>265</td>\n",
       "    </tr>\n",
       "    <tr>\n",
       "      <th>4</th>\n",
       "      <td>b85fcaef67d2669cd99b334b5e8c8705263db2cf</td>\n",
       "      <td>a3cb23fc-acd3-4ce0-8f36-1e5aa6a18432</td>\n",
       "      <td>220</td>\n",
       "    </tr>\n",
       "  </tbody>\n",
       "</table>\n",
       "</div>"
      ],
      "text/plain": [
       "                                       user  \\\n",
       "0  eb1c57ddc9e0e2d005169d3a1a96e8dd95e3af03   \n",
       "1  44ce793a6cd9d20f13f4a576a818ef983314bb5d   \n",
       "2  da9cf3f557161d54b76f24db64be9cc76db008e3   \n",
       "3  8fa49ab25d425edcf05d44bfc1d5aea895287d81   \n",
       "4  b85fcaef67d2669cd99b334b5e8c8705263db2cf   \n",
       "\n",
       "                                 artist  plays  \n",
       "0  5a8e07d5-d932-4484-a7f7-e700793a9c94    554  \n",
       "1  a3a92047-be1c-4f3e-8960-c4f8570984df     81  \n",
       "2  eeb1195b-f213-4ce1-b28c-8565211f8e43    708  \n",
       "3  a1419808-65d3-4d40-998c-1a0bac65eabc    265  \n",
       "4  a3cb23fc-acd3-4ce0-8f36-1e5aa6a18432    220  "
      ]
     },
     "execution_count": 3,
     "metadata": {},
     "output_type": "execute_result"
    }
   ],
   "source": [
    "train.head()"
   ]
  },
  {
   "cell_type": "code",
   "execution_count": 4,
   "metadata": {
    "collapsed": false
   },
   "outputs": [
    {
     "data": {
      "text/html": [
       "<div>\n",
       "<table border=\"1\" class=\"dataframe\">\n",
       "  <thead>\n",
       "    <tr style=\"text-align: right;\">\n",
       "      <th></th>\n",
       "      <th>artist</th>\n",
       "      <th>name</th>\n",
       "    </tr>\n",
       "  </thead>\n",
       "  <tbody>\n",
       "    <tr>\n",
       "      <th>0</th>\n",
       "      <td>03098741-08b3-4dd7-b3f6-1b0bfa2c879c</td>\n",
       "      <td>Liars</td>\n",
       "    </tr>\n",
       "    <tr>\n",
       "      <th>1</th>\n",
       "      <td>69c4cc43-8163-41c5-ac81-30946d27bb69</td>\n",
       "      <td>CunninLynguists</td>\n",
       "    </tr>\n",
       "    <tr>\n",
       "      <th>2</th>\n",
       "      <td>7a2e6b55-f149-4e74-be6a-30a1b1a387bb</td>\n",
       "      <td>The Desert Sessions</td>\n",
       "    </tr>\n",
       "    <tr>\n",
       "      <th>3</th>\n",
       "      <td>7002bf88-1269-4965-a772-4ba1e7a91eaa</td>\n",
       "      <td>Glenn Gould</td>\n",
       "    </tr>\n",
       "    <tr>\n",
       "      <th>4</th>\n",
       "      <td>dbf7c761-e332-467b-b4d9-aafe06bbcf8f</td>\n",
       "      <td>G. Love &amp; Special Sauce</td>\n",
       "    </tr>\n",
       "  </tbody>\n",
       "</table>\n",
       "</div>"
      ],
      "text/plain": [
       "                                 artist                     name\n",
       "0  03098741-08b3-4dd7-b3f6-1b0bfa2c879c                    Liars\n",
       "1  69c4cc43-8163-41c5-ac81-30946d27bb69          CunninLynguists\n",
       "2  7a2e6b55-f149-4e74-be6a-30a1b1a387bb      The Desert Sessions\n",
       "3  7002bf88-1269-4965-a772-4ba1e7a91eaa              Glenn Gould\n",
       "4  dbf7c761-e332-467b-b4d9-aafe06bbcf8f  G. Love & Special Sauce"
      ]
     },
     "execution_count": 4,
     "metadata": {},
     "output_type": "execute_result"
    }
   ],
   "source": [
    "artists.head()"
   ]
  },
  {
   "cell_type": "code",
   "execution_count": 5,
   "metadata": {
    "collapsed": false
   },
   "outputs": [
    {
     "data": {
      "text/html": [
       "<div>\n",
       "<table border=\"1\" class=\"dataframe\">\n",
       "  <thead>\n",
       "    <tr style=\"text-align: right;\">\n",
       "      <th></th>\n",
       "      <th>user</th>\n",
       "      <th>sex</th>\n",
       "      <th>age</th>\n",
       "      <th>country</th>\n",
       "    </tr>\n",
       "  </thead>\n",
       "  <tbody>\n",
       "    <tr>\n",
       "      <th>0</th>\n",
       "      <td>fa40b43298ba3f8aa52e8e8863faf2e2171e0b5d</td>\n",
       "      <td>f</td>\n",
       "      <td>25</td>\n",
       "      <td>Sweden</td>\n",
       "    </tr>\n",
       "    <tr>\n",
       "      <th>1</th>\n",
       "      <td>5909125332c108365a26ccf0ee62636eee08215c</td>\n",
       "      <td>m</td>\n",
       "      <td>29</td>\n",
       "      <td>Iceland</td>\n",
       "    </tr>\n",
       "    <tr>\n",
       "      <th>2</th>\n",
       "      <td>d1867cbda35e0d48e9a8390d9f5e079c9d99ea96</td>\n",
       "      <td>m</td>\n",
       "      <td>30</td>\n",
       "      <td>United States</td>\n",
       "    </tr>\n",
       "    <tr>\n",
       "      <th>3</th>\n",
       "      <td>63268cce0d68127729890c1691f62d5be5abd87c</td>\n",
       "      <td>m</td>\n",
       "      <td>21</td>\n",
       "      <td>Germany</td>\n",
       "    </tr>\n",
       "    <tr>\n",
       "      <th>4</th>\n",
       "      <td>02871cd952d607ba69b64e2e107773012c708113</td>\n",
       "      <td>m</td>\n",
       "      <td>24</td>\n",
       "      <td>Netherlands</td>\n",
       "    </tr>\n",
       "  </tbody>\n",
       "</table>\n",
       "</div>"
      ],
      "text/plain": [
       "                                       user sex  age        country\n",
       "0  fa40b43298ba3f8aa52e8e8863faf2e2171e0b5d   f   25         Sweden\n",
       "1  5909125332c108365a26ccf0ee62636eee08215c   m   29        Iceland\n",
       "2  d1867cbda35e0d48e9a8390d9f5e079c9d99ea96   m   30  United States\n",
       "3  63268cce0d68127729890c1691f62d5be5abd87c   m   21        Germany\n",
       "4  02871cd952d607ba69b64e2e107773012c708113   m   24    Netherlands"
      ]
     },
     "execution_count": 5,
     "metadata": {},
     "output_type": "execute_result"
    }
   ],
   "source": [
    "profiles.head()"
   ]
  },
  {
   "cell_type": "code",
   "execution_count": 6,
   "metadata": {
    "collapsed": true
   },
   "outputs": [],
   "source": [
    "GLOBAL_MEAN = np.mean(train.plays)\n",
    "GLOBAL_MEDIAN = np.median(train.plays)\n",
    "artist_list = list(set(artists.name))"
   ]
  },
  {
   "cell_type": "code",
   "execution_count": 7,
   "metadata": {
    "collapsed": false
   },
   "outputs": [
    {
     "name": "stdout",
     "output_type": "stream",
     "text": [
      "Successfully loaded 233286 user profiles\n"
     ]
    }
   ],
   "source": [
    "'''grouped_by_user = train.groupby('user')\n",
    "user_means = grouped_by_user['plays'].mean()\n",
    "user_medians = grouped_by_user['plays'].median()\n",
    "user_stds = grouped_by_user['plays'].std()\n",
    "user_ids = user_means.index\n",
    "\n",
    "user_stats = {}\n",
    "for i in range(len(grouped_by_user)) :\n",
    "    user_stats[user_ids[i]] = {\n",
    "        'mean' : user_means[i],\n",
    "        'std' : user_stds[i],\n",
    "        'median' : user_medians[i]\n",
    "    }\n",
    "\n",
    "with open('helper/user_stats.txt', 'w') as outfile:\n",
    "    json.dump(user_stats, outfile)'''\n",
    "    \n",
    "with open('helper/user_stats.txt') as data_file:    \n",
    "    user_stats = json.load(data_file)\n",
    "    \n",
    "print \"Successfully loaded \" + str(len(user_stats.keys())) + \" user profiles\""
   ]
  },
  {
   "cell_type": "code",
   "execution_count": 8,
   "metadata": {
    "collapsed": false
   },
   "outputs": [
    {
     "name": "stdout",
     "output_type": "stream",
     "text": [
      "Unique artists: 1978\n"
     ]
    }
   ],
   "source": [
    "'''grouped_by_artist = train.groupby('artist')\n",
    "artist_means = grouped_by_artist['plays'].mean()\n",
    "artist_medians = grouped_by_artist['plays'].median()\n",
    "artist_stds = grouped_by_artist['plays'].std()\n",
    "artist_ids = artist_means.index\n",
    "\n",
    "artist_stats = {}\n",
    "for i in range(len(grouped_by_artist)) :\n",
    "    artist_stats[artist_ids[i]] = {\n",
    "        'mean' : artist_means[i],\n",
    "        'std' : artist_stds[i],\n",
    "        'median' : artist_medians[i]\n",
    "    }\n",
    "\n",
    "artist_count = 0\n",
    "wiki_count = 0'''\n",
    "\n",
    "print \"Unique artists: \" + str(len(artist_list))"
   ]
  },
  {
   "cell_type": "code",
   "execution_count": 9,
   "metadata": {
    "collapsed": false
   },
   "outputs": [
    {
     "name": "stdout",
     "output_type": "stream",
     "text": [
      "Successfully loaded 2000 artist profiles\n"
     ]
    }
   ],
   "source": [
    "'''def is_ascii(s):\n",
    "    return all(ord(c) < 128 for c in s)\n",
    "\n",
    "def get_wiki_url(artist, search_engine) :\n",
    "    if pd.isnull(artist) == False and is_ascii(artist) :\n",
    "        fixArtist = artist.replace(\" \",\"+\").replace(\"&\",\"%26\")\n",
    "        \n",
    "        if search_engine == \"Yahoo\" :\n",
    "            var = requests.get('https://search.yahoo.com/search;_ylt=A0oG7l7PeB5P3G0AKASl87UF?p=site:wikipedia.org+'\n",
    "                               +fixArtist+'+music+band+artist')\n",
    "        elif search_engine == \"Bing\" :\n",
    "            var = requests.get('http://www.bing.com/search?q=site%3Awikipedia.org+'\n",
    "                               +fixArtist+'+music+band+artist')\n",
    "        elif search_engine == \"AOL\" :\n",
    "            var = requests.get('http://search.aol.com/aol/search?enabled_terms=&s_it=comsearch&q=site%3Awikipedia.org+'\n",
    "                               +fixArtist+\"+music+band+artist\")\n",
    "        else :\n",
    "            sys.exit(\"Out of search engines!\")\n",
    "                               \n",
    "        soup = BeautifulSoup(var.text, \"html.parser\")\n",
    "        relevant = [link for link in [el.get(\"href\") for el in soup.find_all('a')] \n",
    "                    if type(link) == unicode and re.search('^https://en.wikipedia.org/', link)]\n",
    "        if len(relevant) > 0 :\n",
    "            return relevant[0]\n",
    "        else :\n",
    "            return \"Unknown\"\n",
    "\n",
    "    else :\n",
    "        return \"Unknown\"\n",
    "\n",
    "if artist_count < len(artist_list) :\n",
    "    for j in range(artist_count,len(artist_list)) :\n",
    "        artist_name = str(artist_list[j])\n",
    "        if artist_name != \"nan\" :\n",
    "            artist_id = artists[artists.name == artist_name]['artist'].values[0]\n",
    "            try : \n",
    "                artist_stats[artist_id]['url'] = get_wiki_url(artist_name, \"Bing\")\n",
    "            except :\n",
    "                break\n",
    "            artist_stats[artist_id]['name'] = artist_name\n",
    "        artist_count += 1\n",
    "else :\n",
    "    print \"Already finished\"\n",
    "    \n",
    "missing_artists = []\n",
    "for key in artist_stats.keys() :\n",
    "    if len(artist_stats[key]) != 4 :\n",
    "        missing_artists.append(key)\n",
    "\n",
    "for missing_id in missing_artists :\n",
    "    artist_name = artists[artists.artist == missing_id]['name'].values[0]\n",
    "    try : \n",
    "        artist_stats[missing_id]['url'] = get_wiki_url(artist_name, \"Bing\")\n",
    "    except :\n",
    "        break\n",
    "        \n",
    "if wiki_count < len(artist_stats.keys()) :\n",
    "    for key in artist_stats.keys()[counter:len(artist_stats.keys())] :\n",
    "        url = artist_stats[key]['url']\n",
    "        if url != \"Unknown\" :\n",
    "            var = requests.get(url)\n",
    "            soup = BeautifulSoup(var.text, \"html.parser\")\n",
    "\n",
    "            genre_exists = soup.find(title='Music genre')\n",
    "            if genre_exists :\n",
    "                artist_stats[key]['genre'] = [entry.get(\"href\") \n",
    "                                              for entry in soup.find(title=\"Music genre\").parent.parent.find_all('a')[1:] \n",
    "                                              if entry.get(\"href\")[1:5] == 'wiki']\n",
    "            else :\n",
    "                artist_stats[key]['genre'] = \"Unknown\"\n",
    "\n",
    "            ya_exists = soup.find(text=re.compile(\"Years\"))\n",
    "            try :\n",
    "                artist_stats[key]['ya'] = ya_exists.parent.parent.find('td').get_text()\n",
    "            except AttributeError :\n",
    "                artist_stats[key]['ya'] = \"Unknown\"\n",
    "        else :\n",
    "            artist_stats[key]['genre'] = 'Unknown'\n",
    "            artist_stats[key]['ya'] = 'Unknown'\n",
    "        print wiki_count\n",
    "        counter += 1\n",
    "else :\n",
    "    print \"Already done!\"\n",
    "\n",
    "with open('helper/artist_stats.txt', 'w') as outfile:\n",
    "    json.dump(artist_stats, outfile)'''\n",
    "\n",
    "with open('helper/artist_stats.txt') as data_file:    \n",
    "    artist_stats = json.load(data_file)\n",
    "    \n",
    "print \"Successfully loaded \" + str(len(artist_stats.keys())) + \" artist profiles\""
   ]
  },
  {
   "cell_type": "code",
   "execution_count": 10,
   "metadata": {
    "collapsed": false
   },
   "outputs": [
    {
     "name": "stdout",
     "output_type": "stream",
     "text": [
      "Number of unique IDs: 2000\n",
      "\n",
      "List of duplicates:\n",
      "- Justice\n",
      "- Ben Harper\n",
      "- Camera Obscura\n",
      "- Nouvelle Vague\n",
      "- Enigma\n",
      "- Nirvana\n",
      "- Rhapsody of Fire\n",
      "- Moby\n",
      "- Feist\n",
      "- [Disney]\n",
      "- [unknown]\n",
      "- M.I.A.\n",
      "- Air\n"
     ]
    }
   ],
   "source": [
    "# Why are there more profiles than names? \n",
    "print \"Number of unique IDs: \" + str(len(np.unique(artists.artist)))\n",
    "print \n",
    "\n",
    "print \"List of duplicates:\"\n",
    "artistDict = defaultdict(int)\n",
    "for name in artists.name :\n",
    "    artistDict[name] += 1\n",
    "    if artistDict[name] > 1 and pd.isnull(name) == False:\n",
    "        print \"- \" + name\n",
    "        "
   ]
  },
  {
   "cell_type": "code",
   "execution_count": 11,
   "metadata": {
    "collapsed": false
   },
   "outputs": [
    {
     "data": {
      "text/html": [
       "<div>\n",
       "<table border=\"1\" class=\"dataframe\">\n",
       "  <thead>\n",
       "    <tr style=\"text-align: right;\">\n",
       "      <th></th>\n",
       "      <th>artist</th>\n",
       "      <th>name</th>\n",
       "    </tr>\n",
       "  </thead>\n",
       "  <tbody>\n",
       "    <tr>\n",
       "      <th>72</th>\n",
       "      <td>444f2191-8841-440e-bbc1-6fd564893946</td>\n",
       "      <td>Justice</td>\n",
       "    </tr>\n",
       "    <tr>\n",
       "      <th>80</th>\n",
       "      <td>f9c1cc73-36ba-4f8d-ba12-7d2490608886</td>\n",
       "      <td>Justice</td>\n",
       "    </tr>\n",
       "  </tbody>\n",
       "</table>\n",
       "</div>"
      ],
      "text/plain": [
       "                                  artist     name\n",
       "72  444f2191-8841-440e-bbc1-6fd564893946  Justice\n",
       "80  f9c1cc73-36ba-4f8d-ba12-7d2490608886  Justice"
      ]
     },
     "execution_count": 11,
     "metadata": {},
     "output_type": "execute_result"
    }
   ],
   "source": [
    "# Looks like there are some duplicates ... \n",
    "artists[artists.name == 'Justice']"
   ]
  },
  {
   "cell_type": "code",
   "execution_count": 12,
   "metadata": {
    "collapsed": false
   },
   "outputs": [
    {
     "name": "stdout",
     "output_type": "stream",
     "text": [
      "{u'std': 214.25874253893798, u'name': u'Justice', u'url': u'https://en.wikipedia.org/wiki/Justice_%28French_band%29', u'median': 114.0, u'ya': u'2003\\u2013present', u'genre': [u'/wiki/Electro_house', u'/wiki/Electronica', u'/wiki/Nu-disco', u'/wiki/Electroclash', u'/wiki/Electronic_rock', u'/wiki/Alternative_dance'], u'mean': 175.85247275775356}\n",
      "\n",
      "{u'std': 257.9073693778499, u'name': u'Justice', u'url': u'https://en.wikipedia.org/wiki/Justice_%28French_band%29', u'median': 109.0, u'ya': u'2003\\u2013present', u'genre': [u'/wiki/Electro_house', u'/wiki/Electronica', u'/wiki/Nu-disco', u'/wiki/Electroclash', u'/wiki/Electronic_rock', u'/wiki/Alternative_dance'], u'mean': 178.7460778617083}\n"
     ]
    }
   ],
   "source": [
    "# The reslts are similar but not exactly the same\n",
    "print artist_stats['444f2191-8841-440e-bbc1-6fd564893946']\n",
    "print \n",
    "print artist_stats['f9c1cc73-36ba-4f8d-ba12-7d2490608886']"
   ]
  },
  {
   "cell_type": "code",
   "execution_count": 13,
   "metadata": {
    "collapsed": false
   },
   "outputs": [
    {
     "name": "stdout",
     "output_type": "stream",
     "text": [
      "(2000, 8)\n"
     ]
    }
   ],
   "source": [
    "artist_df = pd.DataFrame.from_dict(artist_stats, orient='index')\n",
    "artist_df.reset_index(level=0, inplace=True)\n",
    "artist_df.columns = artist_df.columns.str.replace('index','artist_id')\n",
    "print artist_df.shape"
   ]
  },
  {
   "cell_type": "code",
   "execution_count": 14,
   "metadata": {
    "collapsed": false
   },
   "outputs": [
    {
     "name": "stdout",
     "output_type": "stream",
     "text": [
      "Unique genres: 1709\n"
     ]
    }
   ],
   "source": [
    "possible_genres = defaultdict(int)\n",
    "\n",
    "for artist_genres in artist_df.genre :\n",
    "    if artist_genres == u\"Unknown\" :\n",
    "        possible_genres[u\"Unknown\"] += 1\n",
    "    elif type(artist_genres) == list :\n",
    "        for genre in artist_genres :\n",
    "            possible_genres[genre] += 1\n",
    "            \n",
    "print \"Unique genres: \" + str(len(possible_genres.keys()))"
   ]
  },
  {
   "cell_type": "code",
   "execution_count": 15,
   "metadata": {
    "collapsed": false
   },
   "outputs": [
    {
     "name": "stdout",
     "output_type": "stream",
     "text": [
      "(2000, 258)\n"
     ]
    }
   ],
   "source": [
    "import operator\n",
    "sorted_genres = sorted(possible_genres.items(), key=operator.itemgetter(1), reverse=True)\n",
    "filtered_genres = [zip[0] for zip in sorted_genres[0:251]]\n",
    "for genre in filtered_genres :\n",
    "    artist_df[genre] = [genre in song_genres if type(song_genres) != bool else False for song_genres in artist_df.genre]\n",
    "artist_df = artist_df.drop([u'/wiki/Wikipedia:Citation_needed'], axis=1)\n",
    "print artist_df.shape"
   ]
  },
  {
   "cell_type": "code",
   "execution_count": 16,
   "metadata": {
    "collapsed": false
   },
   "outputs": [
    {
     "name": "stdout",
     "output_type": "stream",
     "text": [
      "(2000, 260)\n"
     ]
    }
   ],
   "source": [
    "start_year = []\n",
    "active = []\n",
    "\n",
    "for years in artist_df.ya :\n",
    "    if years != \"Unknown\" :\n",
    "        if len(years) > 4 and (\"19\" in years[0:4] or \"20\" in years[0:4]):\n",
    "            result = int(years[0:4])\n",
    "            if 1900 < result < 2016 :\n",
    "                start_year.append(result)\n",
    "            else :\n",
    "                start_year.append(\"Unknown\")\n",
    "        else :\n",
    "            start_year.append(\"Unknown\")\n",
    "            \n",
    "        if \"present\" in years :\n",
    "            active.append(\"Active\")\n",
    "        else :\n",
    "            active.append(\"Nonactive\")\n",
    "    else :\n",
    "        start_year.append(\"Unknown\")\n",
    "        active.append(\"Unknown\")\n",
    "\n",
    "artist_df['start_year'] = start_year\n",
    "artist_df['active'] = active\n",
    "\n",
    "print artist_df.shape"
   ]
  },
  {
   "cell_type": "code",
   "execution_count": 17,
   "metadata": {
    "collapsed": false
   },
   "outputs": [
    {
     "data": {
      "text/html": [
       "<div>\n",
       "<table border=\"1\" class=\"dataframe\">\n",
       "  <thead>\n",
       "    <tr style=\"text-align: right;\">\n",
       "      <th></th>\n",
       "      <th>artist_id</th>\n",
       "      <th>std</th>\n",
       "      <th>name</th>\n",
       "      <th>url</th>\n",
       "      <th>median</th>\n",
       "      <th>mean</th>\n",
       "      <th>/wiki/Alternative_rock</th>\n",
       "      <th>Unknown</th>\n",
       "      <th>/wiki/Indie_rock</th>\n",
       "      <th>/wiki/Pop_music</th>\n",
       "      <th>...</th>\n",
       "      <th>/wiki/Sophisti-pop</th>\n",
       "      <th>/wiki/New_prog</th>\n",
       "      <th>/wiki/Acid_techno</th>\n",
       "      <th>/wiki/Electro_music</th>\n",
       "      <th>/wiki/P-Funk</th>\n",
       "      <th>/wiki/Synthesizer</th>\n",
       "      <th>/wiki/Hip_house</th>\n",
       "      <th>/wiki/Sampling_(music)</th>\n",
       "      <th>start_year</th>\n",
       "      <th>active</th>\n",
       "    </tr>\n",
       "  </thead>\n",
       "  <tbody>\n",
       "    <tr>\n",
       "      <th>0</th>\n",
       "      <td>000d90ec-d64c-48a1-b775-e726fd240e9f</td>\n",
       "      <td>249.016613</td>\n",
       "      <td>Get Cape. Wear Cape. Fly</td>\n",
       "      <td>https://en.wikipedia.org/wiki/Get_Cape._Wear_C...</td>\n",
       "      <td>121.5</td>\n",
       "      <td>196.296078</td>\n",
       "      <td>False</td>\n",
       "      <td>False</td>\n",
       "      <td>True</td>\n",
       "      <td>False</td>\n",
       "      <td>...</td>\n",
       "      <td>False</td>\n",
       "      <td>False</td>\n",
       "      <td>False</td>\n",
       "      <td>False</td>\n",
       "      <td>False</td>\n",
       "      <td>False</td>\n",
       "      <td>False</td>\n",
       "      <td>False</td>\n",
       "      <td>2004</td>\n",
       "      <td>Active</td>\n",
       "    </tr>\n",
       "    <tr>\n",
       "      <th>1</th>\n",
       "      <td>000fc734-b7e1-4a01-92d1-f544261b43f5</td>\n",
       "      <td>661.689032</td>\n",
       "      <td>Cocteau Twins</td>\n",
       "      <td>https://en.wikipedia.org/wiki/Cocteau_Twins</td>\n",
       "      <td>137.0</td>\n",
       "      <td>288.887880</td>\n",
       "      <td>False</td>\n",
       "      <td>False</td>\n",
       "      <td>False</td>\n",
       "      <td>False</td>\n",
       "      <td>...</td>\n",
       "      <td>False</td>\n",
       "      <td>False</td>\n",
       "      <td>False</td>\n",
       "      <td>False</td>\n",
       "      <td>False</td>\n",
       "      <td>False</td>\n",
       "      <td>False</td>\n",
       "      <td>False</td>\n",
       "      <td>1979</td>\n",
       "      <td>Nonactive</td>\n",
       "    </tr>\n",
       "    <tr>\n",
       "      <th>2</th>\n",
       "      <td>0019749d-ee29-4a5f-ab17-6bfa11deb969</td>\n",
       "      <td>353.443050</td>\n",
       "      <td>DJ Food</td>\n",
       "      <td>https://en.wikipedia.org/wiki/List_of_Brazilia...</td>\n",
       "      <td>69.5</td>\n",
       "      <td>145.452174</td>\n",
       "      <td>False</td>\n",
       "      <td>True</td>\n",
       "      <td>False</td>\n",
       "      <td>False</td>\n",
       "      <td>...</td>\n",
       "      <td>False</td>\n",
       "      <td>False</td>\n",
       "      <td>False</td>\n",
       "      <td>False</td>\n",
       "      <td>False</td>\n",
       "      <td>False</td>\n",
       "      <td>False</td>\n",
       "      <td>False</td>\n",
       "      <td>Unknown</td>\n",
       "      <td>Unknown</td>\n",
       "    </tr>\n",
       "    <tr>\n",
       "      <th>3</th>\n",
       "      <td>0039c7ae-e1a7-4a7d-9b49-0cbc716821a6</td>\n",
       "      <td>631.262555</td>\n",
       "      <td>Death Cab for Cutie</td>\n",
       "      <td>https://en.wikipedia.org/wiki/Death_Cab_for_Cutie</td>\n",
       "      <td>176.0</td>\n",
       "      <td>341.798469</td>\n",
       "      <td>True</td>\n",
       "      <td>False</td>\n",
       "      <td>True</td>\n",
       "      <td>False</td>\n",
       "      <td>...</td>\n",
       "      <td>False</td>\n",
       "      <td>False</td>\n",
       "      <td>False</td>\n",
       "      <td>False</td>\n",
       "      <td>False</td>\n",
       "      <td>False</td>\n",
       "      <td>False</td>\n",
       "      <td>False</td>\n",
       "      <td>1997</td>\n",
       "      <td>Active</td>\n",
       "    </tr>\n",
       "    <tr>\n",
       "      <th>4</th>\n",
       "      <td>004e5eed-e267-46ea-b504-54526f1f377d</td>\n",
       "      <td>835.701307</td>\n",
       "      <td>The Gathering</td>\n",
       "      <td>https://en.wikipedia.org/wiki/Magic!_(band)</td>\n",
       "      <td>164.0</td>\n",
       "      <td>370.565190</td>\n",
       "      <td>False</td>\n",
       "      <td>False</td>\n",
       "      <td>False</td>\n",
       "      <td>True</td>\n",
       "      <td>...</td>\n",
       "      <td>False</td>\n",
       "      <td>False</td>\n",
       "      <td>False</td>\n",
       "      <td>False</td>\n",
       "      <td>False</td>\n",
       "      <td>False</td>\n",
       "      <td>False</td>\n",
       "      <td>False</td>\n",
       "      <td>2012</td>\n",
       "      <td>Active</td>\n",
       "    </tr>\n",
       "  </tbody>\n",
       "</table>\n",
       "<p>5 rows × 258 columns</p>\n",
       "</div>"
      ],
      "text/plain": [
       "                              artist_id         std                      name  \\\n",
       "0  000d90ec-d64c-48a1-b775-e726fd240e9f  249.016613  Get Cape. Wear Cape. Fly   \n",
       "1  000fc734-b7e1-4a01-92d1-f544261b43f5  661.689032             Cocteau Twins   \n",
       "2  0019749d-ee29-4a5f-ab17-6bfa11deb969  353.443050                   DJ Food   \n",
       "3  0039c7ae-e1a7-4a7d-9b49-0cbc716821a6  631.262555       Death Cab for Cutie   \n",
       "4  004e5eed-e267-46ea-b504-54526f1f377d  835.701307             The Gathering   \n",
       "\n",
       "                                                 url  median        mean  \\\n",
       "0  https://en.wikipedia.org/wiki/Get_Cape._Wear_C...   121.5  196.296078   \n",
       "1        https://en.wikipedia.org/wiki/Cocteau_Twins   137.0  288.887880   \n",
       "2  https://en.wikipedia.org/wiki/List_of_Brazilia...    69.5  145.452174   \n",
       "3  https://en.wikipedia.org/wiki/Death_Cab_for_Cutie   176.0  341.798469   \n",
       "4        https://en.wikipedia.org/wiki/Magic!_(band)   164.0  370.565190   \n",
       "\n",
       "  /wiki/Alternative_rock Unknown /wiki/Indie_rock /wiki/Pop_music    ...      \\\n",
       "0                  False   False             True           False    ...       \n",
       "1                  False   False            False           False    ...       \n",
       "2                  False    True            False           False    ...       \n",
       "3                   True   False             True           False    ...       \n",
       "4                  False   False            False            True    ...       \n",
       "\n",
       "  /wiki/Sophisti-pop /wiki/New_prog /wiki/Acid_techno /wiki/Electro_music  \\\n",
       "0              False          False             False               False   \n",
       "1              False          False             False               False   \n",
       "2              False          False             False               False   \n",
       "3              False          False             False               False   \n",
       "4              False          False             False               False   \n",
       "\n",
       "  /wiki/P-Funk /wiki/Synthesizer /wiki/Hip_house /wiki/Sampling_(music)  \\\n",
       "0        False             False           False                  False   \n",
       "1        False             False           False                  False   \n",
       "2        False             False           False                  False   \n",
       "3        False             False           False                  False   \n",
       "4        False             False           False                  False   \n",
       "\n",
       "  start_year     active  \n",
       "0       2004     Active  \n",
       "1       1979  Nonactive  \n",
       "2    Unknown    Unknown  \n",
       "3       1997     Active  \n",
       "4       2012     Active  \n",
       "\n",
       "[5 rows x 258 columns]"
      ]
     },
     "execution_count": 17,
     "metadata": {},
     "output_type": "execute_result"
    }
   ],
   "source": [
    "artist_df = artist_df.drop(['genre','ya'],axis=1)\n",
    "artist_df.to_pickle('helper/artist_df.pkl')\n",
    "artist_df.head()"
   ]
  },
  {
   "cell_type": "code",
   "execution_count": null,
   "metadata": {
    "collapsed": true
   },
   "outputs": [],
   "source": []
  }
 ],
 "metadata": {
  "kernelspec": {
   "display_name": "Python 2",
   "language": "python",
   "name": "python2"
  },
  "language_info": {
   "codemirror_mode": {
    "name": "ipython",
    "version": 2
   },
   "file_extension": ".py",
   "mimetype": "text/x-python",
   "name": "python",
   "nbconvert_exporter": "python",
   "pygments_lexer": "ipython2",
   "version": "2.7.10"
  }
 },
 "nbformat": 4,
 "nbformat_minor": 0
}
