{
 "cells": [
  {
   "cell_type": "code",
   "execution_count": 2,
   "metadata": {
    "collapsed": false
   },
   "outputs": [],
   "source": [
    "import pandas as pd\n",
    "import numpy as np\n",
    "import requests\n",
    "import time\n",
    "import re\n",
    "import json\n",
    "import time\n",
    "import random\n",
    "\n",
    "import spotipy\n",
    "import tweepy\n",
    "\n",
    "from bs4 import BeautifulSoup\n",
    "from matplotlib import pyplot as plt\n",
    "from collections import defaultdict\n",
    "from collections import deque\n",
    "from fake_useragent import UserAgent\n",
    "\n",
    "%matplotlib inline"
   ]
  },
  {
   "cell_type": "code",
   "execution_count": 2,
   "metadata": {
    "collapsed": true
   },
   "outputs": [],
   "source": [
    "consumer_key = 'Cl5u24elHra5qsaaCqVibc5vV'\n",
    "consumer_secret = 'rCBLgT2BUVbmlvPg77Rx8WxGBYGy3w4g2TBZC4uJdD1kokiZXS'\n",
    "access_token = '25920856-590qT00zijgp698ZK6rB8hbuTQin4bDjFqte6HXLr'\n",
    "access_token_secret = 'vrT8d4hlVu6CgneDI5FLKwsq9zdC5q3GgcHwkPFpC6PuK'\n",
    "auth = tweepy.OAuthHandler(consumer_key, consumer_secret)\n",
    "auth.set_access_token(access_token, access_token_secret)\n",
    "twitter_api = tweepy.API(auth, parser=tweepy.parsers.JSONParser())\n",
    "\n",
    "from methods import musicbrainz_scrape\n",
    "from methods import spotify_api\n",
    "from methods import wiki_search\n",
    "from methods import youtube_sub\n",
    "from methods import twitter_info\n",
    "from methods import findInt\n",
    "from methods import ratemusic_scrape"
   ]
  },
  {
   "cell_type": "code",
   "execution_count": 3,
   "metadata": {
    "collapsed": true
   },
   "outputs": [],
   "source": [
    "def merge_two_dicts(x, y):\n",
    "    z = x.copy()\n",
    "    z.update(y)\n",
    "    return z"
   ]
  },
  {
   "cell_type": "code",
   "execution_count": 8,
   "metadata": {
    "collapsed": true
   },
   "outputs": [],
   "source": [
    "test = pd.read_csv(\"helper/test.csv\")\n",
    "train = pd.read_csv(\"helper/train.csv\")\n",
    "artists = pd.read_csv(\"helper/artists.csv\")\n",
    "profiles = pd.read_csv(\"helper/profiles.csv\")"
   ]
  },
  {
   "cell_type": "code",
   "execution_count": 9,
   "metadata": {
    "collapsed": false
   },
   "outputs": [],
   "source": [
    "artist_names = artists.name\n",
    "artist_ids = artists.artist\n",
    "#artist_zip = zip(artist_ids, artist_names)\n",
    "#artist_dict = defaultdict(dict)"
   ]
  },
  {
   "cell_type": "code",
   "execution_count": 6,
   "metadata": {
    "collapsed": false
   },
   "outputs": [
    {
     "data": {
      "text/plain": [
       "\"with open('artist_zip.txt', 'w') as outfile:\\n    json.dump(artist_zip, outfile)\""
      ]
     },
     "execution_count": 6,
     "metadata": {},
     "output_type": "execute_result"
    }
   ],
   "source": [
    "'''with open('artist_zip.txt', 'w') as outfile:\n",
    "    json.dump(artist_zip, outfile)'''"
   ]
  },
  {
   "cell_type": "code",
   "execution_count": 7,
   "metadata": {
    "collapsed": false,
    "scrolled": true
   },
   "outputs": [],
   "source": [
    "with open('artist_zip.txt') as infile:    \n",
    "    artist_zip = json.load(infile)\n",
    "    \n",
    "#with open('artist_dict.txt') as infile:    \n",
    "#    artist_dict = json.load(infile)\n",
    "\n",
    "while len(artist_zip) > 0 :\n",
    "    ID = artist_zip[0]\n",
    "    \n",
    "    if pd.isnull(ID[1]) == False and ID[1] != '[unknown]' :\n",
    "        # create artist dict with the provided name\n",
    "        artist_dict[ID[0]][u'name'] = ID[1]\n",
    "\n",
    "        # add basic information (area, begin, genres, urls) from musicbrainz\n",
    "        artist_dict[ID[0]].update(musicbrainz_scrape(ID[0]))\n",
    "        artist_dict[ID[0]].update(musicbrainz_scrape2(ID[0]))\n",
    "\n",
    "        # get the popularity rating and n_followers from spotify\n",
    "        artist_dict[ID[0]].update(spotify_api(artist_dict[ID[0]]['name']))\n",
    "\n",
    "        # if wikipedia url is provided, get the labels\n",
    "        try :\n",
    "            artist_dict[ID[0]].update(wiki_search(artist_dict[ID[0]]['wikiurl']))\n",
    "        except : \n",
    "            artist_dict[ID[0]]['labels'] = []\n",
    "\n",
    "        # if youtube url is provided, get the number of subscribers\n",
    "        try : \n",
    "            artist_dict[ID[0]].update(youtube_sub(artist_dict[ID[0]]['youtubeurl']))\n",
    "        except :\n",
    "            artist_dict[ID[0]]['youtube_subs'] = 0\n",
    "\n",
    "        # if twitter url is provided, get the number of twitter followers and tweets\n",
    "        try :\n",
    "            artist_dict[ID[0]].update(twitter_info(twitter_api, artist_dict[ID[0]]['twitterurl']))\n",
    "        except :\n",
    "            artist_dict[ID[0]]['ntweets'] = 0\n",
    "            artist_dict[ID[0]]['tw_followers'] = 0\n",
    "\n",
    "        #skip step because we were rate limited\n",
    "        #try :\n",
    "        #    artist_dict[ID[0]].update(ratemusic_scrape(artist_dict[ID[0]]['rateurl']))\n",
    "        #except :\n",
    "        #    pass\n",
    "\n",
    "    with open('artist_dict.txt', 'w') as outfile:\n",
    "        json.dump(artist_dict, outfile)\n",
    "    artist_zip.pop(0)\n",
    "    with open('artist_zip.txt', 'w') as outfile:\n",
    "        json.dump(artist_zip, outfile)\n",
    "    \n",
    "    print \"Finished \" + str(len(artist_dict.keys())) + \"/2000\""
   ]
  },
  {
   "cell_type": "code",
   "execution_count": 3,
   "metadata": {
    "collapsed": false,
    "scrolled": true
   },
   "outputs": [],
   "source": [
    "with open('artist_dict.txt') as infile:    \n",
    "    artist_dict = json.load(infile)"
   ]
  },
  {
   "cell_type": "code",
   "execution_count": 80,
   "metadata": {
    "collapsed": false,
    "scrolled": false
   },
   "outputs": [
    {
     "data": {
      "text/plain": [
       "{u'area': u'Canada',\n",
       " u'begin_area': u'Toronto, Ontario, Canada',\n",
       " u'gender': u'Male',\n",
       " u'genres': [u'canadian',\n",
       "  u'classical',\n",
       "  u'soundtrack',\n",
       "  u'academyawardwinner',\n",
       "  u'easylisteningsoundtracksandmusicals',\n",
       "  u'more'],\n",
       " u'isni-code': u' 0000 0001 2123 2327    ',\n",
       " u'labels': [],\n",
       " 'mean': 275.27463965718738,\n",
       " 'median': 130.0,\n",
       " 'n_album': 2,\n",
       " 'n_album_+_compilation': 2,\n",
       " 'n_album_+_soundtrack': 46,\n",
       " u'name': u'Howard Shore',\n",
       " u'ntweets': 0,\n",
       " u'popularity': 72,\n",
       " u'sort-name': u'Shore, Howard',\n",
       " u'sp_followers': 157227,\n",
       " u'started': u'1946-10-18 (69 years ago)',\n",
       " 'std': 650.52595825322669,\n",
       " u'tw_followers': 0,\n",
       " u'type': u'Person',\n",
       " u'wikiurl': u'http://en.wikipedia.org/wiki/Howard_Shore',\n",
       " u'youtube_subs': 0}"
      ]
     },
     "execution_count": 80,
     "metadata": {},
     "output_type": "execute_result"
    }
   ],
   "source": [
    "artist_dict[artist_dict.keys()[random.randint(0,len(artist_dict.keys()))]]"
   ]
  },
  {
   "cell_type": "code",
   "execution_count": 430,
   "metadata": {
    "collapsed": true
   },
   "outputs": [],
   "source": [
    "grouped_by_artist = train.groupby('artist')\n",
    "artist_means = grouped_by_artist['plays'].mean()\n",
    "artist_medians = grouped_by_artist['plays'].median()\n",
    "artist_stds = grouped_by_artist['plays'].std()\n",
    "temp_ID_list = artist_means.index"
   ]
  },
  {
   "cell_type": "code",
   "execution_count": 431,
   "metadata": {
    "collapsed": false
   },
   "outputs": [],
   "source": [
    "for i in range(len(grouped_by_artist)) :\n",
    "    playStats = {'mean' : artist_means[i],\n",
    "                 'std' : artist_stds[i],\n",
    "                 'median' : artist_medians[i]}\n",
    "    try :\n",
    "        artist_dict[temp_ID_list[i]].update(playStats)\n",
    "    except KeyError :\n",
    "        artist_dict[temp_ID_list[i]] = playStats"
   ]
  },
  {
   "cell_type": "code",
   "execution_count": 432,
   "metadata": {
    "collapsed": false
   },
   "outputs": [
    {
     "name": "stdout",
     "output_type": "stream",
     "text": [
      "(2000, 110)\n"
     ]
    }
   ],
   "source": [
    "artist_df = pd.DataFrame.from_dict(artist_dict, orient='index')\n",
    "artist_df.reset_index(level=0, inplace=True)\n",
    "artist_df.columns = artist_df.columns.str.replace('index','artist_id')\n",
    "print artist_df.shape\n",
    "\n",
    "artist_df.to_pickle('helper/artist_df.pkl')"
   ]
  },
  {
   "cell_type": "code",
   "execution_count": 433,
   "metadata": {
    "collapsed": false
   },
   "outputs": [
    {
     "name": "stdout",
     "output_type": "stream",
     "text": [
      "(2000, 31)\n"
     ]
    }
   ],
   "source": [
    "for el in zip(artist_df.columns, artist_df.count(axis=0)) :\n",
    "    if \"+\" in el[0] or el[1] < 100: \n",
    "        artist_df.drop([el[0]], axis=1, inplace=True)\n",
    "print artist_df.shape"
   ]
  },
  {
   "cell_type": "code",
   "execution_count": 434,
   "metadata": {
    "collapsed": false
   },
   "outputs": [
    {
     "name": "stdout",
     "output_type": "stream",
     "text": [
      "(2000, 23)\n"
     ]
    }
   ],
   "source": [
    "to_drop = ['rateurl', 'isni-code', 'sort-name', 'ipi-code', 'twitterurl', 'youtubeurl', 'wikiurl', 'end_area']\n",
    "artist_df.drop(to_drop, axis=1, inplace=True)\n",
    "print artist_df.shape"
   ]
  },
  {
   "cell_type": "code",
   "execution_count": 435,
   "metadata": {
    "collapsed": false
   },
   "outputs": [
    {
     "data": {
      "text/plain": [
       "Index([         u'artist_id',                u'std',            u'started',\n",
       "                   u'labels',       u'tw_followers',       u'youtube_subs',\n",
       "                 u'n_single',             u'genres',            u'ntweets',\n",
       "                     u'name',               u'area',         u'popularity',\n",
       "                   u'median',             u'n_live',         u'begin_area',\n",
       "                  u'n_album',               u'n_ep',               u'type',\n",
       "             u'sp_followers',               u'mean',             u'gender',\n",
       "       u'n_unspecified_type',            u'n_other'],\n",
       "      dtype='object')"
      ]
     },
     "execution_count": 435,
     "metadata": {},
     "output_type": "execute_result"
    }
   ],
   "source": [
    "artist_df.columns\n",
    "# labels, genres <- split into indicators -- DONE\n",
    "# n_single, n_album, n_unspecified_type, n_live, n_ep, n_other <- NaNs --- DONE\n",
    "# sp_followers, tw_followers, youtube_subs, popularity <- fill with 0s --- DONE\n",
    "# area <- strip and shorten --- DONE\n",
    "# started <- get first 4 digits --- DONE\n",
    "# begin_area <- get 0 or 1 after strip --- DONE\n",
    "# type, gender <- merge the two --- DONE"
   ]
  },
  {
   "cell_type": "code",
   "execution_count": 436,
   "metadata": {
    "collapsed": false
   },
   "outputs": [
    {
     "name": "stdout",
     "output_type": "stream",
     "text": [
      "Unique genres: 969\n",
      "Selected genres: 47\n",
      "(2000, 69)\n"
     ]
    }
   ],
   "source": [
    "possible_genres = defaultdict(int)\n",
    "for artist_genres in artist_df.genres :\n",
    "    if artist_genres == ['(none)'] :\n",
    "        possible_genres[u\"Unknown\"] += 1\n",
    "    elif type(artist_genres) == list :\n",
    "        for genre in artist_genres :\n",
    "            possible_genres[genre] += 1\n",
    "print \"Unique genres: \" + str(len(possible_genres.keys()))\n",
    "select_genres = []\n",
    "for genre in possible_genres.keys() :\n",
    "    if possible_genres[genre] > 30 and genre not in ['more','Unknown'] :\n",
    "        select_genres.append(genre)\n",
    "print \"Selected genres: \" + str(len(select_genres))\n",
    "for genre in select_genres :\n",
    "    artist_df[\"genre_\" + genre] = [0 if type(artist_genres) != 'list' else 1 if genre in artist_genres else 0 for artist_genres in artist_df.genres]\n",
    "artist_df.drop('genres', axis=1, inplace=True)\n",
    "print artist_df.shape"
   ]
  },
  {
   "cell_type": "code",
   "execution_count": 437,
   "metadata": {
    "collapsed": false
   },
   "outputs": [
    {
     "name": "stdout",
     "output_type": "stream",
     "text": [
      "Unique labels: 1941\n",
      "Selected labels: 42\n",
      "(2000, 110)\n"
     ]
    }
   ],
   "source": [
    "possible_labels = defaultdict(int)\n",
    "for artist_labels in artist_df['labels'] :\n",
    "    try :\n",
    "        for label in artist_labels :\n",
    "            possible_labels[label] += 1\n",
    "    except :\n",
    "        pass\n",
    "print \"Unique labels: \" + str(len(possible_labels.keys()))\n",
    "select_labels = []\n",
    "for label in possible_labels.keys() :\n",
    "    if possible_labels[label] > 20 :\n",
    "        select_labels.append(label)\n",
    "print \"Selected labels: \" + str(len(select_labels))\n",
    "for label in select_labels :\n",
    "    artist_df[\"label_\" + label] = [0 if isinstance(artist_labels, float) else 1 if label in artist_labels else 0 for artist_labels in artist_df['labels']]\n",
    "artist_df.drop('labels', axis=1, inplace=True)\n",
    "print artist_df.shape"
   ]
  },
  {
   "cell_type": "code",
   "execution_count": 438,
   "metadata": {
    "collapsed": false
   },
   "outputs": [
    {
     "name": "stdout",
     "output_type": "stream",
     "text": [
      "Unique area: 43\n",
      "(2000, 152)\n"
     ]
    }
   ],
   "source": [
    "artist_df['area'] = ['unknown' if isinstance(area, float) else area.lower().replace(\" \",\"-\").replace(\",-\",\",\").split(\",\")[-1] for area in artist_df.area]\n",
    "unique_areas = np.unique(artist_df.area)\n",
    "print \"Unique area: \" + str(len(unique_areas))\n",
    "for area in unique_areas :\n",
    "    artist_df['area_' + area] = [0 if isinstance(artist_area, float) else 1 if area in artist_area else 0 for artist_area in artist_df.area]\n",
    "artist_df.drop('area', axis=1, inplace=True)\n",
    "print artist_df.shape"
   ]
  },
  {
   "cell_type": "code",
   "execution_count": 439,
   "metadata": {
    "collapsed": false
   },
   "outputs": [
    {
     "name": "stdout",
     "output_type": "stream",
     "text": [
      "Unique begin areas: 254\n",
      "(2000, 201)\n"
     ]
    }
   ],
   "source": [
    "area_list = []\n",
    "area_dict = defaultdict(int)\n",
    "for place in artist_df.begin_area :\n",
    "    if pd.isnull(place) == False :\n",
    "        try :\n",
    "            fixed = place.lower().replace(\" \",\"-\").replace(\",-\",\",\").split(\",\")[-2]\n",
    "            area_list.append(fixed)\n",
    "            area_dict[fixed] += 1\n",
    "        except :\n",
    "            area_list.append('unknown')\n",
    "            area_dict['unknown'] += 1\n",
    "    else :\n",
    "        area_list.append('unknown')\n",
    "        area_dict['unknown'] += 1\n",
    "artist_df['begin_area'] = area_list\n",
    "print \"Unique begin areas: \" + str(len(area_dict.keys()))\n",
    "select_begin_states = []\n",
    "for area in area_dict.keys() :\n",
    "    if area_dict[area] > 5 :\n",
    "        select_begin_states.append(area)\n",
    "for state in select_begin_states :\n",
    "    artist_df['begin_' + state] = [1 if state in begin_area else 0 for begin_area in artist_df.begin_area]\n",
    "artist_df.drop('begin_area', axis=1, inplace=True)\n",
    "print artist_df.shape"
   ]
  },
  {
   "cell_type": "code",
   "execution_count": 440,
   "metadata": {
    "collapsed": false
   },
   "outputs": [],
   "source": [
    "artist_df['is_indiv'] = [1 if el[0] == 'Person' else 0 for el in zip(artist_df.type, artist_df.gender)]\n",
    "artist_df['is_male'] = [1 if el[0] == 'Person' and el[1] == 'Male' else 0 for el in zip(artist_df.type, artist_df.gender)]\n",
    "artist_df['is_female'] = [1 if el[0] == 'Person' and el[1] == 'Female' else 0 for el in zip(artist_df.type, artist_df.gender)]\n",
    "artist_df['is_group'] = [1 if el[0] == 'Group' else 0 for el in zip(artist_df.type, artist_df.gender)]\n",
    "artist_df.drop(['type','gender'], axis=1, inplace=True)"
   ]
  },
  {
   "cell_type": "code",
   "execution_count": 441,
   "metadata": {
    "collapsed": false
   },
   "outputs": [],
   "source": [
    "artist_df['started'] = [int(str(year[0:4])) if isinstance(year, unicode) and year != \"[unknown]\" else 0 for year in artist_df.started ]"
   ]
  },
  {
   "cell_type": "code",
   "execution_count": 442,
   "metadata": {
    "collapsed": false
   },
   "outputs": [],
   "source": [
    "for col in ['sp_followers', 'tw_followers', 'youtube_subs', 'popularity', \n",
    "            'n_single', 'n_album', 'n_unspecified_type', 'n_live', 'n_ep', 'n_other', 'ntweets'] :\n",
    "    artist_df[col].fillna(value=0, inplace=True)"
   ]
  },
  {
   "cell_type": "code",
   "execution_count": 443,
   "metadata": {
    "collapsed": false
   },
   "outputs": [],
   "source": [
    "artist_df['name'] = ['Unknown' if isinstance(name, float) else name for name in artist_df['name']]"
   ]
  },
  {
   "cell_type": "code",
   "execution_count": 444,
   "metadata": {
    "collapsed": false
   },
   "outputs": [
    {
     "name": "stdout",
     "output_type": "stream",
     "text": [
      "(2000, 201)\n"
     ]
    }
   ],
   "source": [
    "artist_df.drop(['area_[worldwide]', 'label_[1]'], axis=1, inplace=True)\n",
    "print artist_df.shape"
   ]
  },
  {
   "cell_type": "code",
   "execution_count": 445,
   "metadata": {
    "collapsed": true
   },
   "outputs": [],
   "source": [
    "artist_df.to_pickle('helper/artist_df.pkl')"
   ]
  },
  {
   "cell_type": "code",
   "execution_count": null,
   "metadata": {
    "collapsed": true
   },
   "outputs": [],
   "source": []
  }
 ],
 "metadata": {
  "kernelspec": {
   "display_name": "Python 2",
   "language": "python",
   "name": "python2"
  },
  "language_info": {
   "codemirror_mode": {
    "name": "ipython",
    "version": 2
   },
   "file_extension": ".py",
   "mimetype": "text/x-python",
   "name": "python",
   "nbconvert_exporter": "python",
   "pygments_lexer": "ipython2",
   "version": "2.7.10"
  }
 },
 "nbformat": 4,
 "nbformat_minor": 0
}
