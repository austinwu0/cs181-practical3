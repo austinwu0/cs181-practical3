{
 "cells": [
  {
   "cell_type": "code",
   "execution_count": 2,
   "metadata": {
    "collapsed": true
   },
   "outputs": [],
   "source": [
    "import pandas as pd\n",
    "import numpy as np\n",
    "from collections import defaultdict\n",
    "from matplotlib import pyplot as plt\n",
    "%matplotlib inline"
   ]
  },
  {
   "cell_type": "code",
   "execution_count": 12,
   "metadata": {
    "collapsed": false
   },
   "outputs": [],
   "source": [
    "profiles = pd.read_csv('helper/profiles.csv')\n",
    "train = pd.read_csv('helper/train.csv')"
   ]
  },
  {
   "cell_type": "code",
   "execution_count": 3,
   "metadata": {
    "collapsed": true
   },
   "outputs": [],
   "source": [
    "artistdf = pd.read_pickle('helper/artist_df.pkl')"
   ]
  },
  {
   "cell_type": "code",
   "execution_count": 4,
   "metadata": {
    "collapsed": false
   },
   "outputs": [
    {
     "data": {
      "text/html": [
       "<div>\n",
       "<table border=\"1\" class=\"dataframe\">\n",
       "  <thead>\n",
       "    <tr style=\"text-align: right;\">\n",
       "      <th></th>\n",
       "      <th>user</th>\n",
       "      <th>artist</th>\n",
       "      <th>plays</th>\n",
       "      <th>sex</th>\n",
       "      <th>age</th>\n",
       "      <th>country</th>\n",
       "    </tr>\n",
       "  </thead>\n",
       "  <tbody>\n",
       "    <tr>\n",
       "      <th>0</th>\n",
       "      <td>eb1c57ddc9e0e2d005169d3a1a96e8dd95e3af03</td>\n",
       "      <td>5a8e07d5-d932-4484-a7f7-e700793a9c94</td>\n",
       "      <td>554</td>\n",
       "      <td>m</td>\n",
       "      <td>25</td>\n",
       "      <td>Sweden</td>\n",
       "    </tr>\n",
       "    <tr>\n",
       "      <th>1</th>\n",
       "      <td>eb1c57ddc9e0e2d005169d3a1a96e8dd95e3af03</td>\n",
       "      <td>f83781c8-64f9-4657-85bd-51f74d195cfd</td>\n",
       "      <td>1217</td>\n",
       "      <td>m</td>\n",
       "      <td>25</td>\n",
       "      <td>Sweden</td>\n",
       "    </tr>\n",
       "    <tr>\n",
       "      <th>2</th>\n",
       "      <td>eb1c57ddc9e0e2d005169d3a1a96e8dd95e3af03</td>\n",
       "      <td>c485632c-b784-4ee9-8ea1-c5fb365681fc</td>\n",
       "      <td>509</td>\n",
       "      <td>m</td>\n",
       "      <td>25</td>\n",
       "      <td>Sweden</td>\n",
       "    </tr>\n",
       "    <tr>\n",
       "      <th>3</th>\n",
       "      <td>eb1c57ddc9e0e2d005169d3a1a96e8dd95e3af03</td>\n",
       "      <td>f1b525b4-ddd0-4d39-85b2-d8fa26a7f279</td>\n",
       "      <td>2497</td>\n",
       "      <td>m</td>\n",
       "      <td>25</td>\n",
       "      <td>Sweden</td>\n",
       "    </tr>\n",
       "    <tr>\n",
       "      <th>4</th>\n",
       "      <td>eb1c57ddc9e0e2d005169d3a1a96e8dd95e3af03</td>\n",
       "      <td>88679ca2-2080-4cea-8669-41ab4b8d865d</td>\n",
       "      <td>377</td>\n",
       "      <td>m</td>\n",
       "      <td>25</td>\n",
       "      <td>Sweden</td>\n",
       "    </tr>\n",
       "  </tbody>\n",
       "</table>\n",
       "</div>"
      ],
      "text/plain": [
       "                                       user  \\\n",
       "0  eb1c57ddc9e0e2d005169d3a1a96e8dd95e3af03   \n",
       "1  eb1c57ddc9e0e2d005169d3a1a96e8dd95e3af03   \n",
       "2  eb1c57ddc9e0e2d005169d3a1a96e8dd95e3af03   \n",
       "3  eb1c57ddc9e0e2d005169d3a1a96e8dd95e3af03   \n",
       "4  eb1c57ddc9e0e2d005169d3a1a96e8dd95e3af03   \n",
       "\n",
       "                                 artist  plays sex  age country  \n",
       "0  5a8e07d5-d932-4484-a7f7-e700793a9c94    554   m   25  Sweden  \n",
       "1  f83781c8-64f9-4657-85bd-51f74d195cfd   1217   m   25  Sweden  \n",
       "2  c485632c-b784-4ee9-8ea1-c5fb365681fc    509   m   25  Sweden  \n",
       "3  f1b525b4-ddd0-4d39-85b2-d8fa26a7f279   2497   m   25  Sweden  \n",
       "4  88679ca2-2080-4cea-8669-41ab4b8d865d    377   m   25  Sweden  "
      ]
     },
     "execution_count": 4,
     "metadata": {},
     "output_type": "execute_result"
    }
   ],
   "source": [
    "sample = train.copy()\n",
    "merged_sample = pd.merge(sample, profiles, on=\"user\")\n",
    "merged_sample['sex'] = merged_sample['sex'].fillna('n')\n",
    "MEDIAN_AGE = merged_sample['age'].median()\n",
    "merged_sample['age'] = merged_sample['age'].fillna(MEDIAN_AGE)\n",
    "merged_sample['age'] = [MEDIAN_AGE if (age > 100) or (age < 10) else age for age in merged_sample['age'] ]\n",
    "merged_sample.head()"
   ]
  },
  {
   "cell_type": "code",
   "execution_count": 5,
   "metadata": {
    "collapsed": false
   },
   "outputs": [],
   "source": [
    "age = []\n",
    "sex = []\n",
    "country = []\n",
    "median = []\n",
    "confidence = []\n",
    "\n",
    "for group in merged_sample.groupby(['age','sex','country']) :\n",
    "    age.append(group[0][0])\n",
    "    sex.append(group[0][1])\n",
    "    country.append(group[0][2])\n",
    "    median.append(group[1]['plays'].median())\n",
    "    confidence.append(len(group[1]['plays']))"
   ]
  },
  {
   "cell_type": "code",
   "execution_count": 6,
   "metadata": {
    "collapsed": false
   },
   "outputs": [
    {
     "name": "stdout",
     "output_type": "stream",
     "text": [
      "(7605, 5)\n"
     ]
    }
   ],
   "source": [
    "sample_medians = pd.DataFrame()\n",
    "sample_medians['age'] = age\n",
    "sample_medians['sex'] = sex\n",
    "sample_medians['country'] = country\n",
    "sample_medians['plays'] = median\n",
    "sample_medians['confidence'] = confidence\n",
    "print sample_medians.shape"
   ]
  },
  {
   "cell_type": "code",
   "execution_count": 7,
   "metadata": {
    "collapsed": false
   },
   "outputs": [
    {
     "data": {
      "text/html": [
       "<div>\n",
       "<table border=\"1\" class=\"dataframe\">\n",
       "  <thead>\n",
       "    <tr style=\"text-align: right;\">\n",
       "      <th></th>\n",
       "      <th>age</th>\n",
       "      <th>sex</th>\n",
       "      <th>country</th>\n",
       "      <th>plays</th>\n",
       "      <th>confidence</th>\n",
       "    </tr>\n",
       "  </thead>\n",
       "  <tbody>\n",
       "    <tr>\n",
       "      <th>0</th>\n",
       "      <td>10</td>\n",
       "      <td>f</td>\n",
       "      <td>Canada</td>\n",
       "      <td>3.0</td>\n",
       "      <td>15</td>\n",
       "    </tr>\n",
       "    <tr>\n",
       "      <th>1</th>\n",
       "      <td>10</td>\n",
       "      <td>f</td>\n",
       "      <td>Germany</td>\n",
       "      <td>9.0</td>\n",
       "      <td>22</td>\n",
       "    </tr>\n",
       "    <tr>\n",
       "      <th>2</th>\n",
       "      <td>10</td>\n",
       "      <td>f</td>\n",
       "      <td>Nigeria</td>\n",
       "      <td>18.5</td>\n",
       "      <td>14</td>\n",
       "    </tr>\n",
       "    <tr>\n",
       "      <th>3</th>\n",
       "      <td>10</td>\n",
       "      <td>f</td>\n",
       "      <td>Poland</td>\n",
       "      <td>156.0</td>\n",
       "      <td>22</td>\n",
       "    </tr>\n",
       "    <tr>\n",
       "      <th>4</th>\n",
       "      <td>10</td>\n",
       "      <td>f</td>\n",
       "      <td>Russian Federation</td>\n",
       "      <td>365.5</td>\n",
       "      <td>12</td>\n",
       "    </tr>\n",
       "  </tbody>\n",
       "</table>\n",
       "</div>"
      ],
      "text/plain": [
       "   age sex             country  plays  confidence\n",
       "0   10   f              Canada    3.0          15\n",
       "1   10   f             Germany    9.0          22\n",
       "2   10   f             Nigeria   18.5          14\n",
       "3   10   f              Poland  156.0          22\n",
       "4   10   f  Russian Federation  365.5          12"
      ]
     },
     "execution_count": 7,
     "metadata": {},
     "output_type": "execute_result"
    }
   ],
   "source": [
    "sample_medians.head()"
   ]
  },
  {
   "cell_type": "code",
   "execution_count": 8,
   "metadata": {
    "collapsed": false
   },
   "outputs": [],
   "source": [
    "sample_medians.to_pickle('sample_medians.pkl')"
   ]
  },
  {
   "cell_type": "code",
   "execution_count": 10,
   "metadata": {
    "collapsed": false
   },
   "outputs": [
    {
     "name": "stdout",
     "output_type": "stream",
     "text": [
      "CPU times: user 3 µs, sys: 1 µs, total: 4 µs\n",
      "Wall time: 6.91 µs\n"
     ]
    }
   ],
   "source": [
    "%time\n",
    "user_medians = {}\n",
    "for user in train.groupby('user') :\n",
    "    user_medians[user[0]] = user[1]['plays'].median()"
   ]
  },
  {
   "cell_type": "code",
   "execution_count": 11,
   "metadata": {
    "collapsed": true
   },
   "outputs": [],
   "source": [
    "GLOBAL_USER_MEDIAN = np.median(user_medians.values())"
   ]
  },
  {
   "cell_type": "code",
   "execution_count": 12,
   "metadata": {
    "collapsed": false
   },
   "outputs": [
    {
     "data": {
      "image/png": "[encoded data removed]",
      "text/plain": [
       "<matplotlib.figure.Figure at 0x1067fc990>"
      ]
     },
     "metadata": {},
     "output_type": "display_data"
    }
   ],
   "source": [
    "plt.hist(user_medians.values(), bins=range(0,1000,100));"
   ]
  },
  {
   "cell_type": "code",
   "execution_count": 13,
   "metadata": {
    "collapsed": false
   },
   "outputs": [
    {
     "data": {
      "image/png": "[encoded data removed]",
      "text/plain": [
       "<matplotlib.figure.Figure at 0x10b0bfdd0>"
      ]
     },
     "metadata": {},
     "output_type": "display_data"
    }
   ],
   "source": [
    "plt.hist(user_medians.values(), bins=range(1000,15000,100));"
   ]
  },
  {
   "cell_type": "code",
   "execution_count": 14,
   "metadata": {
    "collapsed": false
   },
   "outputs": [
    {
     "name": "stdout",
     "output_type": "stream",
     "text": [
      "CPU times: user 2 µs, sys: 0 ns, total: 2 µs\n",
      "Wall time: 5.01 µs\n"
     ]
    }
   ],
   "source": [
    "%time\n",
    "artist_medians = {}\n",
    "for artist in train.groupby('artist') :\n",
    "    artist_medians[artist[0]] = artist[1]['plays'].median()"
   ]
  },
  {
   "cell_type": "code",
   "execution_count": 15,
   "metadata": {
    "collapsed": false
   },
   "outputs": [
    {
     "name": "stdout",
     "output_type": "stream",
     "text": [
      "113.0\n"
     ]
    }
   ],
   "source": [
    "GLOBAL_ARTIST_MEDIAN = np.median(artist_medians.values())\n",
    "print GLOBAL_ARTIST_MEDIAN "
   ]
  },
  {
   "cell_type": "code",
   "execution_count": 16,
   "metadata": {
    "collapsed": false
   },
   "outputs": [],
   "source": [
    "power_user_list = [user[0] for user in zip(user_medians.keys(), user_medians.values()) if user[1] >= 1000]\n",
    "normal_user_list = [user[0] for user in zip(user_medians.keys(), user_medians.values()) if user[1] < 1000]"
   ]
  },
  {
   "cell_type": "code",
   "execution_count": 17,
   "metadata": {
    "collapsed": false
   },
   "outputs": [],
   "source": [
    "power_train = train[train['user'].isin(power_user_list)]\n",
    "normal_train = train[train['user'].isin(normal_user_list)]"
   ]
  },
  {
   "cell_type": "code",
   "execution_count": 18,
   "metadata": {
    "collapsed": false
   },
   "outputs": [
    {
     "name": "stdout",
     "output_type": "stream",
     "text": [
      "(46103, 3)\n",
      "(4108701, 3)\n",
      "(4154804, 3)\n"
     ]
    }
   ],
   "source": [
    "print power_train.shape\n",
    "print normal_train.shape\n",
    "print train.shape"
   ]
  },
  {
   "cell_type": "code",
   "execution_count": 19,
   "metadata": {
    "collapsed": true
   },
   "outputs": [],
   "source": [
    "def recompute_frame(ldf):\n",
    "    \"\"\"\n",
    "    takes a dataframe ldf, makes a copy of it, and returns the copy\n",
    "    with all averages and review counts recomputed\n",
    "    this is used when a frame is subsetted.\n",
    "    \"\"\"\n",
    "    ldfu=ldf.groupby('user')\n",
    "    ldfa=ldf.groupby('artist')\n",
    "    user_median=ldfu.plays.median()\n",
    "    user_artist_count=ldfu.artist.count()\n",
    "    artist_median=ldfa.plays.median()\n",
    "    artist_user_count=ldfa.user.count()\n",
    "    \n",
    "    nldf=ldf.copy()\n",
    "    nldf.set_index(['artist'], inplace=True)\n",
    "    nldf['artist_median']=artist_median\n",
    "    nldf['artist_user_count']=artist_user_count\n",
    "    nldf.reset_index(inplace=True)\n",
    "    nldf.set_index(['user'], inplace=True)\n",
    "    nldf['user_median']=user_median\n",
    "    nldf['user_artist_count']=user_artist_count\n",
    "    nldf.reset_index(inplace=True)\n",
    "    return nldf"
   ]
  },
  {
   "cell_type": "code",
   "execution_count": 20,
   "metadata": {
    "collapsed": false
   },
   "outputs": [],
   "source": [
    "#power_train = recompute_frame(power_train)\n",
    "small_train = normal_train.sample(frac=0.05, replace=False)\n",
    "sample_train = recompute_frame(small_train)"
   ]
  },
  {
   "cell_type": "code",
   "execution_count": 21,
   "metadata": {
    "collapsed": false
   },
   "outputs": [
    {
     "name": "stdout",
     "output_type": "stream",
     "text": [
      "(195435, 7) (6000, 7) (4000, 7)\n"
     ]
    }
   ],
   "source": [
    "trainlist=[]\n",
    "testlist=[]\n",
    "validatelist=[]\n",
    "take=5\n",
    "for k, v in sample_train.groupby('artist'):\n",
    "    if np.mean(v.artist_user_count) > 10:\n",
    "        takenos=np.random.choice(range(take), size=take/2, replace=False)\n",
    "        takelist=np.array([e in takenos for e in range(take)])\n",
    "        validatelist.append(v[-take:][~takelist])#use those \n",
    "        testlist.append(v[-take:][takelist])#use the other \n",
    "        trainlist.append(v[:-take])\n",
    "    else:\n",
    "        trainlist.append(v)\n",
    "traindf=pd.concat(trainlist)\n",
    "validatedf=pd.concat(validatelist)\n",
    "testdf=pd.concat(testlist)\n",
    "print traindf.shape, validatedf.shape, testdf.shape"
   ]
  },
  {
   "cell_type": "code",
   "execution_count": 22,
   "metadata": {
    "collapsed": false
   },
   "outputs": [],
   "source": [
    "traindf=recompute_frame(traindf)\n",
    "validatedf=recompute_frame(validatedf)\n",
    "testdf=recompute_frame(testdf)\n",
    "validatedf=validatedf[['user', 'artist','plays']]\n",
    "testdf=testdf[['user', 'artist','plays']]"
   ]
  },
  {
   "cell_type": "code",
   "execution_count": 23,
   "metadata": {
    "collapsed": false
   },
   "outputs": [
    {
     "name": "stdout",
     "output_type": "stream",
     "text": [
      "(233286, 4)\n",
      "(2000, 201)\n"
     ]
    }
   ],
   "source": [
    "profiles = pd.read_csv(\"helper/profiles.csv\")\n",
    "print profiles.shape\n",
    "\n",
    "artistdf = pd.read_pickle('helper/artist_df.pkl')\n",
    "artistdf = artistdf.rename(columns={'artist_id' : 'artist'})\n",
    "print artistdf.shape"
   ]
  },
  {
   "cell_type": "code",
   "execution_count": 24,
   "metadata": {
    "collapsed": false
   },
   "outputs": [],
   "source": [
    "def merge_dfs(df, artistdf, userdf) :\n",
    "    merged = pd.merge(df, artistdf, on='artist')\n",
    "    merged = pd.merge(merged, userdf, on='user')\n",
    "    X = merged.drop(['user','artist','plays'], axis=1)\n",
    "    y = merged['plays']\n",
    "    X = X.fillna(0)\n",
    "    print X.shape, y.shape\n",
    "    return X, y"
   ]
  },
  {
   "cell_type": "code",
   "execution_count": 25,
   "metadata": {
    "collapsed": false
   },
   "outputs": [],
   "source": [
    "artistdf = artistdf[['artist','is_indiv','is_male','is_female','popularity','tw_followers','youtube_subs','sp_followers',\n",
    "                     'n_single','n_live','n_album','n_ep','n_unspecified_type','n_other']]\n",
    "profiles['is_male'] = pd.get_dummies(profiles['sex'])['m']\n",
    "profiles.drop(['sex','country'],axis=1,inplace=True)"
   ]
  },
  {
   "cell_type": "code",
   "execution_count": 26,
   "metadata": {
    "collapsed": true
   },
   "outputs": [],
   "source": [
    "def add_medians(traindf, testdf, GLOBAL_USER_MEDIAN, GLOBAL_ARTIST_MEDIAN) :\n",
    "    user_medians = defaultdict(lambda: GLOBAL_USER_MEDIAN)\n",
    "    artist_medians = defaultdict(lambda: GLOBAL_ARTIST_MEDIAN)\n",
    "\n",
    "    ldfu=traindf.groupby('user')\n",
    "    ldfa=traindf.groupby('artist')\n",
    "\n",
    "    for u in ldfu :\n",
    "        user_medians[u[0]] = u[1]['plays'].median()\n",
    "    for a in ldfa : \n",
    "        artist_medians[a[0]] = a[1]['plays'].median()\n",
    "\n",
    "    testdf['user_median'] = [user_medians[user] for user in testdf['user']]\n",
    "    testdf['artist_median'] = [artist_medians[artist] for artist in testdf['artist']]\n",
    "    \n",
    "    return testdf"
   ]
  },
  {
   "cell_type": "code",
   "execution_count": 27,
   "metadata": {
    "collapsed": false
   },
   "outputs": [
    {
     "name": "stdout",
     "output_type": "stream",
     "text": [
      "(195435, 19) (195435,)\n",
      "(6000, 17) (6000,)\n",
      "(4000, 17) (4000,)\n"
     ]
    }
   ],
   "source": [
    "X_train, y_train = merge_dfs(traindf, artistdf, profiles)\n",
    "X_train.drop(['artist_user_count','user_artist_count'],axis=1,inplace=True)\n",
    "\n",
    "validatedf = add_medians(traindf, validatedf, GLOBAL_USER_MEDIAN, GLOBAL_ARTIST_MEDIAN)\n",
    "X_validate, y_validate = merge_dfs(validatedf, artistdf, profiles)\n",
    "\n",
    "testdf = add_medians(traindf, testdf, GLOBAL_USER_MEDIAN, GLOBAL_ARTIST_MEDIAN)\n",
    "X_test, y_test = merge_dfs(testdf, artistdf, profiles)"
   ]
  },
  {
   "cell_type": "code",
   "execution_count": 28,
   "metadata": {
    "collapsed": false
   },
   "outputs": [],
   "source": [
    "from sklearn.linear_model import LinearRegression\n",
    "lm = LinearRegression()\n",
    "lm.fit(X_train, y_train)\n",
    "y_lm_pred = lm.predict(X_test)"
   ]
  },
  {
   "cell_type": "code",
   "execution_count": 29,
   "metadata": {
    "collapsed": true
   },
   "outputs": [],
   "source": [
    "def MAE(arr1, arr2) :\n",
    "    if len(arr1) == len(arr2) :\n",
    "        plt.hist(np.abs(arr1-arr2))\n",
    "        print 1.0/len(arr1) * np.sum(np.abs(arr1 - arr2))\n",
    "    else :\n",
    "        print \"Array not the same length\""
   ]
  },
  {
   "cell_type": "code",
   "execution_count": 30,
   "metadata": {
    "collapsed": false
   },
   "outputs": [
    {
     "name": "stdout",
     "output_type": "stream",
     "text": [
      "150.981771961\n"
     ]
    },
    {
     "data": {
      "image/png": "[encoded data removed]",
      "text/plain": [
       "<matplotlib.figure.Figure at 0x106e83850>"
      ]
     },
     "metadata": {},
     "output_type": "display_data"
    }
   ],
   "source": [
    "MAE(y_test, y_lm_pred)"
   ]
  },
  {
   "cell_type": "code",
   "execution_count": 41,
   "metadata": {
    "collapsed": false
   },
   "outputs": [],
   "source": [
    "save_y_test = y_test\n",
    "save_y_pred = y_lm_pred"
   ]
  },
  {
   "cell_type": "code",
   "execution_count": 41,
   "metadata": {
    "collapsed": false
   },
   "outputs": [],
   "source": [
    "import json\n",
    "with open('artist_dict.txt') as infile:    \n",
    "    artist_dict = json.load(infile)"
   ]
  },
  {
   "cell_type": "code",
   "execution_count": 101,
   "metadata": {
    "collapsed": false
   },
   "outputs": [
    {
     "name": "stdout",
     "output_type": "stream",
     "text": [
      "(1988, 107)\n"
     ]
    }
   ],
   "source": [
    "artist_df = pd.DataFrame.from_dict(artist_dict, orient='index')\n",
    "artist_df.reset_index(level=0, inplace=True)\n",
    "artist_df.columns = artist_df.columns.str.replace('index','artist_id')\n",
    "print artist_df.shape"
   ]
  },
  {
   "cell_type": "code",
   "execution_count": 102,
   "metadata": {
    "collapsed": false
   },
   "outputs": [
    {
     "name": "stdout",
     "output_type": "stream",
     "text": [
      "Unique genres: 967\n"
     ]
    }
   ],
   "source": [
    "possible_genres = defaultdict(int)\n",
    "for artist_genres in artist_df.genres :\n",
    "    if artist_genres == ['(none)'] :\n",
    "        possible_genres[u\"Unknown\"] += 1\n",
    "    elif type(artist_genres) == list :\n",
    "        for genre in artist_genres :\n",
    "            possible_genres[genre] += 1\n",
    "possible_genres.pop('more', None)\n",
    "possible_genres.pop('Unknown', None)\n",
    "print \"Unique genres: \" + str(len(possible_genres.keys()))"
   ]
  },
  {
   "cell_type": "code",
   "execution_count": 103,
   "metadata": {
    "collapsed": false
   },
   "outputs": [],
   "source": [
    "import operator\n",
    "sorted_genres = sorted(possible_genres.items(), key=operator.itemgetter(1), reverse=True)"
   ]
  },
  {
   "cell_type": "code",
   "execution_count": 104,
   "metadata": {
    "collapsed": false
   },
   "outputs": [],
   "source": [
    "select_genres = [genre[0].replace(\"-\",\"\").replace(\" \",\"\") for genre in sorted_genres[0:26]]"
   ]
  },
  {
   "cell_type": "code",
   "execution_count": 105,
   "metadata": {
    "collapsed": false
   },
   "outputs": [
    {
     "name": "stdout",
     "output_type": "stream",
     "text": [
      "(1988, 132)\n"
     ]
    }
   ],
   "source": [
    "for genre in select_genres :\n",
    "    artist_df[\"genre_\" + genre] = [0 if type(artist_genres) != type([]) else 1 if genre in artist_genres else 0 for artist_genres in artist_df.genres]\n",
    "artist_df.drop('genres', axis=1, inplace=True)\n",
    "print artist_df.shape"
   ]
  },
  {
   "cell_type": "code",
   "execution_count": 106,
   "metadata": {
    "collapsed": false
   },
   "outputs": [
    {
     "name": "stdout",
     "output_type": "stream",
     "text": [
      "(1988, 27)\n"
     ]
    }
   ],
   "source": [
    "keep_cols = [col for col in artist_df.columns if (\"artist_id\" in col) or (\"genre_\" in col)]\n",
    "artist_df = artist_df[keep_cols]\n",
    "print artist_df.shape\n",
    "\n",
    "artist_df.rename(columns={'artist_id': 'artist'}, inplace=True)"
   ]
  },
  {
   "cell_type": "code",
   "execution_count": 107,
   "metadata": {
    "collapsed": false
   },
   "outputs": [],
   "source": [
    "merged_train = pd.merge(train, artist_df, on = \"artist\")\n",
    "for col in merged_train.columns :\n",
    "    if col not in ['user','artist','plays'] :\n",
    "        merged_train[col] *= merged_train['plays']"
   ]
  },
  {
   "cell_type": "code",
   "execution_count": 108,
   "metadata": {
    "collapsed": false
   },
   "outputs": [],
   "source": [
    "summed_train = merged_train.drop(['plays','artist'], axis=1).groupby('user').sum()"
   ]
  },
  {
   "cell_type": "code",
   "execution_count": 109,
   "metadata": {
    "collapsed": true
   },
   "outputs": [],
   "source": [
    "summed_train.reset_index(inplace=True)"
   ]
  },
  {
   "cell_type": "code",
   "execution_count": 110,
   "metadata": {
    "collapsed": false
   },
   "outputs": [
    {
     "name": "stdout",
     "output_type": "stream",
     "text": [
      "(233286, 27)\n"
     ]
    },
    {
     "data": {
      "text/html": [
       "<div>\n",
       "<table border=\"1\" class=\"dataframe\">\n",
       "  <thead>\n",
       "    <tr style=\"text-align: right;\">\n",
       "      <th></th>\n",
       "      <th>user</th>\n",
       "      <th>genre_british</th>\n",
       "      <th>genre_rock</th>\n",
       "      <th>genre_american</th>\n",
       "      <th>genre_alternativerock</th>\n",
       "      <th>genre_rockandindie</th>\n",
       "      <th>genre_pop</th>\n",
       "      <th>genre_electronic</th>\n",
       "      <th>genre_indierock</th>\n",
       "      <th>genre_classicpopandrock</th>\n",
       "      <th>...</th>\n",
       "      <th>genre_punk</th>\n",
       "      <th>genre_german</th>\n",
       "      <th>genre_danceandelectronica</th>\n",
       "      <th>genre_popandchart</th>\n",
       "      <th>genre_usa</th>\n",
       "      <th>genre_alternative</th>\n",
       "      <th>genre_hiphoprnbanddancehall</th>\n",
       "      <th>genre_indie</th>\n",
       "      <th>genre_heavymetal</th>\n",
       "      <th>genre_américain</th>\n",
       "    </tr>\n",
       "  </thead>\n",
       "  <tbody>\n",
       "    <tr>\n",
       "      <th>0</th>\n",
       "      <td>00000c289a1829a808ac09c00daf10bc3c4e223b</td>\n",
       "      <td>679</td>\n",
       "      <td>318</td>\n",
       "      <td>0</td>\n",
       "      <td>0</td>\n",
       "      <td>198</td>\n",
       "      <td>0</td>\n",
       "      <td>361</td>\n",
       "      <td>0</td>\n",
       "      <td>0</td>\n",
       "      <td>...</td>\n",
       "      <td>302</td>\n",
       "      <td>0</td>\n",
       "      <td>361</td>\n",
       "      <td>0</td>\n",
       "      <td>302</td>\n",
       "      <td>182</td>\n",
       "      <td>0</td>\n",
       "      <td>0</td>\n",
       "      <td>0</td>\n",
       "      <td>0</td>\n",
       "    </tr>\n",
       "    <tr>\n",
       "      <th>1</th>\n",
       "      <td>00001411dc427966b17297bf4d69e7e193135d89</td>\n",
       "      <td>961</td>\n",
       "      <td>0</td>\n",
       "      <td>2090</td>\n",
       "      <td>0</td>\n",
       "      <td>5894</td>\n",
       "      <td>0</td>\n",
       "      <td>748</td>\n",
       "      <td>6697</td>\n",
       "      <td>10561</td>\n",
       "      <td>...</td>\n",
       "      <td>0</td>\n",
       "      <td>748</td>\n",
       "      <td>1351</td>\n",
       "      <td>0</td>\n",
       "      <td>622</td>\n",
       "      <td>0</td>\n",
       "      <td>0</td>\n",
       "      <td>11052</td>\n",
       "      <td>0</td>\n",
       "      <td>2090</td>\n",
       "    </tr>\n",
       "    <tr>\n",
       "      <th>2</th>\n",
       "      <td>000063d3fe1cf2ba248b9e3c3f0334845a27a6bf</td>\n",
       "      <td>8</td>\n",
       "      <td>7</td>\n",
       "      <td>7</td>\n",
       "      <td>3</td>\n",
       "      <td>7</td>\n",
       "      <td>0</td>\n",
       "      <td>0</td>\n",
       "      <td>0</td>\n",
       "      <td>0</td>\n",
       "      <td>...</td>\n",
       "      <td>0</td>\n",
       "      <td>6</td>\n",
       "      <td>0</td>\n",
       "      <td>0</td>\n",
       "      <td>0</td>\n",
       "      <td>0</td>\n",
       "      <td>0</td>\n",
       "      <td>0</td>\n",
       "      <td>0</td>\n",
       "      <td>0</td>\n",
       "    </tr>\n",
       "    <tr>\n",
       "      <th>3</th>\n",
       "      <td>00007a47085b9aab8af55f52ec8846ac479ac4fe</td>\n",
       "      <td>1030</td>\n",
       "      <td>84</td>\n",
       "      <td>74</td>\n",
       "      <td>0</td>\n",
       "      <td>67</td>\n",
       "      <td>75</td>\n",
       "      <td>1063</td>\n",
       "      <td>370</td>\n",
       "      <td>158</td>\n",
       "      <td>...</td>\n",
       "      <td>0</td>\n",
       "      <td>0</td>\n",
       "      <td>417</td>\n",
       "      <td>0</td>\n",
       "      <td>0</td>\n",
       "      <td>0</td>\n",
       "      <td>0</td>\n",
       "      <td>227</td>\n",
       "      <td>0</td>\n",
       "      <td>0</td>\n",
       "    </tr>\n",
       "    <tr>\n",
       "      <th>4</th>\n",
       "      <td>0000c176103e538d5c9828e695fed4f7ae42dd01</td>\n",
       "      <td>3830</td>\n",
       "      <td>3319</td>\n",
       "      <td>1406</td>\n",
       "      <td>3027</td>\n",
       "      <td>3306</td>\n",
       "      <td>704</td>\n",
       "      <td>2982</td>\n",
       "      <td>3162</td>\n",
       "      <td>0</td>\n",
       "      <td>...</td>\n",
       "      <td>0</td>\n",
       "      <td>0</td>\n",
       "      <td>425</td>\n",
       "      <td>0</td>\n",
       "      <td>0</td>\n",
       "      <td>313</td>\n",
       "      <td>0</td>\n",
       "      <td>1955</td>\n",
       "      <td>0</td>\n",
       "      <td>0</td>\n",
       "    </tr>\n",
       "  </tbody>\n",
       "</table>\n",
       "<p>5 rows × 27 columns</p>\n",
       "</div>"
      ],
      "text/plain": [
       "                                       user  genre_british  genre_rock  \\\n",
       "0  00000c289a1829a808ac09c00daf10bc3c4e223b            679         318   \n",
       "1  00001411dc427966b17297bf4d69e7e193135d89            961           0   \n",
       "2  000063d3fe1cf2ba248b9e3c3f0334845a27a6bf              8           7   \n",
       "3  00007a47085b9aab8af55f52ec8846ac479ac4fe           1030          84   \n",
       "4  0000c176103e538d5c9828e695fed4f7ae42dd01           3830        3319   \n",
       "\n",
       "   genre_american  genre_alternativerock  genre_rockandindie  genre_pop  \\\n",
       "0               0                      0                 198          0   \n",
       "1            2090                      0                5894          0   \n",
       "2               7                      3                   7          0   \n",
       "3              74                      0                  67         75   \n",
       "4            1406                   3027                3306        704   \n",
       "\n",
       "   genre_electronic  genre_indierock  genre_classicpopandrock  \\\n",
       "0               361                0                        0   \n",
       "1               748             6697                    10561   \n",
       "2                 0                0                        0   \n",
       "3              1063              370                      158   \n",
       "4              2982             3162                        0   \n",
       "\n",
       "        ...         genre_punk  genre_german  genre_danceandelectronica  \\\n",
       "0       ...                302             0                        361   \n",
       "1       ...                  0           748                       1351   \n",
       "2       ...                  0             6                          0   \n",
       "3       ...                  0             0                        417   \n",
       "4       ...                  0             0                        425   \n",
       "\n",
       "   genre_popandchart  genre_usa  genre_alternative  \\\n",
       "0                  0        302                182   \n",
       "1                  0        622                  0   \n",
       "2                  0          0                  0   \n",
       "3                  0          0                  0   \n",
       "4                  0          0                313   \n",
       "\n",
       "   genre_hiphoprnbanddancehall  genre_indie  genre_heavymetal  genre_américain  \n",
       "0                            0            0                 0                0  \n",
       "1                            0        11052                 0             2090  \n",
       "2                            0            0                 0                0  \n",
       "3                            0          227                 0                0  \n",
       "4                            0         1955                 0                0  \n",
       "\n",
       "[5 rows x 27 columns]"
      ]
     },
     "execution_count": 110,
     "metadata": {},
     "output_type": "execute_result"
    }
   ],
   "source": [
    "print summed_train.shape\n",
    "summed_train.head()"
   ]
  },
  {
   "cell_type": "code",
   "execution_count": 91,
   "metadata": {
    "collapsed": false
   },
   "outputs": [],
   "source": [
    "class KMeans(object):\n",
    "    def __init__(self, K, useKMeansPP, max_iter):\n",
    "        self.K = K\n",
    "        self.useKMeansPP = useKMeansPP\n",
    "        self.max_iter = max_iter\n",
    "\n",
    "    def fit(self, X):\n",
    "        self.X = X\n",
    "        \n",
    "        K = self.K\n",
    "        useKMeansPP = self.useKMeansPP\n",
    "        max_iter = self.max_iter\n",
    "        obj_func = []\n",
    "        \n",
    "        if useKMeansPP == False :\n",
    "            centroids = X[np.random.choice(range(0, X.shape[0]),K),:]\n",
    "            centroids = np.array(centroids)\n",
    "        elif useKMeansPP == True :\n",
    "            all_layers = set(range(0,X.shape[0]))\n",
    "            first = random.sample(all_layers, 1)[0]\n",
    "            centroids = [X[first]]\n",
    "            all_layers.remove(first)\n",
    "            while len(centroids) < K :\n",
    "                distances = [np.linalg.norm(X[first]-X[index]) for index in all_layers]\n",
    "                scaled_dist = [distance/np.sum(distances) for distance in distances]\n",
    "                cummul_dist = np.cumsum(scaled_dist)\n",
    "                new_draw = next(x[0] for x in enumerate(cummul_dist) if x[1] >= np.random.uniform())\n",
    "                take_draw = zip(all_layers, range(len(cummul_dist)))[new_draw][0]\n",
    "                all_layers.remove(take_draw)\n",
    "                centroids.append(X[take_draw])\n",
    "            centroids = np.array(centroids)\n",
    "        else :\n",
    "            raise Exception('Must use boolean')\n",
    "        \n",
    "        iteration = 0\n",
    "        new_centroids = np.array([np.zeros((28,28))] * K)\n",
    "\n",
    "        while np.array([el[0] == el[1] for el in zip(new_centroids, centroids)]).all() == False and iteration < max_iter: \n",
    "            if iteration != 0 :\n",
    "                centroids = np.array(new_centroids)\n",
    "\n",
    "            cluster_lists = defaultdict(list)\n",
    "            score = 0\n",
    "            for layer in X :\n",
    "                closest_centroid = np.argmin([np.linalg.norm(layer-centroid) for centroid in centroids])\n",
    "                score += int((np.linalg.norm(layer-centroids[closest_centroid]))**2)\n",
    "                cluster_lists[closest_centroid].append(layer)\n",
    "\n",
    "            new_centroids = []\n",
    "            for cluster in cluster_lists.keys() :\n",
    "                new_centroids.append(np.mean(cluster_lists[cluster], axis=0))\n",
    "            new_centroids = np.array(new_centroids)\n",
    "\n",
    "            print \"Epoch: \" + str(iteration) + \" --- Score: \" + str(score) + \" --- Clusters: \" + str(len(new_centroids))\n",
    "            obj_func.append(score)\n",
    "            iteration += 1\n",
    "        \n",
    "        self.new_centroids = np.array(new_centroids)\n",
    "        self.obj_func = obj_func\n",
    "        \n",
    "    def get_obj_func(self):\n",
    "        return self.obj_func\n",
    "\n",
    "    def get_mean_images(self):\n",
    "        return self.new_centroids\n",
    "\n",
    "    def get_representative_images(self, D):\n",
    "        self.D = D\n",
    "        \n",
    "        X = self.X\n",
    "        new_centroids = self.new_centroids\n",
    "        \n",
    "        representative = defaultdict(list)\n",
    "        rep_list = defaultdict(partial(np.ndarray, 0))\n",
    "        for cluster, mean in zip(range(len(new_centroids)), new_centroids) :\n",
    "            for index, layer in zip(range(X.shape[0]), X) :\n",
    "                representative[cluster].append((index,np.linalg.norm(mean-layer)))\n",
    "            representative[cluster] = sorted(representative[cluster], key=lambda x: x[1])[0:D]\n",
    "            for rep in representative[cluster] :\n",
    "                if rep_list[cluster].shape[0] == 0:\n",
    "                    rep_list[cluster] = X[rep[0],:]\n",
    "                else :\n",
    "                    rep_list[cluster] = np.dstack((rep_list[cluster],X[rep[0],:]))\n",
    "            rep_list[cluster] = rep_list[cluster].T\n",
    "        rep_images = rep_list.values()\n",
    "        return np.array([np.array([unit.T for unit in cluster]) for cluster in rep_images])\n",
    "\n",
    "    def create_image_from_array(self, img_array):\n",
    "        plt.figure()\n",
    "        plt.imshow(img_array, cmap='Greys_r')\n",
    "        plt.show()\n",
    "        return\n",
    "    \n",
    "    def create_image_from_list(self, img_array_list):\n",
    "        n_rows = np.ceil(len(img_array_list) / 5.0)\n",
    "        for i, somerow in zip(range(len(img_array_list)), img_array_list) :\n",
    "            plt.subplot(n_rows, 5, i)\n",
    "            plt.imshow(somerow)"
   ]
  },
  {
   "cell_type": "code",
   "execution_count": 125,
   "metadata": {
    "collapsed": false
   },
   "outputs": [
    {
     "name": "stdout",
     "output_type": "stream",
     "text": [
      "(46657, 26)\n"
     ]
    }
   ],
   "source": [
    "X = summed_train.sample(frac=0.2)\n",
    "X_train = np.array(X.drop('user',axis=1))\n",
    "X_names = X['user']\n",
    "print X_train.shape"
   ]
  },
  {
   "cell_type": "code",
   "execution_count": 126,
   "metadata": {
    "collapsed": false,
    "scrolled": true
   },
   "outputs": [
    {
     "name": "stdout",
     "output_type": "stream",
     "text": [
      "Epoch: 0 --- Score: 1160901823745 --- Clusters: 50\n",
      "Epoch: 1 --- Score: 978319879222 --- Clusters: 50\n",
      "Epoch: 2 --- Score: 912418791630 --- Clusters: 50\n",
      "Epoch: 3 --- Score: 873611808742 --- Clusters: 50\n",
      "Epoch: 4 --- Score: 844535001046 --- Clusters: 50\n",
      "Epoch: 5 --- Score: 821542936104 --- Clusters: 50\n",
      "Epoch: 6 --- Score: 801533464988 --- Clusters: 50\n",
      "Epoch: 7 --- Score: 784658788391 --- Clusters: 50\n",
      "Epoch: 8 --- Score: 767510191976 --- Clusters: 50\n",
      "Epoch: 9 --- Score: 747135111367 --- Clusters: 50\n"
     ]
    }
   ],
   "source": [
    "KMeansClassifier = KMeans(K=50, useKMeansPP=False, max_iter=10)\n",
    "KMeansClassifier.fit(X_train)"
   ]
  },
  {
   "cell_type": "code",
   "execution_count": 129,
   "metadata": {
    "collapsed": false
   },
   "outputs": [],
   "source": [
    "clusters = KMeansClassifier.get_mean_images()"
   ]
  },
  {
   "cell_type": "code",
   "execution_count": 154,
   "metadata": {
    "collapsed": false
   },
   "outputs": [
    {
     "name": "stdout",
     "output_type": "stream",
     "text": [
      "genre_punk\n"
     ]
    },
    {
     "data": {
      "image/png": "[encoded data removed]",
      "text/plain": [
       "<matplotlib.figure.Figure at 0x111dd5b90>"
      ]
     },
     "metadata": {},
     "output_type": "display_data"
    }
   ],
   "source": [
    "m=16\n",
    "print keep_cols[m+1]\n",
    "medians = []\n",
    "for i in range(50) :\n",
    "    medians.append(clusters[i][m])\n",
    "plt.hist(medians);"
   ]
  },
  {
   "cell_type": "code",
   "execution_count": 204,
   "metadata": {
    "collapsed": false
   },
   "outputs": [
    {
     "data": {
      "image/png": "[encoded data removed]",
      "text/plain": [
       "<matplotlib.figure.Figure at 0x112830910>"
      ]
     },
     "metadata": {},
     "output_type": "display_data"
    }
   ],
   "source": [
    "index = np.random.randint(len(X_names))\n",
    "user_name = X_names[index:index+1].tolist()[0]\n",
    "\n",
    "minscore = 1e10\n",
    "bestindex = -1\n",
    "for i in range(len(clusters)) :\n",
    "    score = np.linalg.norm(clusters[i] - np.array(X[X.user == user_name].drop('user',axis=1)))\n",
    "    if score < minscore :\n",
    "        minscore = score\n",
    "        bestindex = i\n",
    "plt.scatter(range(26),clusters[bestindex]);\n",
    "plt.scatter(range(26),np.array(X[X.user == user_name].drop('user',axis=1)),color=\"r\");"
   ]
  },
  {
   "cell_type": "code",
   "execution_count": 246,
   "metadata": {
    "collapsed": true
   },
   "outputs": [],
   "source": [
    "bestCluster = defaultdict(list)\n",
    "import time"
   ]
  },
  {
   "cell_type": "code",
   "execution_count": 248,
   "metadata": {
    "collapsed": false
   },
   "outputs": [
    {
     "ename": "KeyboardInterrupt",
     "evalue": "",
     "output_type": "error",
     "traceback": [
      "\u001b[0;31m---------------------------------------------------------------------------\u001b[0m",
      "\u001b[0;31mKeyboardInterrupt\u001b[0m                         Traceback (most recent call last)",
      "\u001b[0;32m<ipython-input-248-cf4bdff36eac>\u001b[0m in \u001b[0;36m<module>\u001b[0;34m()\u001b[0m\n\u001b[1;32m      1\u001b[0m \u001b[0mstart\u001b[0m \u001b[0;34m=\u001b[0m \u001b[0mtime\u001b[0m\u001b[0;34m.\u001b[0m\u001b[0mclock\u001b[0m\u001b[0;34m(\u001b[0m\u001b[0;34m)\u001b[0m\u001b[0;34m\u001b[0m\u001b[0m\n\u001b[1;32m      2\u001b[0m \u001b[0;32mfor\u001b[0m \u001b[0mj\u001b[0m \u001b[0;32min\u001b[0m \u001b[0msummed_train\u001b[0m\u001b[0;34m.\u001b[0m\u001b[0miterrows\u001b[0m\u001b[0;34m(\u001b[0m\u001b[0;34m)\u001b[0m \u001b[0;34m:\u001b[0m\u001b[0;34m\u001b[0m\u001b[0m\n\u001b[0;32m----> 3\u001b[0;31m     \u001b[0mclosest_centroid\u001b[0m \u001b[0;34m=\u001b[0m \u001b[0mnp\u001b[0m\u001b[0;34m.\u001b[0m\u001b[0margmin\u001b[0m\u001b[0;34m(\u001b[0m\u001b[0;34m[\u001b[0m\u001b[0mnp\u001b[0m\u001b[0;34m.\u001b[0m\u001b[0mlinalg\u001b[0m\u001b[0;34m.\u001b[0m\u001b[0mnorm\u001b[0m\u001b[0;34m(\u001b[0m\u001b[0mnp\u001b[0m\u001b[0;34m.\u001b[0m\u001b[0marray\u001b[0m\u001b[0;34m(\u001b[0m\u001b[0mj\u001b[0m\u001b[0;34m[\u001b[0m\u001b[0;36m1\u001b[0m\u001b[0;34m]\u001b[0m\u001b[0;34m[\u001b[0m\u001b[0;36m1\u001b[0m\u001b[0;34m:\u001b[0m\u001b[0;34m]\u001b[0m\u001b[0;34m)\u001b[0m\u001b[0;34m-\u001b[0m\u001b[0mcluster\u001b[0m\u001b[0;34m)\u001b[0m \u001b[0;32mfor\u001b[0m \u001b[0mcluster\u001b[0m \u001b[0;32min\u001b[0m \u001b[0mclusters\u001b[0m\u001b[0;34m]\u001b[0m\u001b[0;34m)\u001b[0m\u001b[0;34m\u001b[0m\u001b[0m\n\u001b[0m\u001b[1;32m      4\u001b[0m     \u001b[0mbestCluster\u001b[0m\u001b[0;34m[\u001b[0m\u001b[0mclosest_centroid\u001b[0m\u001b[0;34m]\u001b[0m\u001b[0;34m.\u001b[0m\u001b[0mappend\u001b[0m\u001b[0;34m(\u001b[0m\u001b[0mj\u001b[0m\u001b[0;34m[\u001b[0m\u001b[0;36m1\u001b[0m\u001b[0;34m]\u001b[0m\u001b[0;34m[\u001b[0m\u001b[0;34m'user'\u001b[0m\u001b[0;34m]\u001b[0m\u001b[0;34m)\u001b[0m\u001b[0;34m\u001b[0m\u001b[0m\n\u001b[1;32m      5\u001b[0m \u001b[0;32mprint\u001b[0m \u001b[0;34m(\u001b[0m\u001b[0mtime\u001b[0m\u001b[0;34m.\u001b[0m\u001b[0mclock\u001b[0m\u001b[0;34m(\u001b[0m\u001b[0;34m)\u001b[0m \u001b[0;34m-\u001b[0m \u001b[0mstart\u001b[0m\u001b[0;34m)\u001b[0m\u001b[0;34m\u001b[0m\u001b[0m\n",
      "\u001b[0;32m//anaconda/lib/python2.7/site-packages/pandas/core/series.pyc\u001b[0m in \u001b[0;36m__getitem__\u001b[0;34m(self, key)\u001b[0m\n\u001b[1;32m    559\u001b[0m             \u001b[0mkey\u001b[0m \u001b[0;34m=\u001b[0m \u001b[0mcheck_bool_indexer\u001b[0m\u001b[0;34m(\u001b[0m\u001b[0mself\u001b[0m\u001b[0;34m.\u001b[0m\u001b[0mindex\u001b[0m\u001b[0;34m,\u001b[0m \u001b[0mkey\u001b[0m\u001b[0;34m)\u001b[0m\u001b[0;34m\u001b[0m\u001b[0m\n\u001b[1;32m    560\u001b[0m \u001b[0;34m\u001b[0m\u001b[0m\n\u001b[0;32m--> 561\u001b[0;31m         \u001b[0;32mreturn\u001b[0m \u001b[0mself\u001b[0m\u001b[0;34m.\u001b[0m\u001b[0m_get_with\u001b[0m\u001b[0;34m(\u001b[0m\u001b[0mkey\u001b[0m\u001b[0;34m)\u001b[0m\u001b[0;34m\u001b[0m\u001b[0m\n\u001b[0m\u001b[1;32m    562\u001b[0m \u001b[0;34m\u001b[0m\u001b[0m\n\u001b[1;32m    563\u001b[0m     \u001b[0;32mdef\u001b[0m \u001b[0m_get_with\u001b[0m\u001b[0;34m(\u001b[0m\u001b[0mself\u001b[0m\u001b[0;34m,\u001b[0m \u001b[0mkey\u001b[0m\u001b[0;34m)\u001b[0m\u001b[0;34m:\u001b[0m\u001b[0;34m\u001b[0m\u001b[0m\n",
      "\u001b[0;32m//anaconda/lib/python2.7/site-packages/pandas/core/series.pyc\u001b[0m in \u001b[0;36m_get_with\u001b[0;34m(self, key)\u001b[0m\n\u001b[1;32m    564\u001b[0m         \u001b[0;31m# other: fancy integer or otherwise\u001b[0m\u001b[0;34m\u001b[0m\u001b[0;34m\u001b[0m\u001b[0m\n\u001b[1;32m    565\u001b[0m         \u001b[0;32mif\u001b[0m \u001b[0misinstance\u001b[0m\u001b[0;34m(\u001b[0m\u001b[0mkey\u001b[0m\u001b[0;34m,\u001b[0m \u001b[0mslice\u001b[0m\u001b[0;34m)\u001b[0m\u001b[0;34m:\u001b[0m\u001b[0;34m\u001b[0m\u001b[0m\n\u001b[0;32m--> 566\u001b[0;31m             \u001b[0mindexer\u001b[0m \u001b[0;34m=\u001b[0m \u001b[0mself\u001b[0m\u001b[0;34m.\u001b[0m\u001b[0mindex\u001b[0m\u001b[0;34m.\u001b[0m\u001b[0m_convert_slice_indexer\u001b[0m\u001b[0;34m(\u001b[0m\u001b[0mkey\u001b[0m\u001b[0;34m,\u001b[0m \u001b[0mkind\u001b[0m\u001b[0;34m=\u001b[0m\u001b[0;34m'getitem'\u001b[0m\u001b[0;34m)\u001b[0m\u001b[0;34m\u001b[0m\u001b[0m\n\u001b[0m\u001b[1;32m    567\u001b[0m             \u001b[0;32mreturn\u001b[0m \u001b[0mself\u001b[0m\u001b[0;34m.\u001b[0m\u001b[0m_get_values\u001b[0m\u001b[0;34m(\u001b[0m\u001b[0mindexer\u001b[0m\u001b[0;34m)\u001b[0m\u001b[0;34m\u001b[0m\u001b[0m\n\u001b[1;32m    568\u001b[0m         \u001b[0;32melif\u001b[0m \u001b[0misinstance\u001b[0m\u001b[0;34m(\u001b[0m\u001b[0mkey\u001b[0m\u001b[0;34m,\u001b[0m \u001b[0mABCDataFrame\u001b[0m\u001b[0;34m)\u001b[0m\u001b[0;34m:\u001b[0m\u001b[0;34m\u001b[0m\u001b[0m\n",
      "\u001b[0;32m//anaconda/lib/python2.7/site-packages/pandas/core/index.pyc\u001b[0m in \u001b[0;36m_convert_slice_indexer\u001b[0;34m(self, key, kind)\u001b[0m\n\u001b[1;32m    869\u001b[0m         \u001b[0mstart\u001b[0m\u001b[0;34m,\u001b[0m \u001b[0mstop\u001b[0m\u001b[0;34m,\u001b[0m \u001b[0mstep\u001b[0m \u001b[0;34m=\u001b[0m \u001b[0mkey\u001b[0m\u001b[0;34m.\u001b[0m\u001b[0mstart\u001b[0m\u001b[0;34m,\u001b[0m \u001b[0mkey\u001b[0m\u001b[0;34m.\u001b[0m\u001b[0mstop\u001b[0m\u001b[0;34m,\u001b[0m \u001b[0mkey\u001b[0m\u001b[0;34m.\u001b[0m\u001b[0mstep\u001b[0m\u001b[0;34m\u001b[0m\u001b[0m\n\u001b[1;32m    870\u001b[0m \u001b[0;34m\u001b[0m\u001b[0m\n\u001b[0;32m--> 871\u001b[0;31m         \u001b[0;32mdef\u001b[0m \u001b[0mis_int\u001b[0m\u001b[0;34m(\u001b[0m\u001b[0mv\u001b[0m\u001b[0;34m)\u001b[0m\u001b[0;34m:\u001b[0m\u001b[0;34m\u001b[0m\u001b[0m\n\u001b[0m\u001b[1;32m    872\u001b[0m             \u001b[0;32mreturn\u001b[0m \u001b[0mv\u001b[0m \u001b[0;32mis\u001b[0m \u001b[0mNone\u001b[0m \u001b[0;32mor\u001b[0m \u001b[0mis_integer\u001b[0m\u001b[0;34m(\u001b[0m\u001b[0mv\u001b[0m\u001b[0;34m)\u001b[0m\u001b[0;34m\u001b[0m\u001b[0m\n\u001b[1;32m    873\u001b[0m \u001b[0;34m\u001b[0m\u001b[0m\n",
      "\u001b[0;31mKeyboardInterrupt\u001b[0m: "
     ]
    }
   ],
   "source": [
    "start = time.clock()\n",
    "for j in summed_train.iterrows() :\n",
    "    closest_centroid = np.argmin([np.linalg.norm(np.array(j[1][1:])-cluster) for cluster in clusters])\n",
    "    bestCluster[closest_centroid].append(j[1]['user'])\n",
    "print (time.clock() - start)"
   ]
  },
  {
   "cell_type": "code",
   "execution_count": 243,
   "metadata": {
    "collapsed": false
   },
   "outputs": [],
   "source": [
    "sample = summed_train[0:1000]"
   ]
  },
  {
   "cell_type": "code",
   "execution_count": null,
   "metadata": {
    "collapsed": true
   },
   "outputs": [],
   "source": []
  }
 ],
 "metadata": {
  "kernelspec": {
   "display_name": "Python 2",
   "language": "python",
   "name": "python2"
  },
  "language_info": {
   "codemirror_mode": {
    "name": "ipython",
    "version": 2
   },
   "file_extension": ".py",
   "mimetype": "text/x-python",
   "name": "python",
   "nbconvert_exporter": "python",
   "pygments_lexer": "ipython2",
   "version": "2.7.10"
  }
 },
 "nbformat": 4,
 "nbformat_minor": 0
}
