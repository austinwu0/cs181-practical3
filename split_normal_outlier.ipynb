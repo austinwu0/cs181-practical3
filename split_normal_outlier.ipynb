{
 "cells": [
  {
   "cell_type": "code",
   "execution_count": 1,
   "metadata": {
    "collapsed": true
   },
   "outputs": [],
   "source": [
    "import pandas as pd\n",
    "import numpy as np\n",
    "import requests\n",
    "import time\n",
    "import re\n",
    "import json\n",
    "import time\n",
    "import random\n",
    "\n",
    "import spotipy\n",
    "import tweepy\n",
    "\n",
    "from bs4 import BeautifulSoup\n",
    "from matplotlib import pyplot as plt\n",
    "from collections import defaultdict\n",
    "from collections import deque\n",
    "from fake_useragent import UserAgent\n",
    "\n",
    "%matplotlib inline"
   ]
  },
  {
   "cell_type": "code",
   "execution_count": 37,
   "metadata": {
    "collapsed": false
   },
   "outputs": [],
   "source": [
    "test = pd.read_csv(\"helper/test.csv\")\n",
    "train = pd.read_csv(\"helper/train.csv\")\n",
    "artists = pd.read_csv(\"helper/artists.csv\")\n",
    "profiles = pd.read_csv(\"helper/profiles.csv\")"
   ]
  },
  {
   "cell_type": "code",
   "execution_count": 38,
   "metadata": {
    "collapsed": false
   },
   "outputs": [],
   "source": [
    "median_age = profiles.age.median()\n",
    "profiles.age = [median_age if (age > 110) or (age < 0) or (pd.isnull(age)) else age for age in profiles.age]"
   ]
  },
  {
   "cell_type": "code",
   "execution_count": 35,
   "metadata": {
    "collapsed": false
   },
   "outputs": [
    {
     "data": {
      "text/plain": [
       "(2000, 201)"
      ]
     },
     "execution_count": 35,
     "metadata": {},
     "output_type": "execute_result"
    }
   ],
   "source": [
    "artistdf = pd.read_pickle('helper/artist_df.pkl')\n",
    "artistdf = artistdf.rename(columns={'artist_id' : 'artist'})\n",
    "artistdf.shape"
   ]
  },
  {
   "cell_type": "code",
   "execution_count": 5,
   "metadata": {
    "collapsed": false
   },
   "outputs": [
    {
     "name": "stdout",
     "output_type": "stream",
     "text": [
      "106.0\n"
     ]
    }
   ],
   "source": [
    "user_medians = {}\n",
    "for user in train.groupby('user') :\n",
    "    user_medians[user[0]] = user[1]['plays'].median()\n",
    "    \n",
    "GLOBAL_USER_MEDIAN = np.median(user_medians.values())\n",
    "print GLOBAL_USER_MEDIAN"
   ]
  },
  {
   "cell_type": "code",
   "execution_count": 6,
   "metadata": {
    "collapsed": false
   },
   "outputs": [
    {
     "name": "stdout",
     "output_type": "stream",
     "text": [
      "113.0\n"
     ]
    }
   ],
   "source": [
    "artist_medians = {}\n",
    "for artist in train.groupby('artist') :\n",
    "    artist_medians[artist[0]] = artist[1]['plays'].median()\n",
    "    \n",
    "GLOBAL_ARTIST_MEDIAN = np.median(artist_medians.values())\n",
    "print GLOBAL_ARTIST_MEDIAN "
   ]
  },
  {
   "cell_type": "code",
   "execution_count": 7,
   "metadata": {
    "collapsed": false
   },
   "outputs": [],
   "source": [
    "def add_medians(df, user_medians, artist_medians) :\n",
    "    df2 = df.copy()\n",
    "    df2['user_median'] = [user_medians[user] for user in df2['user']]\n",
    "    df2['artist_median'] = [artist_medians[artist] for artist in df2['artist']]\n",
    "    return df2"
   ]
  },
  {
   "cell_type": "code",
   "execution_count": 8,
   "metadata": {
    "collapsed": false
   },
   "outputs": [],
   "source": [
    "sorted_user_medians = sorted(user_medians.items(), key=lambda x: x[1], reverse=True)\n",
    "outlier_users = [el[0] for el in sorted_user_medians if el[1] > 1000]\n",
    "normal_users = [el[0] for el in sorted_user_medians if el[1] <= 1000]"
   ]
  },
  {
   "cell_type": "code",
   "execution_count": 59,
   "metadata": {
    "collapsed": true
   },
   "outputs": [],
   "source": [
    "X_train_normal = train[train['user'].isin(normal_users)]\n",
    "X_train_normal = add_medians(X_train_normal, user_medians, artist_medians)\n",
    "\n",
    "X_train_outlier = train[train['user'].isin(outlier_users)]\n",
    "X_train_outlier = add_medians(X_train_outlier, user_medians, artist_medians)"
   ]
  },
  {
   "cell_type": "code",
   "execution_count": 60,
   "metadata": {
    "collapsed": false
   },
   "outputs": [],
   "source": [
    "X_test_normal = test[test['user'].isin(normal_users)]\n",
    "X_test_normal = add_medians(X_test_normal, user_medians, artist_medians)\n",
    "\n",
    "X_test_outlier = test[test['user'].isin(outlier_users)]\n",
    "X_test_outlier = add_medians(X_test_outlier, user_medians, artist_medians)"
   ]
  },
  {
   "cell_type": "code",
   "execution_count": 39,
   "metadata": {
    "collapsed": false
   },
   "outputs": [],
   "source": [
    "artistdf = artistdf[['artist','started','n_album','is_group','is_male']]\n",
    "profiles['is_male'] = pd.get_dummies(profiles[\"sex\"])[\"m\"]\n",
    "profiles['born'] = [2016 - age for age in profiles.age]\n",
    "profiles = profiles.drop(['country','sex','age'],axis=1)"
   ]
  },
  {
   "cell_type": "code",
   "execution_count": 45,
   "metadata": {
    "collapsed": false
   },
   "outputs": [],
   "source": [
    "X_train_normal_users = pd.merge(X_train_normal, profiles, on=\"user\")\n",
    "X_train_normal_artists = pd.merge(X_train_normal_users, artistdf, on=\"artist\").drop(['user','artist'],axis=1)\n",
    "X_train_normal_artists['age_diff'] = X_train_normal_artists['started'] - X_train_normal_artists['born']\n",
    "y_train_normal = X_train_normal_artists['plays']\n",
    "X_train_normal = X_train_normal_artists.drop(['plays','born','started'],axis=1)"
   ]
  },
  {
   "cell_type": "code",
   "execution_count": 48,
   "metadata": {
    "collapsed": false
   },
   "outputs": [],
   "source": [
    "X_train_outlier_users = pd.merge(X_train_outlier, profiles, on=\"user\")\n",
    "X_train_outlier_artists = pd.merge(X_train_outlier_users, artistdf, on=\"artist\").drop(['user','artist'],axis=1)\n",
    "X_train_outlier_artists['age_diff'] = X_train_outlier_artists['started'] - X_train_outlier_artists['born']\n",
    "y_train_outlier = X_train_outlier_artists['plays']\n",
    "X_train_outlier = X_train_outlier_artists.drop(['plays','born','started'],axis=1)"
   ]
  },
  {
   "cell_type": "code",
   "execution_count": 51,
   "metadata": {
    "collapsed": false
   },
   "outputs": [
    {
     "data": {
      "text/plain": [
       "LinearRegression(copy_X=True, fit_intercept=True, n_jobs=1, normalize=False)"
      ]
     },
     "execution_count": 51,
     "metadata": {},
     "output_type": "execute_result"
    }
   ],
   "source": [
    "from sklearn.linear_model import LinearRegression\n",
    "LR_normal = LinearRegression()\n",
    "LR_normal.fit(X_train_normal,y_train_normal)"
   ]
  },
  {
   "cell_type": "code",
   "execution_count": 52,
   "metadata": {
    "collapsed": false
   },
   "outputs": [
    {
     "data": {
      "text/plain": [
       "LinearRegression(copy_X=True, fit_intercept=True, n_jobs=1, normalize=False)"
      ]
     },
     "execution_count": 52,
     "metadata": {},
     "output_type": "execute_result"
    }
   ],
   "source": [
    "LR_outlier = LinearRegression()\n",
    "LR_outlier.fit(X_train_outlier,y_train_outlier)"
   ]
  },
  {
   "cell_type": "code",
   "execution_count": 61,
   "metadata": {
    "collapsed": false
   },
   "outputs": [],
   "source": [
    "X_test_normal_users = pd.merge(X_test_normal, profiles, on=\"user\")\n",
    "X_test_normal_artists = pd.merge(X_test_normal_users, artistdf, on=\"artist\").drop(['user','artist'],axis=1)\n",
    "X_test_normal_artists['age_diff'] = X_test_normal_artists['started'] - X_test_normal_artists['born']\n",
    "X_normal_ids = X_test_normal_artists['Id']\n",
    "X_test_normal = X_test_normal_artists.drop(['Id','born','started'],axis=1)"
   ]
  },
  {
   "cell_type": "code",
   "execution_count": 62,
   "metadata": {
    "collapsed": false
   },
   "outputs": [],
   "source": [
    "X_test_outlier_users = pd.merge(X_test_outlier, profiles, on=\"user\")\n",
    "X_test_outlier_artists = pd.merge(X_test_outlier_users, artistdf, on=\"artist\").drop(['user','artist'],axis=1)\n",
    "X_test_outlier_artists['age_diff'] = X_test_outlier_artists['started'] - X_test_outlier_artists['born']\n",
    "X_outlier_ids = X_test_outlier_artists['Id']\n",
    "X_test_outlier = X_test_outlier_artists.drop(['Id','born','started'],axis=1)"
   ]
  },
  {
   "cell_type": "code",
   "execution_count": 65,
   "metadata": {
    "collapsed": false
   },
   "outputs": [],
   "source": [
    "y_normal_pred = LR_normal.predict(X_test_normal)\n",
    "y_outlier_pred = LR_outlier.predict(X_test_outlier)"
   ]
  },
  {
   "cell_type": "code",
   "execution_count": 77,
   "metadata": {
    "collapsed": false
   },
   "outputs": [],
   "source": [
    "y_all_pred = list(y_normal_pred) + list(y_outlier_pred)\n",
    "ids = list(X_normal_ids) + list(X_outlier_ids)"
   ]
  },
  {
   "cell_type": "code",
   "execution_count": 80,
   "metadata": {
    "collapsed": false
   },
   "outputs": [],
   "source": [
    "toExport = pd.DataFrame()\n",
    "toExport['Id'] = ids\n",
    "toExport['plays'] = y_all_pred\n",
    "toExport.sort(\"Id\", inplace=True)\n",
    "toExport.to_csv('split_model.csv',index=False)"
   ]
  },
  {
   "cell_type": "code",
   "execution_count": 81,
   "metadata": {
    "collapsed": false
   },
   "outputs": [],
   "source": [
    "split_model = pd.read_csv('split_model.csv')"
   ]
  },
  {
   "cell_type": "code",
   "execution_count": 83,
   "metadata": {
    "collapsed": false
   },
   "outputs": [],
   "source": [
    "user_medians = pd.read_csv('user_median.csv')"
   ]
  },
  {
   "cell_type": "code",
   "execution_count": null,
   "metadata": {
    "collapsed": true
   },
   "outputs": [],
   "source": []
  }
 ],
 "metadata": {
  "kernelspec": {
   "display_name": "Python 2",
   "language": "python",
   "name": "python2"
  },
  "language_info": {
   "codemirror_mode": {
    "name": "ipython",
    "version": 2
   },
   "file_extension": ".py",
   "mimetype": "text/x-python",
   "name": "python",
   "nbconvert_exporter": "python",
   "pygments_lexer": "ipython2",
   "version": "2.7.10"
  }
 },
 "nbformat": 4,
 "nbformat_minor": 0
}
